{
 "cells": [
  {
   "cell_type": "markdown",
   "metadata": {},
   "source": [
    "# Парсер для сбора данных о банках"
   ]
  },
  {
   "cell_type": "code",
   "execution_count": 2,
   "metadata": {
    "collapsed": true
   },
   "outputs": [],
   "source": [
    "import requests\n",
    "import numpy as np\n",
    "import datetime\n",
    "import re\n",
    "from bs4 import BeautifulSoup\n",
    "\n",
    "from multiprocessing import Pool\n",
    "\n",
    "import time\n",
    "import pandas as pd\n",
    "\n",
    "import re\n",
    "import math"
   ]
  },
  {
   "cell_type": "markdown",
   "metadata": {},
   "source": [
    "# Сбор данных по одной странице"
   ]
  },
  {
   "cell_type": "code",
   "execution_count": 24,
   "metadata": {
    "collapsed": true
   },
   "outputs": [],
   "source": [
    "# Функция, которая скачивает одну конкретную страницу\n",
    "# page - номер страницы в списке\n",
    "# Id - номер показателя \n",
    "# date1 - первая дата в табличке\n",
    "# date2 - вторая дата в табличке\n",
    "\n",
    "def getPage(page,ID,date1,date2):\n",
    "    mainpage = 'http://www.banki.ru/banks/ratings/?PROPERTY_ID='+ ID +'&search[type]=name&sort_param=rating&sort_order=ASC&REGION_ID=0&date1='+ date1 +'&date2='+ date2 +'&IS_SHOW_GROUP=0&PAGEN_1='+ page\n",
    "    html = pd.read_html(io = mainpage, keep_default_na = False, na_values = 'н/д', decimal = ',')\n",
    "    # thousands = ''\n",
    "    soup = pd.DataFrame(html[2]) \n",
    "    return(soup)"
   ]
  },
  {
   "cell_type": "markdown",
   "metadata": {},
   "source": [
    "# Циклы\n",
    "\n",
    "Всего у парсера будет три цикла. Один цикл по показателям, второй цикл вглубину таблицы, третий цикл по смене дат."
   ]
  },
  {
   "cell_type": "code",
   "execution_count": 110,
   "metadata": {
    "collapsed": true
   },
   "outputs": [],
   "source": [
    "# Проход по конкретной странице и дате вглубину \n",
    "def Page_Deep(data1,data2,ID):\n",
    "\n",
    "    k = 0\n",
    "    i = 1\n",
    "    while i < 20:\n",
    "        if k == 0:\n",
    "            data = getPage(str(i),ID,data1,data2)\n",
    "            if data.iloc[:,3].count() == 0:\n",
    "                i = i + 1\n",
    "                continue\n",
    "            else:\n",
    "                k = 1\n",
    "                i = i + 1\n",
    "        cur_page_data = getPage(str(i),ID,data1,data2)\n",
    "        if cur_page_data.iloc[:,3].count() == 0:\n",
    "            i = i + 1\n",
    "            continue\n",
    "        data = pd.concat([data, cur_page_data])\n",
    "        #data.append(cur_page_data)\n",
    "        if len(cur_page_data) < 50:\n",
    "            break\n",
    "        i = i + 1\n",
    "    return(data)\n",
    "\n",
    "\n",
    "# Сгенерируем лист из дат, которые необходимо пробежать.\n",
    "# февраль 17 - март 08  (2017-02-01 до  2008-03-01)\n",
    "years = [str(item) for item in range(2010,2018)]\n",
    "months = [str(item) for item in range(1,13)]\n",
    "months2 = [ ]\n",
    "for item in months:\n",
    "    if len(item)==1:\n",
    "        item = '0'+item\n",
    "    months2.append(item)\n",
    "dats = [ ]\n",
    "for item in years:\n",
    "    for jtem in months2:\n",
    "        dats.append(item + '-' + jtem + '-01')\n",
    "\n",
    "\n",
    "\n",
    "# Функция, которая выгружает по датам 108 таблиц по конкретному показателю\n",
    "def One_ID_List_Date(ID):\n",
    "    all_data = [ ]\n",
    "    for idate in range(len(dats)-1):\n",
    "        try:\n",
    "            current_data = Page_Deep(dats[(idate+1)],dats[idate],ID)\n",
    "            ddf=pd.DataFrame(current_data)\n",
    "            ddf.columns = ['неважно','Лицензия_Банк',dats[(idate+1)],dats[idate],'неважно','неважно']\n",
    "            df = pd.DataFrame()\n",
    "            df['Лицензия_Банк']= ddf['Лицензия_Банк']\n",
    "            df[dats[(idate+1)]]=ddf[dats[(idate+1)]]\n",
    "            df[dats[idate]]=ddf[dats[idate]]\n",
    "            all_data.append(df)\n",
    "        except Exception:\n",
    "            all_data.append('Пропуск в данных')            \n",
    "    return(all_data)\n",
    "# Создаётся два дата фрейма из одного пересовываются дынные в другой... Кривовато получилось."
   ]
  },
  {
   "cell_type": "code",
   "execution_count": 26,
   "metadata": {
    "collapsed": true
   },
   "outputs": [],
   "source": [
    "# Функция, которая выгружает отдельный ID\n",
    "def get_ID(ID,dats):\n",
    "    k = 0\n",
    "    for date in range(len(dats)-1):\n",
    "        try:\n",
    "            if k == 0:\n",
    "                df = Page_Deep(dats[(date + 1)],dats[date],ID)\n",
    "                if len(df) == 0:\n",
    "                    df = pd.DataFrame()\n",
    "                    continue\n",
    "                else:\n",
    "                    k = 1\n",
    "                    df['дата'] = dats[(date + 1)]\n",
    "                    df.columns = ['drop1','Лицензия_банк','ИД_' + ID,'drop2','drop3', 'drop4', 'дата']\n",
    "                    df.drop(['drop1','drop2','drop3', 'drop4'], axis=1, inplace=True)   \n",
    "            df_0 = Page_Deep(dats[(date + 1)],dats[date],ID)\n",
    "            if len(df_0) == 0:\n",
    "                df_0 = pd.DataFrame()\n",
    "                continue\n",
    "            df_0['дата'] = dats[(date + 1)]\n",
    "            df_0.columns = ['drop1','Лицензия_банк','ИД_' + ID,'drop2','drop3', 'drop4', 'дата']\n",
    "            df_0.drop(['drop1','drop2','drop3','drop4'], axis=1, inplace=True)\n",
    "            df = pd.concat([df, df_0])\n",
    "            #data.append(cur_page_data)\n",
    "            df_0 = pd.DataFrame()\n",
    "        except Exception:\n",
    "            continue\n",
    "    return(df)"
   ]
  },
  {
   "cell_type": "markdown",
   "metadata": {
    "collapsed": true
   },
   "source": [
    "# Загрузим каждый показатель отдельно"
   ]
  },
  {
   "cell_type": "code",
   "execution_count": 13,
   "metadata": {},
   "outputs": [
    {
     "name": "stdout",
     "output_type": "stream",
     "text": [
      "--- 6699.352750778198 seconds ---\n"
     ]
    }
   ],
   "source": [
    "start_time = time.time() # время прохода по 1 индексу\n",
    "data_id_10 = get_ID('10', dats)\n",
    "data_id_10.to_csv('10' + '.csv',sep=',',header=True,index=False)\n",
    "print(\"--- %s seconds ---\" % (time.time() - start_time))  #время работы кода"
   ]
  },
  {
   "cell_type": "code",
   "execution_count": 28,
   "metadata": {},
   "outputs": [
    {
     "name": "stdout",
     "output_type": "stream",
     "text": [
      "--- 5825.775155305862 seconds ---\n"
     ]
    }
   ],
   "source": [
    "start_time = time.time() # время прохода по 1 индексу\n",
    "data_id_30 = get_ID('30', dats)\n",
    "data_id_30.to_csv('30_1' + '.csv',sep=',',header=True,index=False)\n",
    "print(\"--- %s seconds ---\" % (time.time() - start_time))  #время работы кода"
   ]
  },
  {
   "cell_type": "code",
   "execution_count": 29,
   "metadata": {},
   "outputs": [
    {
     "name": "stdout",
     "output_type": "stream",
     "text": [
      "--- 5897.56511926651 seconds ---\n"
     ]
    }
   ],
   "source": [
    "start_time = time.time() # время прохода по 1 индексу\n",
    "data_id_40 = get_ID('40', dats)\n",
    "data_id_40.to_csv('40_1' + '.csv',sep=',',header=True,index=False)\n",
    "print(\"--- %s seconds ---\" % (time.time() - start_time))  #время работы кода"
   ]
  },
  {
   "cell_type": "code",
   "execution_count": 30,
   "metadata": {},
   "outputs": [
    {
     "name": "stdout",
     "output_type": "stream",
     "text": [
      "--- 6016.22471165657 seconds ---\n"
     ]
    }
   ],
   "source": [
    "start_time = time.time() # время прохода по 1 индексу\n",
    "data_id_50 = get_ID('50', dats)\n",
    "data_id_50.to_csv('50_1' + '.csv',sep=',',header=True,index=False)\n",
    "print(\"--- %s seconds ---\" % (time.time() - start_time))  #время работы кода"
   ]
  },
  {
   "cell_type": "code",
   "execution_count": 31,
   "metadata": {},
   "outputs": [
    {
     "name": "stdout",
     "output_type": "stream",
     "text": [
      "--- 6166.177207946777 seconds ---\n"
     ]
    }
   ],
   "source": [
    "start_time = time.time() # время прохода по 1 индексу\n",
    "data_id_60 = get_ID('60', dats)\n",
    "data_id_60.to_csv('60_1' + '.csv',sep=',',header=True,index=False)\n",
    "print(\"--- %s seconds ---\" % (time.time() - start_time))  #время работы кода"
   ]
  },
  {
   "cell_type": "code",
   "execution_count": 32,
   "metadata": {},
   "outputs": [
    {
     "name": "stdout",
     "output_type": "stream",
     "text": [
      "--- 6025.059561729431 seconds ---\n"
     ]
    }
   ],
   "source": [
    "start_time = time.time() # время прохода по 1 индексу\n",
    "data_id_500 = get_ID('500', dats)\n",
    "data_id_500.to_csv('500_1' + '.csv',sep=',',header=True,index=False)\n",
    "print(\"--- %s seconds ---\" % (time.time() - start_time))  #время работы кода"
   ]
  },
  {
   "cell_type": "code",
   "execution_count": 33,
   "metadata": {},
   "outputs": [
    {
     "name": "stdout",
     "output_type": "stream",
     "text": [
      "--- 5822.108143091202 seconds ---\n"
     ]
    }
   ],
   "source": [
    "start_time = time.time() # время прохода по 1 индексу\n",
    "data_id_1000 = get_ID('1000', dats)\n",
    "data_id_1000.to_csv('1000_1' + '.csv',sep=',',header=True,index=False)\n",
    "print(\"--- %s seconds ---\" % (time.time() - start_time))  #время работы кода"
   ]
  },
  {
   "cell_type": "code",
   "execution_count": 34,
   "metadata": {},
   "outputs": [
    {
     "name": "stdout",
     "output_type": "stream",
     "text": [
      "--- 5098.475862264633 seconds ---\n"
     ]
    }
   ],
   "source": [
    "start_time = time.time() # время прохода по 1 индексу\n",
    "data_id_1100 = get_ID('1100', dats)\n",
    "data_id_1100.to_csv('1100_1' + '.csv',sep=',',header=True,index=False)\n",
    "print(\"--- %s seconds ---\" % (time.time() - start_time))  #время работы кода"
   ]
  },
  {
   "cell_type": "code",
   "execution_count": null,
   "metadata": {
    "collapsed": true
   },
   "outputs": [],
   "source": [
    "start_time = time.time() # время прохода по 1 индексу\n",
    "data_id_1550 = get_ID('1550', dats)\n",
    "data_id_1550.to_csv('1550' + '.csv',sep=',',header=True,index=False)\n",
    "print(\"--- %s seconds ---\" % (time.time() - start_time))  #время работы кода"
   ]
  },
  {
   "cell_type": "code",
   "execution_count": 49,
   "metadata": {},
   "outputs": [
    {
     "ename": "UnboundLocalError",
     "evalue": "local variable 'df' referenced before assignment",
     "output_type": "error",
     "traceback": [
      "\u001b[1;31m---------------------------------------------------------------------------\u001b[0m",
      "\u001b[1;31mUnboundLocalError\u001b[0m                         Traceback (most recent call last)",
      "\u001b[1;32m<ipython-input-49-1563ccb86938>\u001b[0m in \u001b[0;36m<module>\u001b[1;34m()\u001b[0m\n\u001b[0;32m      1\u001b[0m \u001b[0mstart_time\u001b[0m \u001b[1;33m=\u001b[0m \u001b[0mtime\u001b[0m\u001b[1;33m.\u001b[0m\u001b[0mtime\u001b[0m\u001b[1;33m(\u001b[0m\u001b[1;33m)\u001b[0m \u001b[1;31m# время прохода по 1 индексу\u001b[0m\u001b[1;33m\u001b[0m\u001b[0m\n\u001b[1;32m----> 2\u001b[1;33m \u001b[0mdata_id_200\u001b[0m \u001b[1;33m=\u001b[0m \u001b[0mget_ID\u001b[0m\u001b[1;33m(\u001b[0m\u001b[1;34m'200'\u001b[0m\u001b[1;33m,\u001b[0m \u001b[0mdats\u001b[0m\u001b[1;33m)\u001b[0m\u001b[1;33m\u001b[0m\u001b[0m\n\u001b[0m\u001b[0;32m      3\u001b[0m \u001b[0mdata_id_200\u001b[0m\u001b[1;33m.\u001b[0m\u001b[0mto_csv\u001b[0m\u001b[1;33m(\u001b[0m\u001b[1;34m'200'\u001b[0m \u001b[1;33m+\u001b[0m \u001b[1;34m'.csv'\u001b[0m\u001b[1;33m,\u001b[0m\u001b[0msep\u001b[0m\u001b[1;33m=\u001b[0m\u001b[1;34m','\u001b[0m\u001b[1;33m,\u001b[0m\u001b[0mheader\u001b[0m\u001b[1;33m=\u001b[0m\u001b[1;32mTrue\u001b[0m\u001b[1;33m,\u001b[0m\u001b[0mindex\u001b[0m\u001b[1;33m=\u001b[0m\u001b[1;32mFalse\u001b[0m\u001b[1;33m)\u001b[0m\u001b[1;33m\u001b[0m\u001b[0m\n\u001b[0;32m      4\u001b[0m \u001b[0mprint\u001b[0m\u001b[1;33m(\u001b[0m\u001b[1;34m\"--- %s seconds ---\"\u001b[0m \u001b[1;33m%\u001b[0m \u001b[1;33m(\u001b[0m\u001b[0mtime\u001b[0m\u001b[1;33m.\u001b[0m\u001b[0mtime\u001b[0m\u001b[1;33m(\u001b[0m\u001b[1;33m)\u001b[0m \u001b[1;33m-\u001b[0m \u001b[0mstart_time\u001b[0m\u001b[1;33m)\u001b[0m\u001b[1;33m)\u001b[0m  \u001b[1;31m#время работы кода\u001b[0m\u001b[1;33m\u001b[0m\u001b[0m\n",
      "\u001b[1;32m<ipython-input-26-e267fb9d3313>\u001b[0m in \u001b[0;36mget_ID\u001b[1;34m(ID, dats)\u001b[0m\n\u001b[0;32m     25\u001b[0m         \u001b[1;32mexcept\u001b[0m \u001b[0mException\u001b[0m\u001b[1;33m:\u001b[0m\u001b[1;33m\u001b[0m\u001b[0m\n\u001b[0;32m     26\u001b[0m             \u001b[1;32mcontinue\u001b[0m\u001b[1;33m\u001b[0m\u001b[0m\n\u001b[1;32m---> 27\u001b[1;33m     \u001b[1;32mreturn\u001b[0m\u001b[1;33m(\u001b[0m\u001b[0mdf\u001b[0m\u001b[1;33m)\u001b[0m\u001b[1;33m\u001b[0m\u001b[0m\n\u001b[0m",
      "\u001b[1;31mUnboundLocalError\u001b[0m: local variable 'df' referenced before assignment"
     ]
    }
   ],
   "source": [
    "start_time = time.time() # время прохода по 1 индексу\n",
    "data_id_200 = get_ID('200', dats)\n",
    "data_id_200.to_csv('200' + '.csv',sep=',',header=True,index=False)\n",
    "print(\"--- %s seconds ---\" % (time.time() - start_time))  #время работы кода"
   ]
  },
  {
   "cell_type": "code",
   "execution_count": 35,
   "metadata": {},
   "outputs": [
    {
     "name": "stdout",
     "output_type": "stream",
     "text": [
      "--- 5958.13623714447 seconds ---\n"
     ]
    }
   ],
   "source": [
    "start_time = time.time() # время прохода по 1 индексу\n",
    "data_id_260 = get_ID('260', dats)\n",
    "data_id_260.to_csv('260_1' + '.csv',sep=',',header=True,index=False)\n",
    "print(\"--- %s seconds ---\" % (time.time() - start_time))  #время работы кода"
   ]
  },
  {
   "cell_type": "code",
   "execution_count": 36,
   "metadata": {},
   "outputs": [
    {
     "name": "stdout",
     "output_type": "stream",
     "text": [
      "--- 6164.034796714783 seconds ---\n"
     ]
    }
   ],
   "source": [
    "start_time = time.time() # время прохода по 1 индексу\n",
    "data_id_300 = get_ID('300', dats)\n",
    "data_id_300.to_csv('300_1' + '.csv',sep=',',header=True,index=False)\n",
    "print(\"--- %s seconds ---\" % (time.time() - start_time))  #время работы кода"
   ]
  },
  {
   "cell_type": "code",
   "execution_count": 37,
   "metadata": {},
   "outputs": [
    {
     "name": "stdout",
     "output_type": "stream",
     "text": [
      "--- 5627.413195848465 seconds ---\n"
     ]
    }
   ],
   "source": [
    "start_time = time.time() # время прохода по 1 индексу\n",
    "data_id_360 = get_ID('360', dats)\n",
    "data_id_360.to_csv('360_1' + '.csv',sep=',',header=True,index=False)\n",
    "print(\"--- %s seconds ---\" % (time.time() - start_time))  #время работы кода"
   ]
  },
  {
   "cell_type": "code",
   "execution_count": 38,
   "metadata": {},
   "outputs": [
    {
     "name": "stdout",
     "output_type": "stream",
     "text": [
      "--- 5355.459072589874 seconds ---\n"
     ]
    }
   ],
   "source": [
    "start_time = time.time() # время прохода по 1 индексу\n",
    "data_id_120 = get_ID('120', dats)\n",
    "data_id_120.to_csv('120_1' + '.csv',sep=',',header=True,index=False)\n",
    "print(\"--- %s seconds ---\" % (time.time() - start_time))  #время работы кода"
   ]
  },
  {
   "cell_type": "code",
   "execution_count": 39,
   "metadata": {},
   "outputs": [
    {
     "name": "stdout",
     "output_type": "stream",
     "text": [
      "--- 5268.723621606827 seconds ---\n"
     ]
    }
   ],
   "source": [
    "start_time = time.time() # время прохода по 1 индексу\n",
    "data_id_70 = get_ID('70', dats)\n",
    "data_id_70.to_csv('70_1' + '.csv',sep=',',header=True,index=False)\n",
    "print(\"--- %s seconds ---\" % (time.time() - start_time))  #время работы кода"
   ]
  },
  {
   "cell_type": "code",
   "execution_count": 40,
   "metadata": {},
   "outputs": [
    {
     "name": "stdout",
     "output_type": "stream",
     "text": [
      "--- 5331.582255125046 seconds ---\n"
     ]
    }
   ],
   "source": [
    "start_time = time.time() # время прохода по 1 индексу\n",
    "data_id_110 = get_ID('110', dats)\n",
    "data_id_110.to_csv('110_1' + '.csv',sep=',',header=True,index=False)\n",
    "print(\"--- %s seconds ---\" % (time.time() - start_time))  #время работы кода"
   ]
  },
  {
   "cell_type": "code",
   "execution_count": 41,
   "metadata": {},
   "outputs": [
    {
     "name": "stdout",
     "output_type": "stream",
     "text": [
      "--- 5732.0552983284 seconds ---\n"
     ]
    }
   ],
   "source": [
    "start_time = time.time() # время прохода по 1 индексу\n",
    "data_id_130 = get_ID('130', dats)\n",
    "data_id_130.to_csv('130_1' + '.csv',sep=',',header=True,index=False)\n",
    "print(\"--- %s seconds ---\" % (time.time() - start_time))  #время работы кода"
   ]
  },
  {
   "cell_type": "code",
   "execution_count": 42,
   "metadata": {},
   "outputs": [
    {
     "name": "stdout",
     "output_type": "stream",
     "text": [
      "--- 7008.158195257187 seconds ---\n"
     ]
    }
   ],
   "source": [
    "start_time = time.time() # время прохода по 1 индексу\n",
    "data_id_140 = get_ID('140', dats)\n",
    "data_id_140.to_csv('140_1' + '.csv',sep=',',header=True,index=False)\n",
    "print(\"--- %s seconds ---\" % (time.time() - start_time))  #время работы кода"
   ]
  },
  {
   "cell_type": "code",
   "execution_count": 43,
   "metadata": {},
   "outputs": [
    {
     "name": "stdout",
     "output_type": "stream",
     "text": [
      "--- 6766.209030866623 seconds ---\n"
     ]
    }
   ],
   "source": [
    "start_time = time.time() # время прохода по 1 индексу\n",
    "data_id_160 = get_ID('160', dats)\n",
    "data_id_160.to_csv('160_1' + '.csv',sep=',',header=True,index=False)\n",
    "print(\"--- %s seconds ---\" % (time.time() - start_time))  #время работы кода"
   ]
  },
  {
   "cell_type": "code",
   "execution_count": 44,
   "metadata": {},
   "outputs": [
    {
     "name": "stdout",
     "output_type": "stream",
     "text": [
      "--- 6071.912994623184 seconds ---\n"
     ]
    }
   ],
   "source": [
    "start_time = time.time() # время прохода по 1 индексу\n",
    "data_id_400 = get_ID('400', dats)\n",
    "data_id_400.to_csv('400_1' + '.csv',sep=',',header=True,index=False)\n",
    "print(\"--- %s seconds ---\" % (time.time() - start_time))  #время работы кода"
   ]
  },
  {
   "cell_type": "code",
   "execution_count": 46,
   "metadata": {},
   "outputs": [
    {
     "name": "stdout",
     "output_type": "stream",
     "text": [
      "--- 242.64277982711792 seconds ---\n"
     ]
    }
   ],
   "source": [
    "start_time = time.time() # время прохода по 1 индексу\n",
    "data_id_401 = get_ID('401', dats)\n",
    "data_id_401.to_csv('401_1' + '.csv',sep=',',header=True,index=False)\n",
    "print(\"--- %s seconds ---\" % (time.time() - start_time))  #время работы кода"
   ]
  },
  {
   "cell_type": "markdown",
   "metadata": {},
   "source": [
    "# Догружу те ID, про которые забыл"
   ]
  },
  {
   "cell_type": "code",
   "execution_count": 111,
   "metadata": {},
   "outputs": [
    {
     "name": "stdout",
     "output_type": "stream",
     "text": [
      "--- 7888.929535150528 seconds ---\n"
     ]
    }
   ],
   "source": [
    "start_time = time.time() # время прохода по 1 индексу\n",
    "data_id_401 = get_ID('200', dats)\n",
    "data_id_401.to_csv('200_1' + '.csv',sep=',',header=True,index=False)\n",
    "print(\"--- %s seconds ---\" % (time.time() - start_time))  #время работы кода"
   ]
  },
  {
   "cell_type": "markdown",
   "metadata": {},
   "source": [
    "+ 1100_1.csv уже загружен:)"
   ]
  },
  {
   "cell_type": "markdown",
   "metadata": {},
   "source": [
    "# у этих ID есть не все даты:("
   ]
  },
  {
   "cell_type": "code",
   "execution_count": 112,
   "metadata": {},
   "outputs": [
    {
     "name": "stdout",
     "output_type": "stream",
     "text": [
      "--- 1951.9117465019226 seconds ---\n"
     ]
    }
   ],
   "source": [
    "years = [str(item) for item in range(2015,2018)]\n",
    "months = [str(item) for item in range(1,13)]\n",
    "months2 = [ ]\n",
    "for item in months:\n",
    "    if len(item)==1:\n",
    "        item = '0'+item\n",
    "    months2.append(item)\n",
    "dats = [ ]\n",
    "for item in years:\n",
    "    for jtem in months2:\n",
    "        dats.append(item + '-' + jtem + '-01')\n",
    "        \n",
    "        \n",
    "start_time = time.time() # время прохода по 1 индексу\n",
    "data_id_401 = get_ID('1200', dats)\n",
    "data_id_401.to_csv('1200_1' + '.csv',sep=',',header=True,index=False)\n",
    "print(\"--- %s seconds ---\" % (time.time() - start_time))  #время работы кода"
   ]
  },
  {
   "cell_type": "code",
   "execution_count": 113,
   "metadata": {},
   "outputs": [
    {
     "name": "stdout",
     "output_type": "stream",
     "text": [
      "--- 1924.6526687145233 seconds ---\n"
     ]
    }
   ],
   "source": [
    "start_time = time.time() # время прохода по 1 индексу\n",
    "data_id_401 = get_ID('1300', dats)\n",
    "data_id_401.to_csv('1300_1' + '.csv',sep=',',header=True,index=False)\n",
    "print(\"--- %s seconds ---\" % (time.time() - start_time))  #время работы кода"
   ]
  },
  {
   "cell_type": "code",
   "execution_count": 114,
   "metadata": {},
   "outputs": [
    {
     "name": "stdout",
     "output_type": "stream",
     "text": [
      "--- 1804.0250220298767 seconds ---\n"
     ]
    }
   ],
   "source": [
    "start_time = time.time() # время прохода по 1 индексу\n",
    "data_id_401 = get_ID('1400', dats)\n",
    "data_id_401.to_csv('1400_1' + '.csv',sep=',',header=True,index=False)\n",
    "print(\"--- %s seconds ---\" % (time.time() - start_time))  #время работы кода"
   ]
  },
  {
   "cell_type": "code",
   "execution_count": 115,
   "metadata": {},
   "outputs": [
    {
     "name": "stdout",
     "output_type": "stream",
     "text": [
      "--- 1804.9547638893127 seconds ---\n"
     ]
    }
   ],
   "source": [
    "start_time = time.time() # время прохода по 1 индексу\n",
    "data_id_401 = get_ID('1500', dats)\n",
    "data_id_401.to_csv('1500_1' + '.csv',sep=',',header=True,index=False)\n",
    "print(\"--- %s seconds ---\" % (time.time() - start_time))  #время работы кода"
   ]
  },
  {
   "cell_type": "code",
   "execution_count": 116,
   "metadata": {},
   "outputs": [
    {
     "name": "stdout",
     "output_type": "stream",
     "text": [
      "--- 1748.1610455513 seconds ---\n"
     ]
    }
   ],
   "source": [
    "start_time = time.time() # время прохода по 1 индексу\n",
    "data_id_401 = get_ID('401', dats)\n",
    "data_id_401.to_csv('401_1' + '.csv',sep=',',header=True,index=False)\n",
    "print(\"--- %s seconds ---\" % (time.time() - start_time))  #время работы кода"
   ]
  },
  {
   "cell_type": "code",
   "execution_count": 124,
   "metadata": {},
   "outputs": [
    {
     "name": "stdout",
     "output_type": "stream",
     "text": [
      "--- 1707.7468400001526 seconds ---\n"
     ]
    }
   ],
   "source": [
    "start_time = time.time() # время прохода по 1 индексу\n",
    "data_id_401 = get_ID('1800', dats)\n",
    "data_id_401.to_csv('1800_1' + '.csv',sep=',',header=True,index=False)\n",
    "print(\"--- %s seconds ---\" % (time.time() - start_time))  #время работы кода"
   ]
  },
  {
   "cell_type": "code",
   "execution_count": 125,
   "metadata": {},
   "outputs": [
    {
     "name": "stdout",
     "output_type": "stream",
     "text": [
      "--- 1629.2353522777557 seconds ---\n"
     ]
    }
   ],
   "source": [
    "start_time = time.time() # время прохода по 1 индексу\n",
    "data_id_401 = get_ID('1700', dats)\n",
    "data_id_401.to_csv('1700_1' + '.csv',sep=',',header=True,index=False)\n",
    "print(\"--- %s seconds ---\" % (time.time() - start_time))  #время работы кода"
   ]
  },
  {
   "cell_type": "code",
   "execution_count": 126,
   "metadata": {},
   "outputs": [
    {
     "name": "stdout",
     "output_type": "stream",
     "text": [
      "--- 1603.0239281654358 seconds ---\n"
     ]
    }
   ],
   "source": [
    "start_time = time.time() # время прохода по 1 индексу\n",
    "data_id_401 = get_ID('1600', dats)\n",
    "data_id_401.to_csv('1600_1' + '.csv',sep=',',header=True,index=False)\n",
    "print(\"--- %s seconds ---\" % (time.time() - start_time))  #время работы кода"
   ]
  },
  {
   "cell_type": "markdown",
   "metadata": {},
   "source": [
    "# Объединим вс епоказатели в один датафрей"
   ]
  },
  {
   "cell_type": "code",
   "execution_count": null,
   "metadata": {
    "collapsed": true
   },
   "outputs": [],
   "source": [
    "## Данные, которые нужны для модели\n",
    "\n",
    "Сопоставление критериев и их ID:\n",
    "\n",
    "+ Активы нетто: na     10\n",
    "+ Чистая прибыль ni    30\n",
    "(excel) + Капитал (по форме 123) c_123     25\n",
    "(excel) + Капитал (по форме 134) c_134     20\n",
    "+ Кредитный портфель credit_portf   40\n",
    "+ Просроченная задолженность в кредитном портфеле sunk_credit_portf   50\n",
    "+ Вклады физических лиц retail_deposit      60\n",
    "+ Средства предприятий и организаций organization_deposit   500\n",
    "+ Рентабельность активов-нетто ROA    1000\n",
    "+ Рентабельность капитала ROE         1100 \n",
    "- + Уровень просроченной задолженности по кредитному портфелю sunk_credit_perc   1200\n",
    "- + Уровень резервирования по кредитному портфелю reserv_credit_perc    1300\n",
    "- + Уровень обеспечения кредитного портфеля залогом имущества zalog_credit_perc      1400\n",
    "- + Валютный оборот к активам-нетто foreign_na            1500\n",
    "- + Н1 H1    1600\n",
    "- + Н2 H2    1700\n",
    "- + Н3 H3    1800\n",
    "+ Кредиты физическим лицам retail_credit    200\n",
    "+ Просроченная задолженность по кредитам физическим лицам sunk_retail_credit   260\n",
    "+ Кредиты предприятиям и организациям organization_credit   300\n",
    "+ Просроченная задолженность по кредитам предприятиям и организациям sunk_organization_credit_perc   360\n",
    "+ Выданные МБК ibl   120"
   ]
  },
  {
   "cell_type": "code",
   "execution_count": null,
   "metadata": {
    "collapsed": true
   },
   "outputs": [],
   "source": [
    "+ вложения в ценные бумаги:sec_tot 70 = подверженность рискам на фин рынках\n",
    "+ высоколиквидные активы: liquid 110\n",
    "+ вложения в акции sec 130\n",
    "+ вложения в облигации bond 140\n",
    "+ вложения в капиталы других организаций oth_cap 160\n",
    "+ вклады физических лиц retail 400\n",
    "- + вклады физических лиц оборот retail_deposit_fr 401"
   ]
  },
  {
   "cell_type": "code",
   "execution_count": 55,
   "metadata": {
    "collapsed": true
   },
   "outputs": [],
   "source": [
    "# Список из ID страничек и соответствующие им названия переменных. \n",
    "ID_list = ['10','30','25','20','40','50','60','500','1000','1100','1200','1300','1400','1500','1550',\\\n",
    "           '1600','1700','1800','200','260','300','360','120','70','110','130','140','160','400','401']\n",
    "\n",
    "ID_names_list = ['na','ni','c_123','c_134','cp','LLPGL','dep_f','dep_b','ROA','ROE','LLP','IR','LCP','fr_na',\\\n",
    "                 'fr','H1','H2','H3','c_f','LLP_c_f','c_b','LLP_c_b','ibl','sec_tot','liquid','sec','bond','oth_cap',\\\n",
    "                 'retail','retail_fr']"
   ]
  },
  {
   "cell_type": "markdown",
   "metadata": {},
   "source": [
    "На Мар-шаге мы скачали все необходимые нам показатели с сайта в кучу маленьких csv-табличек, которые нам теперь нужно переработать в одну большую таблицу, которую мы будем впоследствии использовать при оценки моделей. Самого по себе Reduce-шага здесь не будет. Будет Panel - шаг!\n",
    "\n",
    "Мы хотим, чтобы в итоговой таблице оформление было таким, чтобы было удобно в R работать с панелями. Вроде как итоговая таблица должна идти вот в таком формате:\n",
    "\n",
    "\n",
    "\n",
    "| Банк   | Год   | Показатель 1 | Показатель 2 | Показатель 3 |\n",
    "|--------|-------|--------------|--------------|--------------|\n",
    "| Банк 1 | Год 1 |              |              |              |\n",
    "| Банк 1 | Год 2 |              |              |              |\n",
    "| Банк 2 | Год 1 |              |              |              |\n",
    "| Банк 2 | Год 2 |              |              |              |"
   ]
  },
  {
   "cell_type": "code",
   "execution_count": 127,
   "metadata": {
    "collapsed": true
   },
   "outputs": [],
   "source": [
    "# Для начала неплохо было бы выявить список из уникальных банков! \n",
    "\n",
    "# Функция, которая обхелиняет два лоиста по уникалтным названиям \n",
    "# Она делает пересечение двух множеств \n",
    "def union(a, b):\n",
    "    return list(set(a) | set(b))\n",
    "\n",
    "# Делаем список из датафреймов, которые мы подгружаем из папки. \n",
    "frames = [pd.read_csv(strtem +'.csv', header=0, sep=',', encoding=\"cp1251\") for strtem in ['10', '1000_1','110_1','120_1','130_1', '140_1',\\\n",
    "                                                                                '160_1', '260_1', '30_1', '300_1', '360_1',\\\n",
    "                                                                               '40_1', '400_1', '50_1', '500_1', '60_1', '70_1', '1100_1',\\\n",
    "                                                                                '200_1','1300_1', '1400_1', '1500_1', '401_1',\\\n",
    "                                                                                '1800_1', '1700_1','1600_1']]\n",
    "\n",
    "def Uniq_banks(frames):\n",
    "    uniq_banks = list(frames[0]['Лицензия_банк'])\n",
    "    for item in ['10', '1000_1','110_1','120_1','130_1', '140_1','160_1', '260_1', '30_1', '300_1', '360_1','40_1', '400_1', '50_1', '500_1', '60_1', '70_1', '1100_1', '200_1','1300_1', '1400_1', '1500_1', '401_1', '1800_1', '1700_1','1600_1']:\n",
    "        uniq_banks = union(uniq_banks,item)\n",
    "    return(uniq_banks)\n",
    "\n",
    "uniq_banks = Uniq_banks(frames)"
   ]
  },
  {
   "cell_type": "code",
   "execution_count": 118,
   "metadata": {},
   "outputs": [
    {
     "data": {
      "text/plain": [
       "1176"
      ]
     },
     "execution_count": 118,
     "metadata": {},
     "output_type": "execute_result"
    }
   ],
   "source": [
    "len(uniq_banks)"
   ]
  },
  {
   "cell_type": "code",
   "execution_count": 287,
   "metadata": {},
   "outputs": [
    {
     "ename": "IndexError",
     "evalue": "list index out of range",
     "output_type": "error",
     "traceback": [
      "\u001b[1;31m---------------------------------------------------------------------------\u001b[0m",
      "\u001b[1;31mIndexError\u001b[0m                                Traceback (most recent call last)",
      "\u001b[1;32m<ipython-input-287-beca7e61a027>\u001b[0m in \u001b[0;36m<module>\u001b[1;34m()\u001b[0m\n\u001b[0;32m      3\u001b[0m \u001b[0mp\u001b[0m \u001b[1;33m=\u001b[0m \u001b[0mnp\u001b[0m\u001b[1;33m.\u001b[0m\u001b[0marray\u001b[0m\u001b[1;33m(\u001b[0m\u001b[0mrange\u001b[0m\u001b[1;33m(\u001b[0m\u001b[0mall_ok_v3\u001b[0m\u001b[1;33m.\u001b[0m\u001b[0mshape\u001b[0m\u001b[1;33m[\u001b[0m\u001b[1;36m0\u001b[0m\u001b[1;33m]\u001b[0m\u001b[1;33m)\u001b[0m\u001b[1;33m)\u001b[0m\u001b[1;33m\u001b[0m\u001b[0m\n\u001b[0;32m      4\u001b[0m \u001b[1;32mfor\u001b[0m \u001b[0mi\u001b[0m \u001b[1;32min\u001b[0m \u001b[0mrange\u001b[0m\u001b[1;33m(\u001b[0m\u001b[0mall_ok_v3\u001b[0m\u001b[1;33m.\u001b[0m\u001b[0mshape\u001b[0m\u001b[1;33m[\u001b[0m\u001b[1;36m0\u001b[0m\u001b[1;33m]\u001b[0m\u001b[1;33m)\u001b[0m\u001b[1;33m:\u001b[0m\u001b[1;33m\u001b[0m\u001b[0m\n\u001b[1;32m----> 5\u001b[1;33m     \u001b[0mp\u001b[0m\u001b[1;33m[\u001b[0m\u001b[0mi\u001b[0m\u001b[1;33m]\u001b[0m \u001b[1;33m=\u001b[0m \u001b[0mget_license\u001b[0m\u001b[1;33m(\u001b[0m\u001b[0mall_ok_v3\u001b[0m\u001b[1;33m.\u001b[0m\u001b[0miloc\u001b[0m\u001b[1;33m[\u001b[0m\u001b[0mi\u001b[0m\u001b[1;33m,\u001b[0m \u001b[1;36m0\u001b[0m\u001b[1;33m]\u001b[0m\u001b[1;33m)\u001b[0m\u001b[1;33m\u001b[0m\u001b[0m\n\u001b[0m\u001b[0;32m      6\u001b[0m \u001b[0mall_ok_v3\u001b[0m\u001b[1;33m[\u001b[0m\u001b[1;34m'лицензия'\u001b[0m\u001b[1;33m]\u001b[0m \u001b[1;33m=\u001b[0m \u001b[0mp\u001b[0m\u001b[1;33m\u001b[0m\u001b[0m\n\u001b[0;32m      7\u001b[0m \u001b[0mall_ok_v3\u001b[0m \u001b[1;33m=\u001b[0m \u001b[0mframes\u001b[0m\u001b[1;33m[\u001b[0m\u001b[1;36m0\u001b[0m\u001b[1;33m]\u001b[0m\u001b[1;33m.\u001b[0m\u001b[0mset_index\u001b[0m\u001b[1;33m(\u001b[0m\u001b[1;33m[\u001b[0m\u001b[1;34m'лицензия'\u001b[0m\u001b[1;33m,\u001b[0m \u001b[1;34m'дата'\u001b[0m\u001b[1;33m]\u001b[0m\u001b[1;33m)\u001b[0m\u001b[1;33m\u001b[0m\u001b[0m\n",
      "\u001b[1;32m<ipython-input-154-8f25bc4f009e>\u001b[0m in \u001b[0;36mget_license\u001b[1;34m(a)\u001b[0m\n\u001b[0;32m      2\u001b[0m     \u001b[0mwords\u001b[0m \u001b[1;33m=\u001b[0m \u001b[0ma\u001b[0m\u001b[1;33m.\u001b[0m\u001b[0msplit\u001b[0m\u001b[1;33m(\u001b[0m\u001b[1;34m' лицензия'\u001b[0m\u001b[1;33m)\u001b[0m\u001b[1;33m\u001b[0m\u001b[0m\n\u001b[0;32m      3\u001b[0m     \u001b[0mbank\u001b[0m \u001b[1;33m=\u001b[0m \u001b[0mwords\u001b[0m\u001b[1;33m[\u001b[0m\u001b[1;36m0\u001b[0m\u001b[1;33m]\u001b[0m\u001b[1;33m\u001b[0m\u001b[0m\n\u001b[1;32m----> 4\u001b[1;33m     \u001b[0mlicense\u001b[0m \u001b[1;33m=\u001b[0m \u001b[0mwords\u001b[0m\u001b[1;33m[\u001b[0m\u001b[1;36m1\u001b[0m\u001b[1;33m]\u001b[0m\u001b[1;33m.\u001b[0m\u001b[0msplit\u001b[0m\u001b[1;33m(\u001b[0m\u001b[1;34m'№ '\u001b[0m\u001b[1;33m)\u001b[0m\u001b[1;33m[\u001b[0m\u001b[1;36m1\u001b[0m\u001b[1;33m]\u001b[0m\u001b[1;33m.\u001b[0m\u001b[0msplit\u001b[0m\u001b[1;33m(\u001b[0m\u001b[1;34m','\u001b[0m\u001b[1;33m)\u001b[0m\u001b[1;33m[\u001b[0m\u001b[1;36m0\u001b[0m\u001b[1;33m]\u001b[0m\u001b[1;33m\u001b[0m\u001b[0m\n\u001b[0m\u001b[0;32m      5\u001b[0m     \u001b[1;32mreturn\u001b[0m\u001b[1;33m(\u001b[0m\u001b[0mlicense\u001b[0m\u001b[1;33m)\u001b[0m\u001b[1;33m\u001b[0m\u001b[0m\n",
      "\u001b[1;31mIndexError\u001b[0m: list index out of range"
     ]
    }
   ],
   "source": [
    "# Соединим все показатели в один датафрейм\n",
    "all_ok_v3 = frames[0].set_index(['лицензия', 'дата'])\n",
    "    \n",
    "i = 1\n",
    "while i <= len(frames):\n",
    "    a = pd.DataFrame(frames[i])\n",
    "    all_ok_v3 = all_ok_v3.join(a.set_index(['лицензия', 'дата']), how = 'outer')\n",
    "    all_ok_v3.drop_duplicates(keep = 'first', inplace =True)\n",
    "    i = i + 1"
   ]
  },
  {
   "cell_type": "code",
   "execution_count": 129,
   "metadata": {},
   "outputs": [
    {
     "data": {
      "text/plain": [
       "(80311, 26)"
      ]
     },
     "execution_count": 129,
     "metadata": {},
     "output_type": "execute_result"
    }
   ],
   "source": [
    "all_ok_v3.shape"
   ]
  },
  {
   "cell_type": "code",
   "execution_count": 383,
   "metadata": {},
   "outputs": [
    {
     "data": {
      "text/html": [
       "<div>\n",
       "<style>\n",
       "    .dataframe thead tr:only-child th {\n",
       "        text-align: right;\n",
       "    }\n",
       "\n",
       "    .dataframe thead th {\n",
       "        text-align: left;\n",
       "    }\n",
       "\n",
       "    .dataframe tbody tr th {\n",
       "        vertical-align: top;\n",
       "    }\n",
       "</style>\n",
       "<table border=\"1\" class=\"dataframe\">\n",
       "  <thead>\n",
       "    <tr style=\"text-align: right;\">\n",
       "      <th></th>\n",
       "      <th>Лицензия_банк</th>\n",
       "      <th>ИД_10</th>\n",
       "      <th>дата</th>\n",
       "      <th>лицензия</th>\n",
       "    </tr>\n",
       "  </thead>\n",
       "  <tbody>\n",
       "    <tr>\n",
       "      <th>93872</th>\n",
       "      <td>Частный Расчетно-Кассовый Центр лицензия № 342...</td>\n",
       "      <td>29 888</td>\n",
       "      <td>2017-12-01</td>\n",
       "      <td>0</td>\n",
       "    </tr>\n",
       "    <tr>\n",
       "      <th>93873</th>\n",
       "      <td>Инновационный Расчетный Центр лицензия № 3447,...</td>\n",
       "      <td>24 400</td>\n",
       "      <td>2017-12-01</td>\n",
       "      <td>0</td>\n",
       "    </tr>\n",
       "    <tr>\n",
       "      <th>93874</th>\n",
       "      <td>Инэко лицензия № 3520, Ивановская обл.</td>\n",
       "      <td>21 653</td>\n",
       "      <td>2017-12-01</td>\n",
       "      <td>0</td>\n",
       "    </tr>\n",
       "    <tr>\n",
       "      <th>93875</th>\n",
       "      <td>АРБ-Инкасс лицензия № 3353, Москва и обл.</td>\n",
       "      <td>20 586</td>\n",
       "      <td>2017-12-01</td>\n",
       "      <td>0</td>\n",
       "    </tr>\n",
       "    <tr>\n",
       "      <th>93876</th>\n",
       "      <td>21 Век лицензия № 3309, Санкт-Петербург и обл.</td>\n",
       "      <td>12 924</td>\n",
       "      <td>2017-12-01</td>\n",
       "      <td>0</td>\n",
       "    </tr>\n",
       "  </tbody>\n",
       "</table>\n",
       "</div>"
      ],
      "text/plain": [
       "                                           Лицензия_банк   ИД_10        дата  \\\n",
       "93872  Частный Расчетно-Кассовый Центр лицензия № 342...  29 888  2017-12-01   \n",
       "93873  Инновационный Расчетный Центр лицензия № 3447,...  24 400  2017-12-01   \n",
       "93874             Инэко лицензия № 3520, Ивановская обл.  21 653  2017-12-01   \n",
       "93875          АРБ-Инкасс лицензия № 3353, Москва и обл.  20 586  2017-12-01   \n",
       "93876     21 Век лицензия № 3309, Санкт-Петербург и обл.  12 924  2017-12-01   \n",
       "\n",
       "       лицензия  \n",
       "93872         0  \n",
       "93873         0  \n",
       "93874         0  \n",
       "93875         0  \n",
       "93876         0  "
      ]
     },
     "execution_count": 383,
     "metadata": {},
     "output_type": "execute_result"
    }
   ],
   "source": [
    "all_ok_v3.tail(5)"
   ]
  },
  {
   "cell_type": "code",
   "execution_count": 131,
   "metadata": {
    "collapsed": true
   },
   "outputs": [],
   "source": [
    "all_ok_v3.to_csv('all_ok_v3' + '.csv',sep=',',header=True,index=True)"
   ]
  },
  {
   "cell_type": "code",
   "execution_count": 123,
   "metadata": {
    "collapsed": true
   },
   "outputs": [],
   "source": [
    "# Сохраним ко всему прочьему информацию о том какие банки уникальны.\n",
    "un_banks = pd.DataFrame()\n",
    "un_banks['Уникальные банки'] = uniq_banks\n",
    "un_banks.to_csv('uniq_banks_v2.csv',sep='\\t',header=True,index=False)"
   ]
  },
  {
   "cell_type": "markdown",
   "metadata": {},
   "source": [
    "Отлично! Осталось только расставить метки о том отозвана лицензия у банка или нет. Скачаем для этого все необходимые данные с сайта."
   ]
  },
  {
   "cell_type": "markdown",
   "metadata": {},
   "source": [
    "## Информация о банках"
   ]
  },
  {
   "cell_type": "code",
   "execution_count": 34,
   "metadata": {
    "collapsed": true
   },
   "outputs": [],
   "source": [
    "def Bank_parser(number):\n",
    "    bad_page = 'http://www.banki.ru/banks/memory/?by=PROPERTY_date&order=desc&PAGEN_1='+str(number)\n",
    "    response = requests.get(bad_page)\n",
    "    html = response.content\n",
    "    soup = BeautifulSoup(html,\"lxml\")\n",
    "    return(soup)\n",
    "\n",
    "\n",
    "def get_cause(url):\n",
    "    page = mainpage + url\n",
    "    response = requests.get(page)\n",
    "    html = response.content\n",
    "    soup = BeautifulSoup(html,\"lxml\")\n",
    "    cause = soup.findAll('dd',{'class':\"margin-bottom-zero\"})\n",
    "    return(cause)"
   ]
  },
  {
   "cell_type": "code",
   "execution_count": 38,
   "metadata": {
    "collapsed": true
   },
   "outputs": [],
   "source": [
    "bankrot = {'Банк':[],'Лицензия':[], 'хреф': [], 'статус': [], 'ликвдата': [], 'причина': []}\n",
    "for i in range(1,53):\n",
    "    bank_page = Bank_parser(i)\n",
    "    curvec = bank_page.findAll(\"tbody\")[2].findAll('td')\n",
    "    \n",
    "    bank = [curvec[1+i*6].findAll('a')[0].text for i in range(int(len(curvec)/6))]\n",
    "    lits = [curvec[2+i*6].text for i in range(int(len(curvec)/6))]\n",
    "    href = [re.split('=\"|\">',str(curvec[1+i*6].findAll('a')[0]))[1] for i in range(int(len(curvec)/6))]\n",
    "    status = [curvec[3+i*6].text for i in range(int(len(curvec)/6))]\n",
    "    likvid_data = [curvec[4+i*6].text for i in range(int(len(curvec)/6))]\n",
    "\n",
    "    mainpage = 'http://www.banki.ru'\n",
    "    cause = [get_cause(item) for item in href]  # убрал [0].text из-за ошибки\n",
    "    bankrot['Банк'].extend(bank)\n",
    "    bankrot['Лицензия'].extend(lits)\n",
    "    bankrot['хреф'].extend(href)\n",
    "    bankrot['статус'].extend(status)\n",
    "    bankrot['ликвдата'].extend(likvid_data)\n",
    "    bankrot['причина'].extend(cause)"
   ]
  },
  {
   "cell_type": "code",
   "execution_count": 37,
   "metadata": {},
   "outputs": [
    {
     "data": {
      "text/html": [
       "<div>\n",
       "<style>\n",
       "    .dataframe thead tr:only-child th {\n",
       "        text-align: right;\n",
       "    }\n",
       "\n",
       "    .dataframe thead th {\n",
       "        text-align: left;\n",
       "    }\n",
       "\n",
       "    .dataframe tbody tr th {\n",
       "        vertical-align: top;\n",
       "    }\n",
       "</style>\n",
       "<table border=\"1\" class=\"dataframe\">\n",
       "  <thead>\n",
       "    <tr style=\"text-align: right;\">\n",
       "      <th></th>\n",
       "      <th>Банк</th>\n",
       "      <th>Лицензия</th>\n",
       "      <th>ликвдата</th>\n",
       "      <th>причина</th>\n",
       "      <th>статус</th>\n",
       "      <th>хреф</th>\n",
       "    </tr>\n",
       "  </thead>\n",
       "  <tbody>\n",
       "    <tr>\n",
       "      <th>0</th>\n",
       "      <td>Алжан</td>\n",
       "      <td>2491</td>\n",
       "      <td>02.03.2018</td>\n",
       "      <td>[&lt;dd class=\"margin-bottom-zero\"&gt;Осуществленные...</td>\n",
       "      <td>отозв.</td>\n",
       "      <td>/banks/memory/bank/?id=10312268</td>\n",
       "    </tr>\n",
       "    <tr>\n",
       "      <th>1</th>\n",
       "      <td>Хованский</td>\n",
       "      <td>2145</td>\n",
       "      <td>28.02.2018</td>\n",
       "      <td>[&lt;dd class=\"margin-bottom-zero\"&gt;Прекращение де...</td>\n",
       "      <td>ликв.</td>\n",
       "      <td>/banks/memory/bank/?id=10312354</td>\n",
       "    </tr>\n",
       "    <tr>\n",
       "      <th>2</th>\n",
       "      <td>Мастер-Капитал</td>\n",
       "      <td>3011</td>\n",
       "      <td>20.02.2018</td>\n",
       "      <td>[&lt;dd class=\"margin-bottom-zero\"&gt;Деятельность О...</td>\n",
       "      <td>отозв.</td>\n",
       "      <td>/banks/memory/bank/?id=10291040</td>\n",
       "    </tr>\n",
       "    <tr>\n",
       "      <th>3</th>\n",
       "      <td>Уралкапиталбанк</td>\n",
       "      <td>2519</td>\n",
       "      <td>15.02.2018</td>\n",
       "      <td>[&lt;dd class=\"margin-bottom-zero\"&gt;Проблемы в дея...</td>\n",
       "      <td>отозв.</td>\n",
       "      <td>/banks/memory/bank/?id=10283277</td>\n",
       "    </tr>\n",
       "    <tr>\n",
       "      <th>4</th>\n",
       "      <td>Финансово-Промышленный Капитал</td>\n",
       "      <td>3295</td>\n",
       "      <td>12.02.2018</td>\n",
       "      <td>[&lt;dd class=\"margin-bottom-zero\"&gt;В деятельности...</td>\n",
       "      <td>отозв.</td>\n",
       "      <td>/banks/memory/bank/?id=10275239</td>\n",
       "    </tr>\n",
       "    <tr>\n",
       "      <th>5</th>\n",
       "      <td>Сибирский Банк Реконструкции и Развития</td>\n",
       "      <td>1284</td>\n",
       "      <td>06.02.2018</td>\n",
       "      <td>[&lt;dd class=\"margin-bottom-zero\"&gt;Резкое ухудшен...</td>\n",
       "      <td>отозв.</td>\n",
       "      <td>/banks/memory/bank/?id=10263215</td>\n",
       "    </tr>\n",
       "    <tr>\n",
       "      <th>6</th>\n",
       "      <td>ПартнерКапиталБанк</td>\n",
       "      <td>635</td>\n",
       "      <td>02.02.2018</td>\n",
       "      <td>[&lt;dd class=\"margin-bottom-zero\"&gt;Бизнес-модель ...</td>\n",
       "      <td>отозв.</td>\n",
       "      <td>/banks/memory/bank/?id=10256718</td>\n",
       "    </tr>\n",
       "    <tr>\n",
       "      <th>7</th>\n",
       "      <td>Расчетно-Кредитный Банк</td>\n",
       "      <td>103</td>\n",
       "      <td>02.02.2018</td>\n",
       "      <td>[&lt;dd class=\"margin-bottom-zero\"&gt;Вследствие неэ...</td>\n",
       "      <td>отозв.</td>\n",
       "      <td>/banks/memory/bank/?id=10256723</td>\n",
       "    </tr>\n",
       "    <tr>\n",
       "      <th>8</th>\n",
       "      <td>Стар Альянс</td>\n",
       "      <td>3433</td>\n",
       "      <td>25.01.2018</td>\n",
       "      <td>[&lt;dd class=\"margin-bottom-zero\"&gt;В деятельности...</td>\n",
       "      <td>отозв.</td>\n",
       "      <td>/banks/memory/bank/?id=10240410</td>\n",
       "    </tr>\n",
       "    <tr>\n",
       "      <th>9</th>\n",
       "      <td>АлтайБизнес-Банк</td>\n",
       "      <td>2388</td>\n",
       "      <td>19.01.2018</td>\n",
       "      <td>[&lt;dd class=\"margin-bottom-zero\"&gt;Проблемы в дея...</td>\n",
       "      <td>отозв.</td>\n",
       "      <td>/banks/memory/bank/?id=10228131</td>\n",
       "    </tr>\n",
       "    <tr>\n",
       "      <th>10</th>\n",
       "      <td>ВТБ 24</td>\n",
       "      <td>1623</td>\n",
       "      <td>01.01.2018</td>\n",
       "      <td>[&lt;dd class=\"margin-bottom-zero\"&gt;Прекращение де...</td>\n",
       "      <td>ликв.</td>\n",
       "      <td>/banks/memory/bank/?id=10207861</td>\n",
       "    </tr>\n",
       "    <tr>\n",
       "      <th>11</th>\n",
       "      <td>Северный Кредит</td>\n",
       "      <td>2398</td>\n",
       "      <td>29.12.2017</td>\n",
       "      <td>[&lt;dd class=\"margin-bottom-zero\"&gt;В ходе проводи...</td>\n",
       "      <td>отозв.</td>\n",
       "      <td>/banks/memory/bank/?id=10201841</td>\n",
       "    </tr>\n",
       "    <tr>\n",
       "      <th>12</th>\n",
       "      <td>Преодоление</td>\n",
       "      <td>2649</td>\n",
       "      <td>22.12.2017</td>\n",
       "      <td>[&lt;dd class=\"margin-bottom-zero\"&gt;В деятельности...</td>\n",
       "      <td>отозв.</td>\n",
       "      <td>/banks/memory/bank/?id=10185978</td>\n",
       "    </tr>\n",
       "    <tr>\n",
       "      <th>13</th>\n",
       "      <td>Солидарность (Москва)</td>\n",
       "      <td>1555</td>\n",
       "      <td>15.12.2017</td>\n",
       "      <td>[&lt;dd class=\"margin-bottom-zero\"&gt;Проблемы в дея...</td>\n",
       "      <td>отозв.</td>\n",
       "      <td>/banks/memory/bank/?id=10169907</td>\n",
       "    </tr>\n",
       "    <tr>\n",
       "      <th>14</th>\n",
       "      <td>Канский</td>\n",
       "      <td>860</td>\n",
       "      <td>13.12.2017</td>\n",
       "      <td>[&lt;dd class=\"margin-bottom-zero\"&gt;Основу ресурсн...</td>\n",
       "      <td>отозв.</td>\n",
       "      <td>/banks/memory/bank/?id=10164801</td>\n",
       "    </tr>\n",
       "    <tr>\n",
       "      <th>15</th>\n",
       "      <td>Новопокровский</td>\n",
       "      <td>467</td>\n",
       "      <td>04.12.2017</td>\n",
       "      <td>[&lt;dd class=\"margin-bottom-zero\"&gt;ООО «КБ «Новоп...</td>\n",
       "      <td>отозв.</td>\n",
       "      <td>/banks/memory/bank/?id=10145800</td>\n",
       "    </tr>\n",
       "    <tr>\n",
       "      <th>16</th>\n",
       "      <td>Европейский Стандарт</td>\n",
       "      <td>3200</td>\n",
       "      <td>04.12.2017</td>\n",
       "      <td>[&lt;dd class=\"margin-bottom-zero\"&gt;Бизнес ООО «КБ...</td>\n",
       "      <td>отозв.</td>\n",
       "      <td>/banks/memory/bank/?id=10145790</td>\n",
       "    </tr>\n",
       "    <tr>\n",
       "      <th>17</th>\n",
       "      <td>Новый Символ</td>\n",
       "      <td>370</td>\n",
       "      <td>27.11.2017</td>\n",
       "      <td>[&lt;dd class=\"margin-bottom-zero\"&gt;АО «Банк «Новы...</td>\n",
       "      <td>отозв.</td>\n",
       "      <td>/banks/memory/bank/?id=10133257</td>\n",
       "    </tr>\n",
       "    <tr>\n",
       "      <th>18</th>\n",
       "      <td>Регионфинансбанк</td>\n",
       "      <td>3357</td>\n",
       "      <td>17.11.2017</td>\n",
       "      <td>[&lt;dd class=\"margin-bottom-zero\"&gt;Бизнес ООО «КБ...</td>\n",
       "      <td>отозв.</td>\n",
       "      <td>/banks/memory/bank/?id=10117214</td>\n",
       "    </tr>\n",
       "    <tr>\n",
       "      <th>19</th>\n",
       "      <td>Платежный Клиринговый Дом</td>\n",
       "      <td>3343-К</td>\n",
       "      <td>14.11.2017</td>\n",
       "      <td>[&lt;dd class=\"margin-bottom-zero\"&gt;АО «НКО «ПКД» ...</td>\n",
       "      <td>отозв.</td>\n",
       "      <td>/banks/memory/bank/?id=10109614</td>\n",
       "    </tr>\n",
       "    <tr>\n",
       "      <th>20</th>\n",
       "      <td>Народный Земельно-Промышленный Банк</td>\n",
       "      <td>2873</td>\n",
       "      <td>13.11.2017</td>\n",
       "      <td>[&lt;dd class=\"margin-bottom-zero\"&gt;Прекращение де...</td>\n",
       "      <td>ликв.</td>\n",
       "      <td>/banks/memory/bank/?id=10112777</td>\n",
       "    </tr>\n",
       "    <tr>\n",
       "      <th>21</th>\n",
       "      <td>Уралприватбанк</td>\n",
       "      <td>153</td>\n",
       "      <td>03.11.2017</td>\n",
       "      <td>[&lt;dd class=\"margin-bottom-zero\"&gt;Прекращение де...</td>\n",
       "      <td>ликв.</td>\n",
       "      <td>/banks/memory/bank/?id=10099516</td>\n",
       "    </tr>\n",
       "    <tr>\n",
       "      <th>22</th>\n",
       "      <td>МФБанк</td>\n",
       "      <td>3163</td>\n",
       "      <td>04.10.2017</td>\n",
       "      <td>[&lt;dd class=\"margin-bottom-zero\"&gt;Проблемы в дея...</td>\n",
       "      <td>отозв.</td>\n",
       "      <td>/banks/memory/bank/?id=10040289</td>\n",
       "    </tr>\n",
       "    <tr>\n",
       "      <th>23</th>\n",
       "      <td>Темпбанк</td>\n",
       "      <td>55</td>\n",
       "      <td>02.10.2017</td>\n",
       "      <td>[&lt;dd class=\"margin-bottom-zero\"&gt;Модель бизнеса...</td>\n",
       "      <td>отозв.</td>\n",
       "      <td>/banks/memory/bank/?id=10035851</td>\n",
       "    </tr>\n",
       "    <tr>\n",
       "      <th>24</th>\n",
       "      <td>Арсенал</td>\n",
       "      <td>3000</td>\n",
       "      <td>21.09.2017</td>\n",
       "      <td>[&lt;dd class=\"margin-bottom-zero\"&gt;ООО «КБ «Арсен...</td>\n",
       "      <td>отозв.</td>\n",
       "      <td>/banks/memory/bank/?id=10021988</td>\n",
       "    </tr>\n",
       "    <tr>\n",
       "      <th>25</th>\n",
       "      <td>Русский Международный Банк</td>\n",
       "      <td>3123</td>\n",
       "      <td>04.09.2017</td>\n",
       "      <td>[&lt;dd class=\"margin-bottom-zero\"&gt;&lt;p&gt;Бизнес-моде...</td>\n",
       "      <td>отозв.</td>\n",
       "      <td>/banks/memory/bank/?id=9985021</td>\n",
       "    </tr>\n",
       "    <tr>\n",
       "      <th>26</th>\n",
       "      <td>Северо-Восточный Альянс</td>\n",
       "      <td>2768</td>\n",
       "      <td>21.08.2017</td>\n",
       "      <td>[&lt;dd class=\"margin-bottom-zero\"&gt;АО «АКБ «СВА» ...</td>\n",
       "      <td>отозв.</td>\n",
       "      <td>/banks/memory/bank/?id=9949422</td>\n",
       "    </tr>\n",
       "    <tr>\n",
       "      <th>27</th>\n",
       "      <td>Риабанк</td>\n",
       "      <td>3434</td>\n",
       "      <td>17.08.2017</td>\n",
       "      <td>[&lt;dd class=\"margin-bottom-zero\"&gt;АО «Риабанк» и...</td>\n",
       "      <td>отозв.</td>\n",
       "      <td>/banks/memory/bank/?id=9944279</td>\n",
       "    </tr>\n",
       "    <tr>\n",
       "      <th>28</th>\n",
       "      <td>Резерв</td>\n",
       "      <td>2364</td>\n",
       "      <td>09.08.2017</td>\n",
       "      <td>[&lt;dd class=\"margin-bottom-zero\"&gt;В течение посл...</td>\n",
       "      <td>отозв.</td>\n",
       "      <td>/banks/memory/bank/?id=9928300</td>\n",
       "    </tr>\n",
       "    <tr>\n",
       "      <th>29</th>\n",
       "      <td>Континент Финанс</td>\n",
       "      <td>149-К</td>\n",
       "      <td>09.08.2017</td>\n",
       "      <td>[&lt;dd class=\"margin-bottom-zero\"&gt;НКО не соблюда...</td>\n",
       "      <td>отозв.</td>\n",
       "      <td>/banks/memory/bank/?id=9928319</td>\n",
       "    </tr>\n",
       "    <tr>\n",
       "      <th>...</th>\n",
       "      <td>...</td>\n",
       "      <td>...</td>\n",
       "      <td>...</td>\n",
       "      <td>...</td>\n",
       "      <td>...</td>\n",
       "      <td>...</td>\n",
       "    </tr>\n",
       "    <tr>\n",
       "      <th>2520</th>\n",
       "      <td>Чувашсельхозбанк</td>\n",
       "      <td>850</td>\n",
       "      <td>10.07.1992</td>\n",
       "      <td>[&lt;dd class=\"margin-bottom-zero\"&gt;В 1990—1991 го...</td>\n",
       "      <td>ликв.</td>\n",
       "      <td>/banks/memory/bank/?id=208662</td>\n",
       "    </tr>\n",
       "    <tr>\n",
       "      <th>2521</th>\n",
       "      <td>Ярославлькомагробанк</td>\n",
       "      <td>1129</td>\n",
       "      <td>10.07.1992</td>\n",
       "      <td>[&lt;dd class=\"margin-bottom-zero\"&gt;В 1990—1991 го...</td>\n",
       "      <td>ликв.</td>\n",
       "      <td>/banks/memory/bank/?id=208666</td>\n",
       "    </tr>\n",
       "    <tr>\n",
       "      <th>2522</th>\n",
       "      <td>Комиагропромбанк</td>\n",
       "      <td>983</td>\n",
       "      <td>10.07.1992</td>\n",
       "      <td>[&lt;dd class=\"margin-bottom-zero\"&gt;В 1990—1991 го...</td>\n",
       "      <td>ликв.</td>\n",
       "      <td>/banks/memory/bank/?id=207901</td>\n",
       "    </tr>\n",
       "    <tr>\n",
       "      <th>2523</th>\n",
       "      <td>Агропромкоопбанк</td>\n",
       "      <td>585</td>\n",
       "      <td>10.07.1992</td>\n",
       "      <td>[&lt;dd class=\"margin-bottom-zero\"&gt;В 1990—1991 го...</td>\n",
       "      <td>ликв.</td>\n",
       "      <td>/banks/memory/bank/?id=208158</td>\n",
       "    </tr>\n",
       "    <tr>\n",
       "      <th>2524</th>\n",
       "      <td>Олаагробанк</td>\n",
       "      <td>774</td>\n",
       "      <td>10.07.1992</td>\n",
       "      <td>[&lt;dd class=\"margin-bottom-zero\"&gt;В 1990—1991 го...</td>\n",
       "      <td>ликв.</td>\n",
       "      <td>/banks/memory/bank/?id=208671</td>\n",
       "    </tr>\n",
       "    <tr>\n",
       "      <th>2525</th>\n",
       "      <td>Костромаагробанк</td>\n",
       "      <td>995</td>\n",
       "      <td>10.07.1992</td>\n",
       "      <td>[&lt;dd class=\"margin-bottom-zero\"&gt;В 1990—1991 го...</td>\n",
       "      <td>ликв.</td>\n",
       "      <td>/banks/memory/bank/?id=207905</td>\n",
       "    </tr>\n",
       "    <tr>\n",
       "      <th>2526</th>\n",
       "      <td>Агроформбанк</td>\n",
       "      <td>693</td>\n",
       "      <td>10.07.1992</td>\n",
       "      <td>[&lt;dd class=\"margin-bottom-zero\"&gt;В 1990—1991 го...</td>\n",
       "      <td>ликв.</td>\n",
       "      <td>/banks/memory/bank/?id=208161</td>\n",
       "    </tr>\n",
       "    <tr>\n",
       "      <th>2527</th>\n",
       "      <td>Нива</td>\n",
       "      <td>884</td>\n",
       "      <td>10.07.1992</td>\n",
       "      <td>[&lt;dd class=\"margin-bottom-zero\"&gt;В 1990—1991 го...</td>\n",
       "      <td>ликв.</td>\n",
       "      <td>/banks/memory/bank/?id=207907</td>\n",
       "    </tr>\n",
       "    <tr>\n",
       "      <th>2528</th>\n",
       "      <td>Краснощековский</td>\n",
       "      <td>1032</td>\n",
       "      <td>10.07.1992</td>\n",
       "      <td>[&lt;dd class=\"margin-bottom-zero\"&gt;В 1990—1991 го...</td>\n",
       "      <td>ликв.</td>\n",
       "      <td>/banks/memory/bank/?id=208675</td>\n",
       "    </tr>\n",
       "    <tr>\n",
       "      <th>2529</th>\n",
       "      <td>Омский Коммерческий Агропромышленный Банк</td>\n",
       "      <td>819</td>\n",
       "      <td>10.07.1992</td>\n",
       "      <td>[&lt;dd class=\"margin-bottom-zero\"&gt;В 1990—1991 го...</td>\n",
       "      <td>ликв.</td>\n",
       "      <td>/banks/memory/bank/?id=208165</td>\n",
       "    </tr>\n",
       "    <tr>\n",
       "      <th>2530</th>\n",
       "      <td>Хакасия</td>\n",
       "      <td>1085</td>\n",
       "      <td>10.07.1992</td>\n",
       "      <td>[&lt;dd class=\"margin-bottom-zero\"&gt;В 1990—1991 го...</td>\n",
       "      <td>ликв.</td>\n",
       "      <td>/banks/memory/bank/?id=207910</td>\n",
       "    </tr>\n",
       "    <tr>\n",
       "      <th>2531</th>\n",
       "      <td>Орелбанк</td>\n",
       "      <td>815</td>\n",
       "      <td>10.07.1992</td>\n",
       "      <td>[&lt;dd class=\"margin-bottom-zero\"&gt;В 1990—1991 го...</td>\n",
       "      <td>ликв.</td>\n",
       "      <td>/banks/memory/bank/?id=208167</td>\n",
       "    </tr>\n",
       "    <tr>\n",
       "      <th>2532</th>\n",
       "      <td>Курганагрокомбанк</td>\n",
       "      <td>847</td>\n",
       "      <td>10.07.1992</td>\n",
       "      <td>[&lt;dd class=\"margin-bottom-zero\"&gt;В 1990—1991 го...</td>\n",
       "      <td>ликв.</td>\n",
       "      <td>/banks/memory/bank/?id=207912</td>\n",
       "    </tr>\n",
       "    <tr>\n",
       "      <th>2533</th>\n",
       "      <td>Ливныбанк</td>\n",
       "      <td>814</td>\n",
       "      <td>10.07.1992</td>\n",
       "      <td>[&lt;dd class=\"margin-bottom-zero\"&gt;В 1990—1991 го...</td>\n",
       "      <td>ликв.</td>\n",
       "      <td>/banks/memory/bank/?id=208169</td>\n",
       "    </tr>\n",
       "    <tr>\n",
       "      <th>2534</th>\n",
       "      <td>Троицкое-Банк</td>\n",
       "      <td>827</td>\n",
       "      <td>10.07.1992</td>\n",
       "      <td>[&lt;dd class=\"margin-bottom-zero\"&gt;В 1990—1991 го...</td>\n",
       "      <td>ликв.</td>\n",
       "      <td>/banks/memory/bank/?id=208681</td>\n",
       "    </tr>\n",
       "    <tr>\n",
       "      <th>2535</th>\n",
       "      <td>Калманка-Банк</td>\n",
       "      <td>1092</td>\n",
       "      <td>10.07.1992</td>\n",
       "      <td>[&lt;dd class=\"margin-bottom-zero\"&gt;В 1990—1991 го...</td>\n",
       "      <td>ликв.</td>\n",
       "      <td>/banks/memory/bank/?id=208683</td>\n",
       "    </tr>\n",
       "    <tr>\n",
       "      <th>2536</th>\n",
       "      <td>Железногорсккомбанк</td>\n",
       "      <td>663</td>\n",
       "      <td>10.07.1992</td>\n",
       "      <td>[&lt;dd class=\"margin-bottom-zero\"&gt;В 1990—1991 го...</td>\n",
       "      <td>ликв.</td>\n",
       "      <td>/banks/memory/bank/?id=207916</td>\n",
       "    </tr>\n",
       "    <tr>\n",
       "      <th>2537</th>\n",
       "      <td>Провкомбанк</td>\n",
       "      <td>886</td>\n",
       "      <td>10.07.1992</td>\n",
       "      <td>[&lt;dd class=\"margin-bottom-zero\"&gt;В 1990—1991 го...</td>\n",
       "      <td>ликв.</td>\n",
       "      <td>/banks/memory/bank/?id=208689</td>\n",
       "    </tr>\n",
       "    <tr>\n",
       "      <th>2538</th>\n",
       "      <td>Курчатовбанк</td>\n",
       "      <td>662</td>\n",
       "      <td>10.07.1992</td>\n",
       "      <td>[&lt;dd class=\"margin-bottom-zero\"&gt;В 1990—1991 го...</td>\n",
       "      <td>ликв.</td>\n",
       "      <td>/banks/memory/bank/?id=207924</td>\n",
       "    </tr>\n",
       "    <tr>\n",
       "      <th>2539</th>\n",
       "      <td>Пензаагропромбанк</td>\n",
       "      <td>687</td>\n",
       "      <td>10.07.1992</td>\n",
       "      <td>[&lt;dd class=\"margin-bottom-zero\"&gt;В 1990—1991 го...</td>\n",
       "      <td>ликв.</td>\n",
       "      <td>/banks/memory/bank/?id=208180</td>\n",
       "    </tr>\n",
       "    <tr>\n",
       "      <th>2540</th>\n",
       "      <td>Амурагрокомбанк</td>\n",
       "      <td>921</td>\n",
       "      <td>10.07.1992</td>\n",
       "      <td>[]</td>\n",
       "      <td>ликв.</td>\n",
       "      <td>/banks/memory/bank/?id=219700</td>\n",
       "    </tr>\n",
       "    <tr>\n",
       "      <th>2541</th>\n",
       "      <td>Сычевский Коммерческий Банк</td>\n",
       "      <td>782</td>\n",
       "      <td>10.07.1992</td>\n",
       "      <td>[&lt;dd class=\"margin-bottom-zero\"&gt;В 1990—1991 го...</td>\n",
       "      <td>ликв.</td>\n",
       "      <td>/banks/memory/bank/?id=208693</td>\n",
       "    </tr>\n",
       "    <tr>\n",
       "      <th>2542</th>\n",
       "      <td>Долина</td>\n",
       "      <td>1393</td>\n",
       "      <td>10.07.1992</td>\n",
       "      <td>[&lt;dd class=\"margin-bottom-zero\"&gt;В 1990—1991 го...</td>\n",
       "      <td>ликв.</td>\n",
       "      <td>/banks/memory/bank/?id=208697</td>\n",
       "    </tr>\n",
       "    <tr>\n",
       "      <th>2543</th>\n",
       "      <td>Нефтекумье</td>\n",
       "      <td>1335</td>\n",
       "      <td>10.07.1992</td>\n",
       "      <td>[&lt;dd class=\"margin-bottom-zero\"&gt;В 1990—1991 го...</td>\n",
       "      <td>ликв.</td>\n",
       "      <td>/banks/memory/bank/?id=208699</td>\n",
       "    </tr>\n",
       "    <tr>\n",
       "      <th>2544</th>\n",
       "      <td>Суджакомбанк</td>\n",
       "      <td>792</td>\n",
       "      <td>10.07.1992</td>\n",
       "      <td>[&lt;dd class=\"margin-bottom-zero\"&gt;В 1990—1991 го...</td>\n",
       "      <td>ликв.</td>\n",
       "      <td>/banks/memory/bank/?id=207932</td>\n",
       "    </tr>\n",
       "    <tr>\n",
       "      <th>2545</th>\n",
       "      <td>Александровский</td>\n",
       "      <td>1229</td>\n",
       "      <td>10.07.1992</td>\n",
       "      <td>[&lt;dd class=\"margin-bottom-zero\"&gt;В 1990—1991 го...</td>\n",
       "      <td>ликв.</td>\n",
       "      <td>/banks/memory/bank/?id=208701</td>\n",
       "    </tr>\n",
       "    <tr>\n",
       "      <th>2546</th>\n",
       "      <td>Пермский Коммерческий Агропромышленный Банк</td>\n",
       "      <td>805</td>\n",
       "      <td>10.07.1992</td>\n",
       "      <td>[&lt;dd class=\"margin-bottom-zero\"&gt;В 1990—1991 го...</td>\n",
       "      <td>ликв.</td>\n",
       "      <td>/banks/memory/bank/?id=208196</td>\n",
       "    </tr>\n",
       "    <tr>\n",
       "      <th>2547</th>\n",
       "      <td>Примагропромбанк</td>\n",
       "      <td>1375</td>\n",
       "      <td>10.07.1992</td>\n",
       "      <td>[&lt;dd class=\"margin-bottom-zero\"&gt;В 1990—1991 го...</td>\n",
       "      <td>ликв.</td>\n",
       "      <td>/banks/memory/bank/?id=208210</td>\n",
       "    </tr>\n",
       "    <tr>\n",
       "      <th>2548</th>\n",
       "      <td>Кром</td>\n",
       "      <td>762</td>\n",
       "      <td>10.07.1992</td>\n",
       "      <td>[&lt;dd class=\"margin-bottom-zero\"&gt;В 1990—1991 го...</td>\n",
       "      <td>ликв.</td>\n",
       "      <td>/banks/memory/bank/?id=208216</td>\n",
       "    </tr>\n",
       "    <tr>\n",
       "      <th>2549</th>\n",
       "      <td>Акомбанк</td>\n",
       "      <td>1150</td>\n",
       "      <td>10.07.1992</td>\n",
       "      <td>[&lt;dd class=\"margin-bottom-zero\"&gt;В 1990—1991 го...</td>\n",
       "      <td>ликв.</td>\n",
       "      <td>/banks/memory/bank/?id=208239</td>\n",
       "    </tr>\n",
       "  </tbody>\n",
       "</table>\n",
       "<p>2550 rows × 6 columns</p>\n",
       "</div>"
      ],
      "text/plain": [
       "                                             Банк Лицензия    ликвдата  \\\n",
       "0                                           Алжан     2491  02.03.2018   \n",
       "1                                       Хованский     2145  28.02.2018   \n",
       "2                                  Мастер-Капитал     3011  20.02.2018   \n",
       "3                                 Уралкапиталбанк     2519  15.02.2018   \n",
       "4                  Финансово-Промышленный Капитал     3295  12.02.2018   \n",
       "5         Сибирский Банк Реконструкции и Развития     1284  06.02.2018   \n",
       "6                              ПартнерКапиталБанк      635  02.02.2018   \n",
       "7                         Расчетно-Кредитный Банк      103  02.02.2018   \n",
       "8                                     Стар Альянс     3433  25.01.2018   \n",
       "9                                АлтайБизнес-Банк     2388  19.01.2018   \n",
       "10                                         ВТБ 24     1623  01.01.2018   \n",
       "11                                Северный Кредит     2398  29.12.2017   \n",
       "12                                    Преодоление     2649  22.12.2017   \n",
       "13                          Солидарность (Москва)     1555  15.12.2017   \n",
       "14                                        Канский      860  13.12.2017   \n",
       "15                                 Новопокровский      467  04.12.2017   \n",
       "16                           Европейский Стандарт     3200  04.12.2017   \n",
       "17                                   Новый Символ      370  27.11.2017   \n",
       "18                               Регионфинансбанк     3357  17.11.2017   \n",
       "19                      Платежный Клиринговый Дом   3343-К  14.11.2017   \n",
       "20            Народный Земельно-Промышленный Банк     2873  13.11.2017   \n",
       "21                                 Уралприватбанк      153  03.11.2017   \n",
       "22                                         МФБанк     3163  04.10.2017   \n",
       "23                                       Темпбанк       55  02.10.2017   \n",
       "24                                        Арсенал     3000  21.09.2017   \n",
       "25                     Русский Международный Банк     3123  04.09.2017   \n",
       "26                        Северо-Восточный Альянс     2768  21.08.2017   \n",
       "27                                        Риабанк     3434  17.08.2017   \n",
       "28                                         Резерв     2364  09.08.2017   \n",
       "29                               Континент Финанс    149-К  09.08.2017   \n",
       "...                                           ...      ...         ...   \n",
       "2520                             Чувашсельхозбанк      850  10.07.1992   \n",
       "2521                         Ярославлькомагробанк     1129  10.07.1992   \n",
       "2522                             Комиагропромбанк      983  10.07.1992   \n",
       "2523                             Агропромкоопбанк      585  10.07.1992   \n",
       "2524                                  Олаагробанк      774  10.07.1992   \n",
       "2525                             Костромаагробанк      995  10.07.1992   \n",
       "2526                                 Агроформбанк      693  10.07.1992   \n",
       "2527                                         Нива      884  10.07.1992   \n",
       "2528                              Краснощековский     1032  10.07.1992   \n",
       "2529    Омский Коммерческий Агропромышленный Банк      819  10.07.1992   \n",
       "2530                                      Хакасия     1085  10.07.1992   \n",
       "2531                                     Орелбанк      815  10.07.1992   \n",
       "2532                            Курганагрокомбанк      847  10.07.1992   \n",
       "2533                                    Ливныбанк      814  10.07.1992   \n",
       "2534                                Троицкое-Банк      827  10.07.1992   \n",
       "2535                                Калманка-Банк     1092  10.07.1992   \n",
       "2536                          Железногорсккомбанк      663  10.07.1992   \n",
       "2537                                  Провкомбанк      886  10.07.1992   \n",
       "2538                                 Курчатовбанк      662  10.07.1992   \n",
       "2539                            Пензаагропромбанк      687  10.07.1992   \n",
       "2540                              Амурагрокомбанк      921  10.07.1992   \n",
       "2541                  Сычевский Коммерческий Банк      782  10.07.1992   \n",
       "2542                                       Долина     1393  10.07.1992   \n",
       "2543                                   Нефтекумье     1335  10.07.1992   \n",
       "2544                                 Суджакомбанк      792  10.07.1992   \n",
       "2545                              Александровский     1229  10.07.1992   \n",
       "2546  Пермский Коммерческий Агропромышленный Банк      805  10.07.1992   \n",
       "2547                             Примагропромбанк     1375  10.07.1992   \n",
       "2548                                         Кром      762  10.07.1992   \n",
       "2549                                     Акомбанк     1150  10.07.1992   \n",
       "\n",
       "                                                причина  статус  \\\n",
       "0     [<dd class=\"margin-bottom-zero\">Осуществленные...  отозв.   \n",
       "1     [<dd class=\"margin-bottom-zero\">Прекращение де...   ликв.   \n",
       "2     [<dd class=\"margin-bottom-zero\">Деятельность О...  отозв.   \n",
       "3     [<dd class=\"margin-bottom-zero\">Проблемы в дея...  отозв.   \n",
       "4     [<dd class=\"margin-bottom-zero\">В деятельности...  отозв.   \n",
       "5     [<dd class=\"margin-bottom-zero\">Резкое ухудшен...  отозв.   \n",
       "6     [<dd class=\"margin-bottom-zero\">Бизнес-модель ...  отозв.   \n",
       "7     [<dd class=\"margin-bottom-zero\">Вследствие неэ...  отозв.   \n",
       "8     [<dd class=\"margin-bottom-zero\">В деятельности...  отозв.   \n",
       "9     [<dd class=\"margin-bottom-zero\">Проблемы в дея...  отозв.   \n",
       "10    [<dd class=\"margin-bottom-zero\">Прекращение де...   ликв.   \n",
       "11    [<dd class=\"margin-bottom-zero\">В ходе проводи...  отозв.   \n",
       "12    [<dd class=\"margin-bottom-zero\">В деятельности...  отозв.   \n",
       "13    [<dd class=\"margin-bottom-zero\">Проблемы в дея...  отозв.   \n",
       "14    [<dd class=\"margin-bottom-zero\">Основу ресурсн...  отозв.   \n",
       "15    [<dd class=\"margin-bottom-zero\">ООО «КБ «Новоп...  отозв.   \n",
       "16    [<dd class=\"margin-bottom-zero\">Бизнес ООО «КБ...  отозв.   \n",
       "17    [<dd class=\"margin-bottom-zero\">АО «Банк «Новы...  отозв.   \n",
       "18    [<dd class=\"margin-bottom-zero\">Бизнес ООО «КБ...  отозв.   \n",
       "19    [<dd class=\"margin-bottom-zero\">АО «НКО «ПКД» ...  отозв.   \n",
       "20    [<dd class=\"margin-bottom-zero\">Прекращение де...   ликв.   \n",
       "21    [<dd class=\"margin-bottom-zero\">Прекращение де...   ликв.   \n",
       "22    [<dd class=\"margin-bottom-zero\">Проблемы в дея...  отозв.   \n",
       "23    [<dd class=\"margin-bottom-zero\">Модель бизнеса...  отозв.   \n",
       "24    [<dd class=\"margin-bottom-zero\">ООО «КБ «Арсен...  отозв.   \n",
       "25    [<dd class=\"margin-bottom-zero\"><p>Бизнес-моде...  отозв.   \n",
       "26    [<dd class=\"margin-bottom-zero\">АО «АКБ «СВА» ...  отозв.   \n",
       "27    [<dd class=\"margin-bottom-zero\">АО «Риабанк» и...  отозв.   \n",
       "28    [<dd class=\"margin-bottom-zero\">В течение посл...  отозв.   \n",
       "29    [<dd class=\"margin-bottom-zero\">НКО не соблюда...  отозв.   \n",
       "...                                                 ...     ...   \n",
       "2520  [<dd class=\"margin-bottom-zero\">В 1990—1991 го...   ликв.   \n",
       "2521  [<dd class=\"margin-bottom-zero\">В 1990—1991 го...   ликв.   \n",
       "2522  [<dd class=\"margin-bottom-zero\">В 1990—1991 го...   ликв.   \n",
       "2523  [<dd class=\"margin-bottom-zero\">В 1990—1991 го...   ликв.   \n",
       "2524  [<dd class=\"margin-bottom-zero\">В 1990—1991 го...   ликв.   \n",
       "2525  [<dd class=\"margin-bottom-zero\">В 1990—1991 го...   ликв.   \n",
       "2526  [<dd class=\"margin-bottom-zero\">В 1990—1991 го...   ликв.   \n",
       "2527  [<dd class=\"margin-bottom-zero\">В 1990—1991 го...   ликв.   \n",
       "2528  [<dd class=\"margin-bottom-zero\">В 1990—1991 го...   ликв.   \n",
       "2529  [<dd class=\"margin-bottom-zero\">В 1990—1991 го...   ликв.   \n",
       "2530  [<dd class=\"margin-bottom-zero\">В 1990—1991 го...   ликв.   \n",
       "2531  [<dd class=\"margin-bottom-zero\">В 1990—1991 го...   ликв.   \n",
       "2532  [<dd class=\"margin-bottom-zero\">В 1990—1991 го...   ликв.   \n",
       "2533  [<dd class=\"margin-bottom-zero\">В 1990—1991 го...   ликв.   \n",
       "2534  [<dd class=\"margin-bottom-zero\">В 1990—1991 го...   ликв.   \n",
       "2535  [<dd class=\"margin-bottom-zero\">В 1990—1991 го...   ликв.   \n",
       "2536  [<dd class=\"margin-bottom-zero\">В 1990—1991 го...   ликв.   \n",
       "2537  [<dd class=\"margin-bottom-zero\">В 1990—1991 го...   ликв.   \n",
       "2538  [<dd class=\"margin-bottom-zero\">В 1990—1991 го...   ликв.   \n",
       "2539  [<dd class=\"margin-bottom-zero\">В 1990—1991 го...   ликв.   \n",
       "2540                                                 []   ликв.   \n",
       "2541  [<dd class=\"margin-bottom-zero\">В 1990—1991 го...   ликв.   \n",
       "2542  [<dd class=\"margin-bottom-zero\">В 1990—1991 го...   ликв.   \n",
       "2543  [<dd class=\"margin-bottom-zero\">В 1990—1991 го...   ликв.   \n",
       "2544  [<dd class=\"margin-bottom-zero\">В 1990—1991 го...   ликв.   \n",
       "2545  [<dd class=\"margin-bottom-zero\">В 1990—1991 го...   ликв.   \n",
       "2546  [<dd class=\"margin-bottom-zero\">В 1990—1991 го...   ликв.   \n",
       "2547  [<dd class=\"margin-bottom-zero\">В 1990—1991 го...   ликв.   \n",
       "2548  [<dd class=\"margin-bottom-zero\">В 1990—1991 го...   ликв.   \n",
       "2549  [<dd class=\"margin-bottom-zero\">В 1990—1991 го...   ликв.   \n",
       "\n",
       "                                 хреф  \n",
       "0     /banks/memory/bank/?id=10312268  \n",
       "1     /banks/memory/bank/?id=10312354  \n",
       "2     /banks/memory/bank/?id=10291040  \n",
       "3     /banks/memory/bank/?id=10283277  \n",
       "4     /banks/memory/bank/?id=10275239  \n",
       "5     /banks/memory/bank/?id=10263215  \n",
       "6     /banks/memory/bank/?id=10256718  \n",
       "7     /banks/memory/bank/?id=10256723  \n",
       "8     /banks/memory/bank/?id=10240410  \n",
       "9     /banks/memory/bank/?id=10228131  \n",
       "10    /banks/memory/bank/?id=10207861  \n",
       "11    /banks/memory/bank/?id=10201841  \n",
       "12    /banks/memory/bank/?id=10185978  \n",
       "13    /banks/memory/bank/?id=10169907  \n",
       "14    /banks/memory/bank/?id=10164801  \n",
       "15    /banks/memory/bank/?id=10145800  \n",
       "16    /banks/memory/bank/?id=10145790  \n",
       "17    /banks/memory/bank/?id=10133257  \n",
       "18    /banks/memory/bank/?id=10117214  \n",
       "19    /banks/memory/bank/?id=10109614  \n",
       "20    /banks/memory/bank/?id=10112777  \n",
       "21    /banks/memory/bank/?id=10099516  \n",
       "22    /banks/memory/bank/?id=10040289  \n",
       "23    /banks/memory/bank/?id=10035851  \n",
       "24    /banks/memory/bank/?id=10021988  \n",
       "25     /banks/memory/bank/?id=9985021  \n",
       "26     /banks/memory/bank/?id=9949422  \n",
       "27     /banks/memory/bank/?id=9944279  \n",
       "28     /banks/memory/bank/?id=9928300  \n",
       "29     /banks/memory/bank/?id=9928319  \n",
       "...                               ...  \n",
       "2520    /banks/memory/bank/?id=208662  \n",
       "2521    /banks/memory/bank/?id=208666  \n",
       "2522    /banks/memory/bank/?id=207901  \n",
       "2523    /banks/memory/bank/?id=208158  \n",
       "2524    /banks/memory/bank/?id=208671  \n",
       "2525    /banks/memory/bank/?id=207905  \n",
       "2526    /banks/memory/bank/?id=208161  \n",
       "2527    /banks/memory/bank/?id=207907  \n",
       "2528    /banks/memory/bank/?id=208675  \n",
       "2529    /banks/memory/bank/?id=208165  \n",
       "2530    /banks/memory/bank/?id=207910  \n",
       "2531    /banks/memory/bank/?id=208167  \n",
       "2532    /banks/memory/bank/?id=207912  \n",
       "2533    /banks/memory/bank/?id=208169  \n",
       "2534    /banks/memory/bank/?id=208681  \n",
       "2535    /banks/memory/bank/?id=208683  \n",
       "2536    /banks/memory/bank/?id=207916  \n",
       "2537    /banks/memory/bank/?id=208689  \n",
       "2538    /banks/memory/bank/?id=207924  \n",
       "2539    /banks/memory/bank/?id=208180  \n",
       "2540    /banks/memory/bank/?id=219700  \n",
       "2541    /banks/memory/bank/?id=208693  \n",
       "2542    /banks/memory/bank/?id=208697  \n",
       "2543    /banks/memory/bank/?id=208699  \n",
       "2544    /banks/memory/bank/?id=207932  \n",
       "2545    /banks/memory/bank/?id=208701  \n",
       "2546    /banks/memory/bank/?id=208196  \n",
       "2547    /banks/memory/bank/?id=208210  \n",
       "2548    /banks/memory/bank/?id=208216  \n",
       "2549    /banks/memory/bank/?id=208239  \n",
       "\n",
       "[2550 rows x 6 columns]"
      ]
     },
     "execution_count": 37,
     "metadata": {},
     "output_type": "execute_result"
    }
   ],
   "source": [
    "closed_banks = pd.DataFrame(bankrot)\n",
    "closed_banks.drop(['Банк', 'причина', 'статус', 'хреф'], inplace = True, axis = 1)"
   ]
  },
  {
   "cell_type": "code",
   "execution_count": 518,
   "metadata": {},
   "outputs": [
    {
     "data": {
      "text/html": [
       "<div>\n",
       "<style>\n",
       "    .dataframe thead tr:only-child th {\n",
       "        text-align: right;\n",
       "    }\n",
       "\n",
       "    .dataframe thead th {\n",
       "        text-align: left;\n",
       "    }\n",
       "\n",
       "    .dataframe tbody tr th {\n",
       "        vertical-align: top;\n",
       "    }\n",
       "</style>\n",
       "<table border=\"1\" class=\"dataframe\">\n",
       "  <thead>\n",
       "    <tr style=\"text-align: right;\">\n",
       "      <th></th>\n",
       "      <th>Лицензия</th>\n",
       "      <th>ликвдата</th>\n",
       "    </tr>\n",
       "  </thead>\n",
       "  <tbody>\n",
       "    <tr>\n",
       "      <th>0</th>\n",
       "      <td>2491</td>\n",
       "      <td>02.03.2018</td>\n",
       "    </tr>\n",
       "    <tr>\n",
       "      <th>1</th>\n",
       "      <td>2145</td>\n",
       "      <td>28.02.2018</td>\n",
       "    </tr>\n",
       "    <tr>\n",
       "      <th>2</th>\n",
       "      <td>3011</td>\n",
       "      <td>20.02.2018</td>\n",
       "    </tr>\n",
       "    <tr>\n",
       "      <th>3</th>\n",
       "      <td>2519</td>\n",
       "      <td>15.02.2018</td>\n",
       "    </tr>\n",
       "    <tr>\n",
       "      <th>4</th>\n",
       "      <td>3295</td>\n",
       "      <td>12.02.2018</td>\n",
       "    </tr>\n",
       "  </tbody>\n",
       "</table>\n",
       "</div>"
      ],
      "text/plain": [
       "  Лицензия    ликвдата\n",
       "0     2491  02.03.2018\n",
       "1     2145  28.02.2018\n",
       "2     3011  20.02.2018\n",
       "3     2519  15.02.2018\n",
       "4     3295  12.02.2018"
      ]
     },
     "execution_count": 518,
     "metadata": {},
     "output_type": "execute_result"
    }
   ],
   "source": [
    "closed_banks.head(5)"
   ]
  },
  {
   "cell_type": "code",
   "execution_count": 748,
   "metadata": {},
   "outputs": [
    {
     "data": {
      "text/plain": [
       "(2548, 3)"
      ]
     },
     "execution_count": 748,
     "metadata": {},
     "output_type": "execute_result"
    }
   ],
   "source": [
    "closed_banks.shape"
   ]
  },
  {
   "cell_type": "code",
   "execution_count": 133,
   "metadata": {},
   "outputs": [
    {
     "ename": "NameError",
     "evalue": "name 'closed_banks' is not defined",
     "output_type": "error",
     "traceback": [
      "\u001b[1;31m---------------------------------------------------------------------------\u001b[0m",
      "\u001b[1;31mNameError\u001b[0m                                 Traceback (most recent call last)",
      "\u001b[1;32m<ipython-input-133-b41ce7ce22f4>\u001b[0m in \u001b[0;36m<module>\u001b[1;34m()\u001b[0m\n\u001b[1;32m----> 1\u001b[1;33m \u001b[0mclosed_banks\u001b[0m\u001b[1;33m.\u001b[0m\u001b[0mto_csv\u001b[0m\u001b[1;33m(\u001b[0m\u001b[1;34m'closed_banks'\u001b[0m \u001b[1;33m+\u001b[0m \u001b[1;34m'.csv'\u001b[0m\u001b[1;33m,\u001b[0m\u001b[0msep\u001b[0m\u001b[1;33m=\u001b[0m\u001b[1;34m','\u001b[0m\u001b[1;33m,\u001b[0m\u001b[0mheader\u001b[0m\u001b[1;33m=\u001b[0m\u001b[1;32mTrue\u001b[0m\u001b[1;33m)\u001b[0m\u001b[1;33m\u001b[0m\u001b[0m\n\u001b[0m",
      "\u001b[1;31mNameError\u001b[0m: name 'closed_banks' is not defined"
     ]
    }
   ],
   "source": [
    "closed_banks.to_csv('closed_banks' + '.csv',sep=',',header=True, index=False)"
   ]
  },
  {
   "cell_type": "code",
   "execution_count": 3,
   "metadata": {
    "collapsed": true
   },
   "outputs": [],
   "source": [
    "closed_banks = pd.read_csv('closed_banks.csv', header=0, sep=',', encoding=\"cp1251\")"
   ]
  },
  {
   "cell_type": "code",
   "execution_count": 6,
   "metadata": {
    "collapsed": true
   },
   "outputs": [],
   "source": [
    "closed_banks['ликвдата'] = pd.to_datetime(closed_banks['ликвдата'])"
   ]
  },
  {
   "cell_type": "code",
   "execution_count": 8,
   "metadata": {},
   "outputs": [
    {
     "data": {
      "text/html": [
       "<div>\n",
       "<style>\n",
       "    .dataframe thead tr:only-child th {\n",
       "        text-align: right;\n",
       "    }\n",
       "\n",
       "    .dataframe thead th {\n",
       "        text-align: left;\n",
       "    }\n",
       "\n",
       "    .dataframe tbody tr th {\n",
       "        vertical-align: top;\n",
       "    }\n",
       "</style>\n",
       "<table border=\"1\" class=\"dataframe\">\n",
       "  <thead>\n",
       "    <tr style=\"text-align: right;\">\n",
       "      <th></th>\n",
       "      <th>Банк</th>\n",
       "      <th>Лицензия</th>\n",
       "      <th>ликвдата</th>\n",
       "      <th>причина</th>\n",
       "      <th>статус</th>\n",
       "      <th>хреф</th>\n",
       "    </tr>\n",
       "  </thead>\n",
       "  <tbody>\n",
       "    <tr>\n",
       "      <th>0</th>\n",
       "      <td>Алжан</td>\n",
       "      <td>2491</td>\n",
       "      <td>2018-02-03</td>\n",
       "      <td>[&lt;dd class=\"margin-bottom-zero\"&gt;Осуществленные...</td>\n",
       "      <td>отозв.</td>\n",
       "      <td>/banks/memory/bank/?id=10312268</td>\n",
       "    </tr>\n",
       "    <tr>\n",
       "      <th>1</th>\n",
       "      <td>Хованский</td>\n",
       "      <td>2145</td>\n",
       "      <td>2018-02-28</td>\n",
       "      <td>[&lt;dd class=\"margin-bottom-zero\"&gt;Прекращение де...</td>\n",
       "      <td>ликв.</td>\n",
       "      <td>/banks/memory/bank/?id=10312354</td>\n",
       "    </tr>\n",
       "    <tr>\n",
       "      <th>2</th>\n",
       "      <td>Мастер-Капитал</td>\n",
       "      <td>3011</td>\n",
       "      <td>2018-02-20</td>\n",
       "      <td>[&lt;dd class=\"margin-bottom-zero\"&gt;Деятельность О...</td>\n",
       "      <td>отозв.</td>\n",
       "      <td>/banks/memory/bank/?id=10291040</td>\n",
       "    </tr>\n",
       "    <tr>\n",
       "      <th>3</th>\n",
       "      <td>Уралкапиталбанк</td>\n",
       "      <td>2519</td>\n",
       "      <td>2018-02-15</td>\n",
       "      <td>[&lt;dd class=\"margin-bottom-zero\"&gt;Проблемы в дея...</td>\n",
       "      <td>отозв.</td>\n",
       "      <td>/banks/memory/bank/?id=10283277</td>\n",
       "    </tr>\n",
       "    <tr>\n",
       "      <th>4</th>\n",
       "      <td>Финансово-Промышленный Капитал</td>\n",
       "      <td>3295</td>\n",
       "      <td>2018-12-02</td>\n",
       "      <td>[&lt;dd class=\"margin-bottom-zero\"&gt;В деятельности...</td>\n",
       "      <td>отозв.</td>\n",
       "      <td>/banks/memory/bank/?id=10275239</td>\n",
       "    </tr>\n",
       "    <tr>\n",
       "      <th>5</th>\n",
       "      <td>Сибирский Банк Реконструкции и Развития</td>\n",
       "      <td>1284</td>\n",
       "      <td>2018-06-02</td>\n",
       "      <td>[&lt;dd class=\"margin-bottom-zero\"&gt;Резкое ухудшен...</td>\n",
       "      <td>отозв.</td>\n",
       "      <td>/banks/memory/bank/?id=10263215</td>\n",
       "    </tr>\n",
       "    <tr>\n",
       "      <th>6</th>\n",
       "      <td>ПартнерКапиталБанк</td>\n",
       "      <td>635</td>\n",
       "      <td>2018-02-02</td>\n",
       "      <td>[&lt;dd class=\"margin-bottom-zero\"&gt;Бизнес-модель ...</td>\n",
       "      <td>отозв.</td>\n",
       "      <td>/banks/memory/bank/?id=10256718</td>\n",
       "    </tr>\n",
       "    <tr>\n",
       "      <th>7</th>\n",
       "      <td>Расчетно-Кредитный Банк</td>\n",
       "      <td>103</td>\n",
       "      <td>2018-02-02</td>\n",
       "      <td>[&lt;dd class=\"margin-bottom-zero\"&gt;Вследствие неэ...</td>\n",
       "      <td>отозв.</td>\n",
       "      <td>/banks/memory/bank/?id=10256723</td>\n",
       "    </tr>\n",
       "    <tr>\n",
       "      <th>8</th>\n",
       "      <td>Стар Альянс</td>\n",
       "      <td>3433</td>\n",
       "      <td>2018-01-25</td>\n",
       "      <td>[&lt;dd class=\"margin-bottom-zero\"&gt;В деятельности...</td>\n",
       "      <td>отозв.</td>\n",
       "      <td>/banks/memory/bank/?id=10240410</td>\n",
       "    </tr>\n",
       "    <tr>\n",
       "      <th>9</th>\n",
       "      <td>АлтайБизнес-Банк</td>\n",
       "      <td>2388</td>\n",
       "      <td>2018-01-19</td>\n",
       "      <td>[&lt;dd class=\"margin-bottom-zero\"&gt;Проблемы в дея...</td>\n",
       "      <td>отозв.</td>\n",
       "      <td>/banks/memory/bank/?id=10228131</td>\n",
       "    </tr>\n",
       "    <tr>\n",
       "      <th>10</th>\n",
       "      <td>ВТБ 24</td>\n",
       "      <td>1623</td>\n",
       "      <td>2018-01-01</td>\n",
       "      <td>[&lt;dd class=\"margin-bottom-zero\"&gt;Прекращение де...</td>\n",
       "      <td>ликв.</td>\n",
       "      <td>/banks/memory/bank/?id=10207861</td>\n",
       "    </tr>\n",
       "    <tr>\n",
       "      <th>11</th>\n",
       "      <td>Северный Кредит</td>\n",
       "      <td>2398</td>\n",
       "      <td>2017-12-29</td>\n",
       "      <td>[&lt;dd class=\"margin-bottom-zero\"&gt;В ходе проводи...</td>\n",
       "      <td>отозв.</td>\n",
       "      <td>/banks/memory/bank/?id=10201841</td>\n",
       "    </tr>\n",
       "    <tr>\n",
       "      <th>12</th>\n",
       "      <td>Преодоление</td>\n",
       "      <td>2649</td>\n",
       "      <td>2017-12-22</td>\n",
       "      <td>[&lt;dd class=\"margin-bottom-zero\"&gt;В деятельности...</td>\n",
       "      <td>отозв.</td>\n",
       "      <td>/banks/memory/bank/?id=10185978</td>\n",
       "    </tr>\n",
       "    <tr>\n",
       "      <th>13</th>\n",
       "      <td>Солидарность (Москва)</td>\n",
       "      <td>1555</td>\n",
       "      <td>2017-12-15</td>\n",
       "      <td>[&lt;dd class=\"margin-bottom-zero\"&gt;Проблемы в дея...</td>\n",
       "      <td>отозв.</td>\n",
       "      <td>/banks/memory/bank/?id=10169907</td>\n",
       "    </tr>\n",
       "    <tr>\n",
       "      <th>14</th>\n",
       "      <td>Канский</td>\n",
       "      <td>860</td>\n",
       "      <td>2017-12-13</td>\n",
       "      <td>[&lt;dd class=\"margin-bottom-zero\"&gt;Основу ресурсн...</td>\n",
       "      <td>отозв.</td>\n",
       "      <td>/banks/memory/bank/?id=10164801</td>\n",
       "    </tr>\n",
       "    <tr>\n",
       "      <th>15</th>\n",
       "      <td>Новопокровский</td>\n",
       "      <td>467</td>\n",
       "      <td>2017-04-12</td>\n",
       "      <td>[&lt;dd class=\"margin-bottom-zero\"&gt;ООО «КБ «Новоп...</td>\n",
       "      <td>отозв.</td>\n",
       "      <td>/banks/memory/bank/?id=10145800</td>\n",
       "    </tr>\n",
       "    <tr>\n",
       "      <th>16</th>\n",
       "      <td>Европейский Стандарт</td>\n",
       "      <td>3200</td>\n",
       "      <td>2017-04-12</td>\n",
       "      <td>[&lt;dd class=\"margin-bottom-zero\"&gt;Бизнес ООО «КБ...</td>\n",
       "      <td>отозв.</td>\n",
       "      <td>/banks/memory/bank/?id=10145790</td>\n",
       "    </tr>\n",
       "    <tr>\n",
       "      <th>17</th>\n",
       "      <td>Новый Символ</td>\n",
       "      <td>370</td>\n",
       "      <td>2017-11-27</td>\n",
       "      <td>[&lt;dd class=\"margin-bottom-zero\"&gt;АО «Банк «Новы...</td>\n",
       "      <td>отозв.</td>\n",
       "      <td>/banks/memory/bank/?id=10133257</td>\n",
       "    </tr>\n",
       "    <tr>\n",
       "      <th>18</th>\n",
       "      <td>Регионфинансбанк</td>\n",
       "      <td>3357</td>\n",
       "      <td>2017-11-17</td>\n",
       "      <td>[&lt;dd class=\"margin-bottom-zero\"&gt;Бизнес ООО «КБ...</td>\n",
       "      <td>отозв.</td>\n",
       "      <td>/banks/memory/bank/?id=10117214</td>\n",
       "    </tr>\n",
       "    <tr>\n",
       "      <th>19</th>\n",
       "      <td>Платежный Клиринговый Дом</td>\n",
       "      <td>3343-К</td>\n",
       "      <td>2017-11-14</td>\n",
       "      <td>[&lt;dd class=\"margin-bottom-zero\"&gt;АО «НКО «ПКД» ...</td>\n",
       "      <td>отозв.</td>\n",
       "      <td>/banks/memory/bank/?id=10109614</td>\n",
       "    </tr>\n",
       "  </tbody>\n",
       "</table>\n",
       "</div>"
      ],
      "text/plain": [
       "                                       Банк Лицензия   ликвдата  \\\n",
       "0                                     Алжан     2491 2018-02-03   \n",
       "1                                 Хованский     2145 2018-02-28   \n",
       "2                            Мастер-Капитал     3011 2018-02-20   \n",
       "3                           Уралкапиталбанк     2519 2018-02-15   \n",
       "4            Финансово-Промышленный Капитал     3295 2018-12-02   \n",
       "5   Сибирский Банк Реконструкции и Развития     1284 2018-06-02   \n",
       "6                        ПартнерКапиталБанк      635 2018-02-02   \n",
       "7                   Расчетно-Кредитный Банк      103 2018-02-02   \n",
       "8                               Стар Альянс     3433 2018-01-25   \n",
       "9                          АлтайБизнес-Банк     2388 2018-01-19   \n",
       "10                                   ВТБ 24     1623 2018-01-01   \n",
       "11                          Северный Кредит     2398 2017-12-29   \n",
       "12                              Преодоление     2649 2017-12-22   \n",
       "13                    Солидарность (Москва)     1555 2017-12-15   \n",
       "14                                  Канский      860 2017-12-13   \n",
       "15                           Новопокровский      467 2017-04-12   \n",
       "16                     Европейский Стандарт     3200 2017-04-12   \n",
       "17                             Новый Символ      370 2017-11-27   \n",
       "18                         Регионфинансбанк     3357 2017-11-17   \n",
       "19                Платежный Клиринговый Дом   3343-К 2017-11-14   \n",
       "\n",
       "                                              причина  статус  \\\n",
       "0   [<dd class=\"margin-bottom-zero\">Осуществленные...  отозв.   \n",
       "1   [<dd class=\"margin-bottom-zero\">Прекращение де...   ликв.   \n",
       "2   [<dd class=\"margin-bottom-zero\">Деятельность О...  отозв.   \n",
       "3   [<dd class=\"margin-bottom-zero\">Проблемы в дея...  отозв.   \n",
       "4   [<dd class=\"margin-bottom-zero\">В деятельности...  отозв.   \n",
       "5   [<dd class=\"margin-bottom-zero\">Резкое ухудшен...  отозв.   \n",
       "6   [<dd class=\"margin-bottom-zero\">Бизнес-модель ...  отозв.   \n",
       "7   [<dd class=\"margin-bottom-zero\">Вследствие неэ...  отозв.   \n",
       "8   [<dd class=\"margin-bottom-zero\">В деятельности...  отозв.   \n",
       "9   [<dd class=\"margin-bottom-zero\">Проблемы в дея...  отозв.   \n",
       "10  [<dd class=\"margin-bottom-zero\">Прекращение де...   ликв.   \n",
       "11  [<dd class=\"margin-bottom-zero\">В ходе проводи...  отозв.   \n",
       "12  [<dd class=\"margin-bottom-zero\">В деятельности...  отозв.   \n",
       "13  [<dd class=\"margin-bottom-zero\">Проблемы в дея...  отозв.   \n",
       "14  [<dd class=\"margin-bottom-zero\">Основу ресурсн...  отозв.   \n",
       "15  [<dd class=\"margin-bottom-zero\">ООО «КБ «Новоп...  отозв.   \n",
       "16  [<dd class=\"margin-bottom-zero\">Бизнес ООО «КБ...  отозв.   \n",
       "17  [<dd class=\"margin-bottom-zero\">АО «Банк «Новы...  отозв.   \n",
       "18  [<dd class=\"margin-bottom-zero\">Бизнес ООО «КБ...  отозв.   \n",
       "19  [<dd class=\"margin-bottom-zero\">АО «НКО «ПКД» ...  отозв.   \n",
       "\n",
       "                               хреф  \n",
       "0   /banks/memory/bank/?id=10312268  \n",
       "1   /banks/memory/bank/?id=10312354  \n",
       "2   /banks/memory/bank/?id=10291040  \n",
       "3   /banks/memory/bank/?id=10283277  \n",
       "4   /banks/memory/bank/?id=10275239  \n",
       "5   /banks/memory/bank/?id=10263215  \n",
       "6   /banks/memory/bank/?id=10256718  \n",
       "7   /banks/memory/bank/?id=10256723  \n",
       "8   /banks/memory/bank/?id=10240410  \n",
       "9   /banks/memory/bank/?id=10228131  \n",
       "10  /banks/memory/bank/?id=10207861  \n",
       "11  /banks/memory/bank/?id=10201841  \n",
       "12  /banks/memory/bank/?id=10185978  \n",
       "13  /banks/memory/bank/?id=10169907  \n",
       "14  /banks/memory/bank/?id=10164801  \n",
       "15  /banks/memory/bank/?id=10145800  \n",
       "16  /banks/memory/bank/?id=10145790  \n",
       "17  /banks/memory/bank/?id=10133257  \n",
       "18  /banks/memory/bank/?id=10117214  \n",
       "19  /banks/memory/bank/?id=10109614  "
      ]
     },
     "execution_count": 8,
     "metadata": {},
     "output_type": "execute_result"
    }
   ],
   "source": [
    "closed_banks.head(20)"
   ]
  },
  {
   "cell_type": "code",
   "execution_count": 7,
   "metadata": {},
   "outputs": [
    {
     "data": {
      "text/plain": [
       "Банк        547\n",
       "Лицензия    547\n",
       "ликвдата    547\n",
       "причина     547\n",
       "статус      547\n",
       "хреф        547\n",
       "dtype: int64"
      ]
     },
     "execution_count": 7,
     "metadata": {},
     "output_type": "execute_result"
    }
   ],
   "source": [
    "closed_banks[closed_banks['ликвдата'] >= pd.to_datetime('2010-01-01')].count()"
   ]
  },
  {
   "cell_type": "code",
   "execution_count": 143,
   "metadata": {
    "collapsed": true
   },
   "outputs": [],
   "source": [
    "# Списики банков!\n",
    "likvid_banks = closed_banks[closed_banks['статус']=='ликв.']['Банк']\n",
    "otozv_banks = closed_banks[closed_banks['статус']=='отозв.']['Банк']"
   ]
  },
  {
   "cell_type": "code",
   "execution_count": 750,
   "metadata": {},
   "outputs": [
    {
     "data": {
      "text/plain": [
       "2550"
      ]
     },
     "execution_count": 750,
     "metadata": {},
     "output_type": "execute_result"
    }
   ],
   "source": [
    "len(likvid_banks) + len(otozv_banks)"
   ]
  },
  {
   "cell_type": "code",
   "execution_count": 145,
   "metadata": {
    "collapsed": true
   },
   "outputs": [],
   "source": [
    "# Причины по ликвидированным банкам: \n",
    "likvid_data = closed_banks[closed_banks['статус']=='ликв.']\n",
    "otozv_data = closed_banks[closed_banks['статус']=='отозв.']\n",
    "\n",
    "likvid_data.to_csv('likvid_data.csv',sep='\\t',header=True,index=False)\n",
    "otozv_data.to_csv('otozv_data.csv',sep='\\t',header=True,index=False)"
   ]
  },
  {
   "cell_type": "markdown",
   "metadata": {
    "collapsed": true
   },
   "source": [
    "# ЭТАП 2"
   ]
  },
  {
   "cell_type": "code",
   "execution_count": 14,
   "metadata": {},
   "outputs": [
    {
     "name": "stdout",
     "output_type": "stream",
     "text": [
      "1181\n",
      "503\n",
      "2047\n"
     ]
    },
    {
     "name": "stderr",
     "output_type": "stream",
     "text": [
      "C:\\Users\\imaksimov002\\AppData\\Local\\Continuum\\anaconda\\lib\\site-packages\\IPython\\core\\interactiveshell.py:2698: DtypeWarning: Columns (27) have mixed types. Specify dtype option on import or set low_memory=False.\n",
      "  interactivity=interactivity, compiler=compiler, result=result)\n"
     ]
    }
   ],
   "source": [
    "# Подгружаем списки из банков.\n",
    "uniq_banks = list(pd.read_csv('uniq_banks.csv',sep='\\t',header = 0, encoding=\"cp1251\").iloc[:,0])\n",
    "uniq_banks2 = [re.sub(\"\\D\",'',item) for item in uniq_banks]\n",
    "\n",
    "print(len(uniq_banks))\n",
    "\n",
    "# Подгружаем данные по всякой отозванной фигне. \n",
    "likvid_data = pd.read_csv('likvid_data.csv',sep='\\t',header=0, encoding=\"cp1251\")\n",
    "otozv_data = pd.read_csv('otozv_data.csv',sep='\\t',header=0, encoding=\"cp1251\")\n",
    "print(likvid_data.shape[0])\n",
    "print(otozv_data.shape[0])\n",
    "\n",
    "# Подгружаем табличку с данными.\n",
    "bank_frame = pd.read_csv('all_ok_v3.csv',sep=',',header=0, encoding=\"cp1251\")\n",
    "#uniq_banks = set(bank_frame['Банк'])"
   ]
  },
  {
   "cell_type": "code",
   "execution_count": 13,
   "metadata": {},
   "outputs": [
    {
     "data": {
      "text/html": [
       "<div>\n",
       "<style>\n",
       "    .dataframe thead tr:only-child th {\n",
       "        text-align: right;\n",
       "    }\n",
       "\n",
       "    .dataframe thead th {\n",
       "        text-align: left;\n",
       "    }\n",
       "\n",
       "    .dataframe tbody tr th {\n",
       "        vertical-align: top;\n",
       "    }\n",
       "</style>\n",
       "<table border=\"1\" class=\"dataframe\">\n",
       "  <thead>\n",
       "    <tr style=\"text-align: right;\">\n",
       "      <th></th>\n",
       "      <th>Банк</th>\n",
       "      <th>Лицензия</th>\n",
       "      <th>ликвдата</th>\n",
       "      <th>причина</th>\n",
       "      <th>статус</th>\n",
       "      <th>хреф</th>\n",
       "    </tr>\n",
       "  </thead>\n",
       "  <tbody>\n",
       "    <tr>\n",
       "      <th>0</th>\n",
       "      <td>Алжан</td>\n",
       "      <td>2491</td>\n",
       "      <td>02.03.2018</td>\n",
       "      <td>[&lt;dd class=\"margin-bottom-zero\"&gt;Осуществленные...</td>\n",
       "      <td>отозв.</td>\n",
       "      <td>/banks/memory/bank/?id=10312268</td>\n",
       "    </tr>\n",
       "    <tr>\n",
       "      <th>1</th>\n",
       "      <td>Мастер-Капитал</td>\n",
       "      <td>3011</td>\n",
       "      <td>20.02.2018</td>\n",
       "      <td>[&lt;dd class=\"margin-bottom-zero\"&gt;Деятельность О...</td>\n",
       "      <td>отозв.</td>\n",
       "      <td>/banks/memory/bank/?id=10291040</td>\n",
       "    </tr>\n",
       "  </tbody>\n",
       "</table>\n",
       "</div>"
      ],
      "text/plain": [
       "             Банк Лицензия    ликвдата  \\\n",
       "0           Алжан     2491  02.03.2018   \n",
       "1  Мастер-Капитал     3011  20.02.2018   \n",
       "\n",
       "                                             причина  статус  \\\n",
       "0  [<dd class=\"margin-bottom-zero\">Осуществленные...  отозв.   \n",
       "1  [<dd class=\"margin-bottom-zero\">Деятельность О...  отозв.   \n",
       "\n",
       "                              хреф  \n",
       "0  /banks/memory/bank/?id=10312268  \n",
       "1  /banks/memory/bank/?id=10291040  "
      ]
     },
     "execution_count": 13,
     "metadata": {},
     "output_type": "execute_result"
    }
   ],
   "source": []
  },
  {
   "cell_type": "code",
   "execution_count": 318,
   "metadata": {
    "collapsed": true
   },
   "outputs": [],
   "source": [
    "bank_frame = bank_frame.iloc[:80287, :]"
   ]
  },
  {
   "cell_type": "code",
   "execution_count": 148,
   "metadata": {
    "collapsed": true
   },
   "outputs": [],
   "source": [
    "# Подгружаем списки из банков.\n",
    "uniq_banks = list(pd.read_csv('uniq_banks_v2.csv',sep='\\t',header = 0, encoding=\"cp1251\").iloc[:,0])\n",
    "uniq_banks2 = [re.sub(\"\\D\",'',item) for item in uniq_banks]"
   ]
  },
  {
   "cell_type": "markdown",
   "metadata": {},
   "source": [
    "# Получим номер лицензии"
   ]
  },
  {
   "cell_type": "code",
   "execution_count": 300,
   "metadata": {
    "collapsed": true
   },
   "outputs": [],
   "source": [
    "# функция для выделения номера лицензии из строки\n",
    "def get_license(a):\n",
    "    license = a.split('№ ')[1].split(',')[0]\n",
    "    return(license)"
   ]
  },
  {
   "cell_type": "code",
   "execution_count": 320,
   "metadata": {
    "collapsed": true
   },
   "outputs": [],
   "source": [
    "bank_frame['лицензия'] = 0\n",
    "p = np.array(range(bank_frame.shape[0]))\n",
    "for i in range(80287):\n",
    "    p[i] = get_license(bank_frame.iloc[i, 0])\n",
    "bank_frame['лицензия'] = p"
   ]
  },
  {
   "cell_type": "code",
   "execution_count": 324,
   "metadata": {
    "collapsed": true
   },
   "outputs": [],
   "source": [
    "bank_frame.to_csv('all_ok_v5' + '.csv',sep=',',header=True, index=False)"
   ]
  },
  {
   "cell_type": "markdown",
   "metadata": {},
   "source": [
    "# Норматив ликвидности банка Н3 "
   ]
  },
  {
   "cell_type": "code",
   "execution_count": 508,
   "metadata": {
    "collapsed": true
   },
   "outputs": [],
   "source": [
    "liquidity = pd.read_csv('liquidity_2.csv',sep=',', header = 0,  encoding=\"cp1251\")"
   ]
  },
  {
   "cell_type": "code",
   "execution_count": 509,
   "metadata": {
    "collapsed": true
   },
   "outputs": [],
   "source": [
    "liquidity.dropna(axis=0, how='any', inplace = True)\n",
    "liquidity.columns = ['drop', 'лицензия', 'N3', 'дата']\n",
    "liquidity[['лицензия']] = liquidity[['лицензия']].astype(int)\n",
    "liquidity['дата'] = pd.to_datetime(liquidity['дата'])"
   ]
  },
  {
   "cell_type": "code",
   "execution_count": 510,
   "metadata": {
    "collapsed": true
   },
   "outputs": [],
   "source": [
    "liquidity.drop(['drop'], inplace = True, axis = 1)"
   ]
  },
  {
   "cell_type": "code",
   "execution_count": 511,
   "metadata": {},
   "outputs": [
    {
     "data": {
      "text/html": [
       "<div>\n",
       "<style>\n",
       "    .dataframe thead tr:only-child th {\n",
       "        text-align: right;\n",
       "    }\n",
       "\n",
       "    .dataframe thead th {\n",
       "        text-align: left;\n",
       "    }\n",
       "\n",
       "    .dataframe tbody tr th {\n",
       "        vertical-align: top;\n",
       "    }\n",
       "</style>\n",
       "<table border=\"1\" class=\"dataframe\">\n",
       "  <thead>\n",
       "    <tr style=\"text-align: right;\">\n",
       "      <th></th>\n",
       "      <th>лицензия</th>\n",
       "      <th>N3</th>\n",
       "      <th>дата</th>\n",
       "    </tr>\n",
       "  </thead>\n",
       "  <tbody>\n",
       "    <tr>\n",
       "      <th>0</th>\n",
       "      <td>1</td>\n",
       "      <td>73.16</td>\n",
       "      <td>2010-06-01</td>\n",
       "    </tr>\n",
       "    <tr>\n",
       "      <th>1</th>\n",
       "      <td>67</td>\n",
       "      <td>63.10</td>\n",
       "      <td>2010-06-01</td>\n",
       "    </tr>\n",
       "    <tr>\n",
       "      <th>2</th>\n",
       "      <td>85</td>\n",
       "      <td>90.30</td>\n",
       "      <td>2010-06-01</td>\n",
       "    </tr>\n",
       "    <tr>\n",
       "      <th>3</th>\n",
       "      <td>96</td>\n",
       "      <td>143.33</td>\n",
       "      <td>2010-06-01</td>\n",
       "    </tr>\n",
       "    <tr>\n",
       "      <th>4</th>\n",
       "      <td>101</td>\n",
       "      <td>147.25</td>\n",
       "      <td>2010-06-01</td>\n",
       "    </tr>\n",
       "  </tbody>\n",
       "</table>\n",
       "</div>"
      ],
      "text/plain": [
       "   лицензия      N3       дата\n",
       "0         1   73.16 2010-06-01\n",
       "1        67   63.10 2010-06-01\n",
       "2        85   90.30 2010-06-01\n",
       "3        96  143.33 2010-06-01\n",
       "4       101  147.25 2010-06-01"
      ]
     },
     "execution_count": 511,
     "metadata": {},
     "output_type": "execute_result"
    }
   ],
   "source": [
    "liquidity.head(5)"
   ]
  },
  {
   "cell_type": "markdown",
   "metadata": {},
   "source": [
    "# Обработка данных по закрытым банкам"
   ]
  },
  {
   "cell_type": "code",
   "execution_count": 523,
   "metadata": {
    "collapsed": true
   },
   "outputs": [],
   "source": [
    "#closed_banks[['Лицензия']] = closed_banks[['Лицензия']].astype(int)\n",
    "closed_banks['ликвдата'] = pd.to_datetime(closed_banks['ликвдата'])"
   ]
  },
  {
   "cell_type": "code",
   "execution_count": 530,
   "metadata": {
    "collapsed": true
   },
   "outputs": [],
   "source": [
    "# Данные скачались немного криво: надо поменять день и месяц местами\n",
    "closed_banks['дата'] = 0\n",
    "for u in range(closed_banks.shape[0] - 1):\n",
    "    y = closed_banks.iloc[u, 1].year\n",
    "    m = closed_banks.iloc[u, 1].month\n",
    "    if len(str(m)) == 1:\n",
    "        m = '-0'+ str(m)\n",
    "    else:\n",
    "        m = '-' + str(m)\n",
    "    d = '-01'\n",
    "    date = str(y) + m + d\n",
    "    date = pd.to_datetime(date)\n",
    "    closed_banks.iloc[u, 2] = date"
   ]
  },
  {
   "cell_type": "code",
   "execution_count": 532,
   "metadata": {
    "collapsed": true
   },
   "outputs": [],
   "source": [
    "closed_banks.drop('ликвдата', inplace = True, axis = 1)"
   ]
  },
  {
   "cell_type": "code",
   "execution_count": 534,
   "metadata": {
    "collapsed": true
   },
   "outputs": [],
   "source": [
    "closed_banks.columns = ['лицензия','дата']"
   ]
  },
  {
   "cell_type": "code",
   "execution_count": 536,
   "metadata": {
    "collapsed": true
   },
   "outputs": [],
   "source": [
    "closed_banks['default'] = 1"
   ]
  },
  {
   "cell_type": "markdown",
   "metadata": {},
   "source": [
    "# Макро показатели"
   ]
  },
  {
   "cell_type": "code",
   "execution_count": 496,
   "metadata": {
    "collapsed": true
   },
   "outputs": [],
   "source": [
    "macro = pd.read_csv('macro_1.csv',sep=',', header = 0,  encoding=\"cp1251\")"
   ]
  },
  {
   "cell_type": "code",
   "execution_count": 497,
   "metadata": {
    "collapsed": true
   },
   "outputs": [],
   "source": [
    "macro['Date'] = pd.to_datetime(macro['Date'])"
   ]
  },
  {
   "cell_type": "code",
   "execution_count": 499,
   "metadata": {
    "collapsed": true
   },
   "outputs": [],
   "source": [
    "macro.columns = ['drop','дата', 'M2', 'M2_SA', 'INF_SA', 'NX', 'NX_log', 'Nx_growth', 'usd_rub', 'usd_rub_std',\\\n",
    "                 'micex', 'micex_std', 'miacr', 'miacr_std', 'miacr_amount', 'net_foreign_assets',\\\n",
    "                 'net_gov_debt', 'other_fin_debt', 'retail_debt', 'stocks_capital', 'i_retail_credit', 'i_retail_debit',\\\n",
    "                 'i_retail_spread']"
   ]
  },
  {
   "cell_type": "code",
   "execution_count": 501,
   "metadata": {
    "collapsed": true
   },
   "outputs": [],
   "source": [
    "macro.drop(['drop'], inplace = True, axis = 1)"
   ]
  },
  {
   "cell_type": "code",
   "execution_count": 502,
   "metadata": {},
   "outputs": [
    {
     "data": {
      "text/html": [
       "<div>\n",
       "<style>\n",
       "    .dataframe thead tr:only-child th {\n",
       "        text-align: right;\n",
       "    }\n",
       "\n",
       "    .dataframe thead th {\n",
       "        text-align: left;\n",
       "    }\n",
       "\n",
       "    .dataframe tbody tr th {\n",
       "        vertical-align: top;\n",
       "    }\n",
       "</style>\n",
       "<table border=\"1\" class=\"dataframe\">\n",
       "  <thead>\n",
       "    <tr style=\"text-align: right;\">\n",
       "      <th></th>\n",
       "      <th>дата</th>\n",
       "      <th>M2</th>\n",
       "      <th>M2_SA</th>\n",
       "      <th>INF_SA</th>\n",
       "      <th>NX</th>\n",
       "      <th>NX_log</th>\n",
       "      <th>Nx_growth</th>\n",
       "      <th>usd_rub</th>\n",
       "      <th>usd_rub_std</th>\n",
       "      <th>micex</th>\n",
       "      <th>...</th>\n",
       "      <th>miacr_std</th>\n",
       "      <th>miacr_amount</th>\n",
       "      <th>net_foreign_assets</th>\n",
       "      <th>net_gov_debt</th>\n",
       "      <th>other_fin_debt</th>\n",
       "      <th>retail_debt</th>\n",
       "      <th>stocks_capital</th>\n",
       "      <th>i_retail_credit</th>\n",
       "      <th>i_retail_debit</th>\n",
       "      <th>i_retail_spread</th>\n",
       "    </tr>\n",
       "  </thead>\n",
       "  <tbody>\n",
       "    <tr>\n",
       "      <th>0</th>\n",
       "      <td>2009-12-01</td>\n",
       "      <td>14967.6</td>\n",
       "      <td>14477.677786</td>\n",
       "      <td>0.020000</td>\n",
       "      <td>13107</td>\n",
       "      <td>9.480902</td>\n",
       "      <td>0</td>\n",
       "      <td>29.60000</td>\n",
       "      <td>0.180000</td>\n",
       "      <td>1433.648</td>\n",
       "      <td>...</td>\n",
       "      <td>1.181512</td>\n",
       "      <td>2643995</td>\n",
       "      <td>14099099</td>\n",
       "      <td>-6769343</td>\n",
       "      <td>516858</td>\n",
       "      <td>3959248</td>\n",
       "      <td>6004665</td>\n",
       "      <td>17.1</td>\n",
       "      <td>6.0</td>\n",
       "      <td>11.1</td>\n",
       "    </tr>\n",
       "    <tr>\n",
       "      <th>1</th>\n",
       "      <td>2010-01-01</td>\n",
       "      <td>15267.6</td>\n",
       "      <td>14477.677786</td>\n",
       "      <td>0.020000</td>\n",
       "      <td>15835</td>\n",
       "      <td>9.669978</td>\n",
       "      <td>2728</td>\n",
       "      <td>29.83873</td>\n",
       "      <td>0.374754</td>\n",
       "      <td>1433.648</td>\n",
       "      <td>...</td>\n",
       "      <td>0.724981</td>\n",
       "      <td>2643995</td>\n",
       "      <td>13942674</td>\n",
       "      <td>-5174038</td>\n",
       "      <td>564379</td>\n",
       "      <td>3932605</td>\n",
       "      <td>6219422</td>\n",
       "      <td>17.1</td>\n",
       "      <td>6.0</td>\n",
       "      <td>11.1</td>\n",
       "    </tr>\n",
       "    <tr>\n",
       "      <th>2</th>\n",
       "      <td>2010-02-01</td>\n",
       "      <td>14904.1</td>\n",
       "      <td>14875.445322</td>\n",
       "      <td>0.027475</td>\n",
       "      <td>14855</td>\n",
       "      <td>9.606092</td>\n",
       "      <td>-980</td>\n",
       "      <td>30.15797</td>\n",
       "      <td>0.177248</td>\n",
       "      <td>1351.718</td>\n",
       "      <td>...</td>\n",
       "      <td>0.330918</td>\n",
       "      <td>2643995</td>\n",
       "      <td>14168103</td>\n",
       "      <td>-5439869</td>\n",
       "      <td>529987</td>\n",
       "      <td>3913803</td>\n",
       "      <td>6279331</td>\n",
       "      <td>17.2</td>\n",
       "      <td>6.2</td>\n",
       "      <td>11.0</td>\n",
       "    </tr>\n",
       "    <tr>\n",
       "      <th>3</th>\n",
       "      <td>2010-03-01</td>\n",
       "      <td>15236.4</td>\n",
       "      <td>15247.121207</td>\n",
       "      <td>0.024986</td>\n",
       "      <td>14556</td>\n",
       "      <td>9.585759</td>\n",
       "      <td>-299</td>\n",
       "      <td>29.55940</td>\n",
       "      <td>0.238446</td>\n",
       "      <td>1410.415</td>\n",
       "      <td>...</td>\n",
       "      <td>0.359785</td>\n",
       "      <td>2643995</td>\n",
       "      <td>14039665</td>\n",
       "      <td>-5008998</td>\n",
       "      <td>508111</td>\n",
       "      <td>3898961</td>\n",
       "      <td>6283624</td>\n",
       "      <td>17.1</td>\n",
       "      <td>6.0</td>\n",
       "      <td>11.1</td>\n",
       "    </tr>\n",
       "    <tr>\n",
       "      <th>4</th>\n",
       "      <td>2010-04-01</td>\n",
       "      <td>15639.4</td>\n",
       "      <td>15570.868119</td>\n",
       "      <td>0.021233</td>\n",
       "      <td>13789</td>\n",
       "      <td>9.531626</td>\n",
       "      <td>-767</td>\n",
       "      <td>29.19324</td>\n",
       "      <td>0.158573</td>\n",
       "      <td>1478.745</td>\n",
       "      <td>...</td>\n",
       "      <td>0.246044</td>\n",
       "      <td>2643995</td>\n",
       "      <td>13815998</td>\n",
       "      <td>-4916261</td>\n",
       "      <td>507036</td>\n",
       "      <td>3910081</td>\n",
       "      <td>6347867</td>\n",
       "      <td>17.1</td>\n",
       "      <td>6.1</td>\n",
       "      <td>11.0</td>\n",
       "    </tr>\n",
       "  </tbody>\n",
       "</table>\n",
       "<p>5 rows × 22 columns</p>\n",
       "</div>"
      ],
      "text/plain": [
       "        дата       M2         M2_SA    INF_SA     NX    NX_log  Nx_growth  \\\n",
       "0 2009-12-01  14967.6  14477.677786  0.020000  13107  9.480902          0   \n",
       "1 2010-01-01  15267.6  14477.677786  0.020000  15835  9.669978       2728   \n",
       "2 2010-02-01  14904.1  14875.445322  0.027475  14855  9.606092       -980   \n",
       "3 2010-03-01  15236.4  15247.121207  0.024986  14556  9.585759       -299   \n",
       "4 2010-04-01  15639.4  15570.868119  0.021233  13789  9.531626       -767   \n",
       "\n",
       "    usd_rub  usd_rub_std     micex       ...         miacr_std  miacr_amount  \\\n",
       "0  29.60000     0.180000  1433.648       ...          1.181512       2643995   \n",
       "1  29.83873     0.374754  1433.648       ...          0.724981       2643995   \n",
       "2  30.15797     0.177248  1351.718       ...          0.330918       2643995   \n",
       "3  29.55940     0.238446  1410.415       ...          0.359785       2643995   \n",
       "4  29.19324     0.158573  1478.745       ...          0.246044       2643995   \n",
       "\n",
       "   net_foreign_assets  net_gov_debt  other_fin_debt  retail_debt  \\\n",
       "0            14099099      -6769343          516858      3959248   \n",
       "1            13942674      -5174038          564379      3932605   \n",
       "2            14168103      -5439869          529987      3913803   \n",
       "3            14039665      -5008998          508111      3898961   \n",
       "4            13815998      -4916261          507036      3910081   \n",
       "\n",
       "   stocks_capital  i_retail_credit  i_retail_debit  i_retail_spread  \n",
       "0         6004665             17.1             6.0             11.1  \n",
       "1         6219422             17.1             6.0             11.1  \n",
       "2         6279331             17.2             6.2             11.0  \n",
       "3         6283624             17.1             6.0             11.1  \n",
       "4         6347867             17.1             6.1             11.0  \n",
       "\n",
       "[5 rows x 22 columns]"
      ]
     },
     "execution_count": 502,
     "metadata": {},
     "output_type": "execute_result"
    }
   ],
   "source": [
    "macro.head(5)"
   ]
  },
  {
   "cell_type": "markdown",
   "metadata": {},
   "source": [
    "# Капитал банков"
   ]
  },
  {
   "cell_type": "code",
   "execution_count": 447,
   "metadata": {
    "collapsed": true
   },
   "outputs": [],
   "source": [
    "capital = pd.read_csv('capital_1.csv',sep=',', header = 0,  encoding=\"cp1251\")"
   ]
  },
  {
   "cell_type": "code",
   "execution_count": 450,
   "metadata": {
    "collapsed": true
   },
   "outputs": [],
   "source": [
    "capital.columns = ['drop', 'date', 'bank', 'license', 'capital', 'msk_spb']\n",
    "capital.drop(['drop'], inplace = True, axis = 1)"
   ]
  },
  {
   "cell_type": "code",
   "execution_count": 451,
   "metadata": {
    "collapsed": true
   },
   "outputs": [],
   "source": [
    "capital.dropna(axis=0, how='any', inplace = True)\n",
    "capital[['license']] = capital[['license']].astype(int)\n",
    "capital['date'] = pd.to_datetime(capital['date'])"
   ]
  },
  {
   "cell_type": "code",
   "execution_count": 452,
   "metadata": {
    "collapsed": true
   },
   "outputs": [],
   "source": [
    "capital.columns = ['дата', 'банк', 'лицензия', 'capital', 'msk_spb']"
   ]
  },
  {
   "cell_type": "code",
   "execution_count": 746,
   "metadata": {},
   "outputs": [
    {
     "data": {
      "text/html": [
       "<div>\n",
       "<style>\n",
       "    .dataframe thead tr:only-child th {\n",
       "        text-align: right;\n",
       "    }\n",
       "\n",
       "    .dataframe thead th {\n",
       "        text-align: left;\n",
       "    }\n",
       "\n",
       "    .dataframe tbody tr th {\n",
       "        vertical-align: top;\n",
       "    }\n",
       "</style>\n",
       "<table border=\"1\" class=\"dataframe\">\n",
       "  <thead>\n",
       "    <tr style=\"text-align: right;\">\n",
       "      <th></th>\n",
       "      <th>дата</th>\n",
       "      <th>банк</th>\n",
       "      <th>лицензия</th>\n",
       "      <th>capital</th>\n",
       "      <th>msk_spb</th>\n",
       "    </tr>\n",
       "  </thead>\n",
       "  <tbody>\n",
       "    <tr>\n",
       "      <th>74869</th>\n",
       "      <td>2017-11-01</td>\n",
       "      <td>Элплат</td>\n",
       "      <td>3535</td>\n",
       "      <td>18995.0</td>\n",
       "      <td>0</td>\n",
       "    </tr>\n",
       "    <tr>\n",
       "      <th>75434</th>\n",
       "      <td>2017-12-01</td>\n",
       "      <td>Элплат</td>\n",
       "      <td>3535</td>\n",
       "      <td>18995.0</td>\n",
       "      <td>0</td>\n",
       "    </tr>\n",
       "    <tr>\n",
       "      <th>74277</th>\n",
       "      <td>2017-10-01</td>\n",
       "      <td>Р-Инкас</td>\n",
       "      <td>3536</td>\n",
       "      <td>102845.0</td>\n",
       "      <td>1</td>\n",
       "    </tr>\n",
       "    <tr>\n",
       "      <th>74849</th>\n",
       "      <td>2017-11-01</td>\n",
       "      <td>Р-Инкас</td>\n",
       "      <td>3536</td>\n",
       "      <td>97707.0</td>\n",
       "      <td>1</td>\n",
       "    </tr>\n",
       "    <tr>\n",
       "      <th>75415</th>\n",
       "      <td>2017-12-01</td>\n",
       "      <td>Р-Инкас</td>\n",
       "      <td>3536</td>\n",
       "      <td>90689.0</td>\n",
       "      <td>1</td>\n",
       "    </tr>\n",
       "  </tbody>\n",
       "</table>\n",
       "</div>"
      ],
      "text/plain": [
       "            дата     банк  лицензия   capital  msk_spb\n",
       "74869 2017-11-01   Элплат      3535   18995.0        0\n",
       "75434 2017-12-01   Элплат      3535   18995.0        0\n",
       "74277 2017-10-01  Р-Инкас      3536  102845.0        1\n",
       "74849 2017-11-01  Р-Инкас      3536   97707.0        1\n",
       "75415 2017-12-01  Р-Инкас      3536   90689.0        1"
      ]
     },
     "execution_count": 746,
     "metadata": {},
     "output_type": "execute_result"
    }
   ],
   "source": [
    "capital.tail(5)"
   ]
  },
  {
   "cell_type": "markdown",
   "metadata": {},
   "source": [
    "# Join всего в один датафрейм"
   ]
  },
  {
   "cell_type": "code",
   "execution_count": 455,
   "metadata": {
    "collapsed": true
   },
   "outputs": [],
   "source": [
    "bank_frame[['лицензия']] = bank_frame[['лицензия']].astype(int)\n",
    "bank_frame['дата'] = pd.to_datetime(bank_frame['дата'])"
   ]
  },
  {
   "cell_type": "code",
   "execution_count": 471,
   "metadata": {
    "collapsed": true
   },
   "outputs": [],
   "source": [
    "capital.sort_values(by = ['лицензия', 'дата'], inplace = True)\n",
    "bank_frame.sort_values(by = ['лицензия', 'дата'], inplace = True)\n",
    "liquidity.sort_values(by = ['лицензия', 'дата'], inplace = True)"
   ]
  },
  {
   "cell_type": "code",
   "execution_count": 458,
   "metadata": {
    "collapsed": true
   },
   "outputs": [],
   "source": [
    "df = bank_frame.set_index(['лицензия', 'дата']).join(capital.set_index(['лицензия', 'дата']), how = 'inner')"
   ]
  },
  {
   "cell_type": "code",
   "execution_count": 477,
   "metadata": {
    "collapsed": true
   },
   "outputs": [],
   "source": [
    "df_1 = df.join(liquidity.set_index(['лицензия', 'дата']), how = 'left')"
   ]
  },
  {
   "cell_type": "code",
   "execution_count": 493,
   "metadata": {},
   "outputs": [
    {
     "ename": "ValueError",
     "evalue": "invalid literal for int() with base 10: '1 372,32'",
     "output_type": "error",
     "traceback": [
      "\u001b[1;31m---------------------------------------------------------------------------\u001b[0m",
      "\u001b[1;31mValueError\u001b[0m                                Traceback (most recent call last)",
      "\u001b[1;32m<ipython-input-493-3cc2fc515630>\u001b[0m in \u001b[0;36m<module>\u001b[1;34m()\u001b[0m\n\u001b[1;32m----> 1\u001b[1;33m \u001b[0mdf_1\u001b[0m\u001b[1;33m[\u001b[0m\u001b[1;34m'ИД_1800'\u001b[0m\u001b[1;33m]\u001b[0m \u001b[1;33m=\u001b[0m \u001b[0mdf_1\u001b[0m\u001b[1;33m[\u001b[0m\u001b[1;34m'ИД_1800'\u001b[0m\u001b[1;33m]\u001b[0m\u001b[1;33m.\u001b[0m\u001b[0mfillna\u001b[0m\u001b[1;33m(\u001b[0m\u001b[1;36m0\u001b[0m\u001b[1;33m)\u001b[0m\u001b[1;33m.\u001b[0m\u001b[0mastype\u001b[0m\u001b[1;33m(\u001b[0m\u001b[0mint\u001b[0m\u001b[1;33m)\u001b[0m\u001b[1;33m\u001b[0m\u001b[0m\n\u001b[0m\u001b[0;32m      2\u001b[0m \u001b[0mdf_1\u001b[0m\u001b[1;33m[\u001b[0m\u001b[1;34m'N3'\u001b[0m\u001b[1;33m]\u001b[0m \u001b[1;33m=\u001b[0m \u001b[0mdf_1\u001b[0m\u001b[1;33m[\u001b[0m\u001b[1;34m'N3'\u001b[0m\u001b[1;33m]\u001b[0m\u001b[1;33m.\u001b[0m\u001b[0mfillna\u001b[0m\u001b[1;33m(\u001b[0m\u001b[1;36m0\u001b[0m\u001b[1;33m)\u001b[0m\u001b[1;33m.\u001b[0m\u001b[0mastype\u001b[0m\u001b[1;33m(\u001b[0m\u001b[0mint\u001b[0m\u001b[1;33m)\u001b[0m\u001b[1;33m\u001b[0m\u001b[0m\n",
      "\u001b[1;32m~\\AppData\\Local\\Continuum\\anaconda\\lib\\site-packages\\pandas\\util\\_decorators.py\u001b[0m in \u001b[0;36mwrapper\u001b[1;34m(*args, **kwargs)\u001b[0m\n\u001b[0;32m     89\u001b[0m                 \u001b[1;32melse\u001b[0m\u001b[1;33m:\u001b[0m\u001b[1;33m\u001b[0m\u001b[0m\n\u001b[0;32m     90\u001b[0m                     \u001b[0mkwargs\u001b[0m\u001b[1;33m[\u001b[0m\u001b[0mnew_arg_name\u001b[0m\u001b[1;33m]\u001b[0m \u001b[1;33m=\u001b[0m \u001b[0mnew_arg_value\u001b[0m\u001b[1;33m\u001b[0m\u001b[0m\n\u001b[1;32m---> 91\u001b[1;33m             \u001b[1;32mreturn\u001b[0m \u001b[0mfunc\u001b[0m\u001b[1;33m(\u001b[0m\u001b[1;33m*\u001b[0m\u001b[0margs\u001b[0m\u001b[1;33m,\u001b[0m \u001b[1;33m**\u001b[0m\u001b[0mkwargs\u001b[0m\u001b[1;33m)\u001b[0m\u001b[1;33m\u001b[0m\u001b[0m\n\u001b[0m\u001b[0;32m     92\u001b[0m         \u001b[1;32mreturn\u001b[0m \u001b[0mwrapper\u001b[0m\u001b[1;33m\u001b[0m\u001b[0m\n\u001b[0;32m     93\u001b[0m     \u001b[1;32mreturn\u001b[0m \u001b[0m_deprecate_kwarg\u001b[0m\u001b[1;33m\u001b[0m\u001b[0m\n",
      "\u001b[1;32m~\\AppData\\Local\\Continuum\\anaconda\\lib\\site-packages\\pandas\\core\\generic.py\u001b[0m in \u001b[0;36mastype\u001b[1;34m(self, dtype, copy, errors, **kwargs)\u001b[0m\n\u001b[0;32m   3408\u001b[0m         \u001b[1;31m# else, only a single dtype is given\u001b[0m\u001b[1;33m\u001b[0m\u001b[1;33m\u001b[0m\u001b[0m\n\u001b[0;32m   3409\u001b[0m         new_data = self._data.astype(dtype=dtype, copy=copy, errors=errors,\n\u001b[1;32m-> 3410\u001b[1;33m                                      **kwargs)\n\u001b[0m\u001b[0;32m   3411\u001b[0m         \u001b[1;32mreturn\u001b[0m \u001b[0mself\u001b[0m\u001b[1;33m.\u001b[0m\u001b[0m_constructor\u001b[0m\u001b[1;33m(\u001b[0m\u001b[0mnew_data\u001b[0m\u001b[1;33m)\u001b[0m\u001b[1;33m.\u001b[0m\u001b[0m__finalize__\u001b[0m\u001b[1;33m(\u001b[0m\u001b[0mself\u001b[0m\u001b[1;33m)\u001b[0m\u001b[1;33m\u001b[0m\u001b[0m\n\u001b[0;32m   3412\u001b[0m \u001b[1;33m\u001b[0m\u001b[0m\n",
      "\u001b[1;32m~\\AppData\\Local\\Continuum\\anaconda\\lib\\site-packages\\pandas\\core\\internals.py\u001b[0m in \u001b[0;36mastype\u001b[1;34m(self, dtype, **kwargs)\u001b[0m\n\u001b[0;32m   3222\u001b[0m \u001b[1;33m\u001b[0m\u001b[0m\n\u001b[0;32m   3223\u001b[0m     \u001b[1;32mdef\u001b[0m \u001b[0mastype\u001b[0m\u001b[1;33m(\u001b[0m\u001b[0mself\u001b[0m\u001b[1;33m,\u001b[0m \u001b[0mdtype\u001b[0m\u001b[1;33m,\u001b[0m \u001b[1;33m**\u001b[0m\u001b[0mkwargs\u001b[0m\u001b[1;33m)\u001b[0m\u001b[1;33m:\u001b[0m\u001b[1;33m\u001b[0m\u001b[0m\n\u001b[1;32m-> 3224\u001b[1;33m         \u001b[1;32mreturn\u001b[0m \u001b[0mself\u001b[0m\u001b[1;33m.\u001b[0m\u001b[0mapply\u001b[0m\u001b[1;33m(\u001b[0m\u001b[1;34m'astype'\u001b[0m\u001b[1;33m,\u001b[0m \u001b[0mdtype\u001b[0m\u001b[1;33m=\u001b[0m\u001b[0mdtype\u001b[0m\u001b[1;33m,\u001b[0m \u001b[1;33m**\u001b[0m\u001b[0mkwargs\u001b[0m\u001b[1;33m)\u001b[0m\u001b[1;33m\u001b[0m\u001b[0m\n\u001b[0m\u001b[0;32m   3225\u001b[0m \u001b[1;33m\u001b[0m\u001b[0m\n\u001b[0;32m   3226\u001b[0m     \u001b[1;32mdef\u001b[0m \u001b[0mconvert\u001b[0m\u001b[1;33m(\u001b[0m\u001b[0mself\u001b[0m\u001b[1;33m,\u001b[0m \u001b[1;33m**\u001b[0m\u001b[0mkwargs\u001b[0m\u001b[1;33m)\u001b[0m\u001b[1;33m:\u001b[0m\u001b[1;33m\u001b[0m\u001b[0m\n",
      "\u001b[1;32m~\\AppData\\Local\\Continuum\\anaconda\\lib\\site-packages\\pandas\\core\\internals.py\u001b[0m in \u001b[0;36mapply\u001b[1;34m(self, f, axes, filter, do_integrity_check, consolidate, **kwargs)\u001b[0m\n\u001b[0;32m   3089\u001b[0m \u001b[1;33m\u001b[0m\u001b[0m\n\u001b[0;32m   3090\u001b[0m             \u001b[0mkwargs\u001b[0m\u001b[1;33m[\u001b[0m\u001b[1;34m'mgr'\u001b[0m\u001b[1;33m]\u001b[0m \u001b[1;33m=\u001b[0m \u001b[0mself\u001b[0m\u001b[1;33m\u001b[0m\u001b[0m\n\u001b[1;32m-> 3091\u001b[1;33m             \u001b[0mapplied\u001b[0m \u001b[1;33m=\u001b[0m \u001b[0mgetattr\u001b[0m\u001b[1;33m(\u001b[0m\u001b[0mb\u001b[0m\u001b[1;33m,\u001b[0m \u001b[0mf\u001b[0m\u001b[1;33m)\u001b[0m\u001b[1;33m(\u001b[0m\u001b[1;33m**\u001b[0m\u001b[0mkwargs\u001b[0m\u001b[1;33m)\u001b[0m\u001b[1;33m\u001b[0m\u001b[0m\n\u001b[0m\u001b[0;32m   3092\u001b[0m             \u001b[0mresult_blocks\u001b[0m \u001b[1;33m=\u001b[0m \u001b[0m_extend_blocks\u001b[0m\u001b[1;33m(\u001b[0m\u001b[0mapplied\u001b[0m\u001b[1;33m,\u001b[0m \u001b[0mresult_blocks\u001b[0m\u001b[1;33m)\u001b[0m\u001b[1;33m\u001b[0m\u001b[0m\n\u001b[0;32m   3093\u001b[0m \u001b[1;33m\u001b[0m\u001b[0m\n",
      "\u001b[1;32m~\\AppData\\Local\\Continuum\\anaconda\\lib\\site-packages\\pandas\\core\\internals.py\u001b[0m in \u001b[0;36mastype\u001b[1;34m(self, dtype, copy, errors, values, **kwargs)\u001b[0m\n\u001b[0;32m    469\u001b[0m     \u001b[1;32mdef\u001b[0m \u001b[0mastype\u001b[0m\u001b[1;33m(\u001b[0m\u001b[0mself\u001b[0m\u001b[1;33m,\u001b[0m \u001b[0mdtype\u001b[0m\u001b[1;33m,\u001b[0m \u001b[0mcopy\u001b[0m\u001b[1;33m=\u001b[0m\u001b[1;32mFalse\u001b[0m\u001b[1;33m,\u001b[0m \u001b[0merrors\u001b[0m\u001b[1;33m=\u001b[0m\u001b[1;34m'raise'\u001b[0m\u001b[1;33m,\u001b[0m \u001b[0mvalues\u001b[0m\u001b[1;33m=\u001b[0m\u001b[1;32mNone\u001b[0m\u001b[1;33m,\u001b[0m \u001b[1;33m**\u001b[0m\u001b[0mkwargs\u001b[0m\u001b[1;33m)\u001b[0m\u001b[1;33m:\u001b[0m\u001b[1;33m\u001b[0m\u001b[0m\n\u001b[0;32m    470\u001b[0m         return self._astype(dtype, copy=copy, errors=errors, values=values,\n\u001b[1;32m--> 471\u001b[1;33m                             **kwargs)\n\u001b[0m\u001b[0;32m    472\u001b[0m \u001b[1;33m\u001b[0m\u001b[0m\n\u001b[0;32m    473\u001b[0m     def _astype(self, dtype, copy=False, errors='raise', values=None,\n",
      "\u001b[1;32m~\\AppData\\Local\\Continuum\\anaconda\\lib\\site-packages\\pandas\\core\\internals.py\u001b[0m in \u001b[0;36m_astype\u001b[1;34m(self, dtype, copy, errors, values, klass, mgr, raise_on_error, **kwargs)\u001b[0m\n\u001b[0;32m    519\u001b[0m \u001b[1;33m\u001b[0m\u001b[0m\n\u001b[0;32m    520\u001b[0m                 \u001b[1;31m# _astype_nansafe works fine with 1-d only\u001b[0m\u001b[1;33m\u001b[0m\u001b[1;33m\u001b[0m\u001b[0m\n\u001b[1;32m--> 521\u001b[1;33m                 \u001b[0mvalues\u001b[0m \u001b[1;33m=\u001b[0m \u001b[0mastype_nansafe\u001b[0m\u001b[1;33m(\u001b[0m\u001b[0mvalues\u001b[0m\u001b[1;33m.\u001b[0m\u001b[0mravel\u001b[0m\u001b[1;33m(\u001b[0m\u001b[1;33m)\u001b[0m\u001b[1;33m,\u001b[0m \u001b[0mdtype\u001b[0m\u001b[1;33m,\u001b[0m \u001b[0mcopy\u001b[0m\u001b[1;33m=\u001b[0m\u001b[1;32mTrue\u001b[0m\u001b[1;33m)\u001b[0m\u001b[1;33m\u001b[0m\u001b[0m\n\u001b[0m\u001b[0;32m    522\u001b[0m                 \u001b[0mvalues\u001b[0m \u001b[1;33m=\u001b[0m \u001b[0mvalues\u001b[0m\u001b[1;33m.\u001b[0m\u001b[0mreshape\u001b[0m\u001b[1;33m(\u001b[0m\u001b[0mself\u001b[0m\u001b[1;33m.\u001b[0m\u001b[0mshape\u001b[0m\u001b[1;33m)\u001b[0m\u001b[1;33m\u001b[0m\u001b[0m\n\u001b[0;32m    523\u001b[0m \u001b[1;33m\u001b[0m\u001b[0m\n",
      "\u001b[1;32m~\\AppData\\Local\\Continuum\\anaconda\\lib\\site-packages\\pandas\\core\\dtypes\\cast.py\u001b[0m in \u001b[0;36mastype_nansafe\u001b[1;34m(arr, dtype, copy)\u001b[0m\n\u001b[0;32m    623\u001b[0m     \u001b[1;32melif\u001b[0m \u001b[0marr\u001b[0m\u001b[1;33m.\u001b[0m\u001b[0mdtype\u001b[0m \u001b[1;33m==\u001b[0m \u001b[0mnp\u001b[0m\u001b[1;33m.\u001b[0m\u001b[0mobject_\u001b[0m \u001b[1;32mand\u001b[0m \u001b[0mnp\u001b[0m\u001b[1;33m.\u001b[0m\u001b[0missubdtype\u001b[0m\u001b[1;33m(\u001b[0m\u001b[0mdtype\u001b[0m\u001b[1;33m.\u001b[0m\u001b[0mtype\u001b[0m\u001b[1;33m,\u001b[0m \u001b[0mnp\u001b[0m\u001b[1;33m.\u001b[0m\u001b[0minteger\u001b[0m\u001b[1;33m)\u001b[0m\u001b[1;33m:\u001b[0m\u001b[1;33m\u001b[0m\u001b[0m\n\u001b[0;32m    624\u001b[0m         \u001b[1;31m# work around NumPy brokenness, #1987\u001b[0m\u001b[1;33m\u001b[0m\u001b[1;33m\u001b[0m\u001b[0m\n\u001b[1;32m--> 625\u001b[1;33m         \u001b[1;32mreturn\u001b[0m \u001b[0mlib\u001b[0m\u001b[1;33m.\u001b[0m\u001b[0mastype_intsafe\u001b[0m\u001b[1;33m(\u001b[0m\u001b[0marr\u001b[0m\u001b[1;33m.\u001b[0m\u001b[0mravel\u001b[0m\u001b[1;33m(\u001b[0m\u001b[1;33m)\u001b[0m\u001b[1;33m,\u001b[0m \u001b[0mdtype\u001b[0m\u001b[1;33m)\u001b[0m\u001b[1;33m.\u001b[0m\u001b[0mreshape\u001b[0m\u001b[1;33m(\u001b[0m\u001b[0marr\u001b[0m\u001b[1;33m.\u001b[0m\u001b[0mshape\u001b[0m\u001b[1;33m)\u001b[0m\u001b[1;33m\u001b[0m\u001b[0m\n\u001b[0m\u001b[0;32m    626\u001b[0m \u001b[1;33m\u001b[0m\u001b[0m\n\u001b[0;32m    627\u001b[0m     \u001b[1;32mif\u001b[0m \u001b[0mdtype\u001b[0m\u001b[1;33m.\u001b[0m\u001b[0mname\u001b[0m \u001b[1;32min\u001b[0m \u001b[1;33m(\u001b[0m\u001b[1;34m\"datetime64\"\u001b[0m\u001b[1;33m,\u001b[0m \u001b[1;34m\"timedelta64\"\u001b[0m\u001b[1;33m)\u001b[0m\u001b[1;33m:\u001b[0m\u001b[1;33m\u001b[0m\u001b[0m\n",
      "\u001b[1;32mpandas\\_libs\\lib.pyx\u001b[0m in \u001b[0;36mpandas._libs.lib.astype_intsafe\u001b[1;34m()\u001b[0m\n",
      "\u001b[1;32mpandas/_libs/src\\util.pxd\u001b[0m in \u001b[0;36mutil.set_value_at_unsafe\u001b[1;34m()\u001b[0m\n",
      "\u001b[1;31mValueError\u001b[0m: invalid literal for int() with base 10: '1 372,32'"
     ]
    }
   ],
   "source": [
    "df_1['ИД_1800'] = df_1['ИД_1800'].fillna(0).astype(int)\n",
    "df_1['N3'] = df_1['N3'].fillna(0).astype(int)"
   ]
  },
  {
   "cell_type": "code",
   "execution_count": 503,
   "metadata": {
    "collapsed": true
   },
   "outputs": [],
   "source": [
    "df_2 = df.join(macro.set_index(['дата']), how = 'inner')"
   ]
  },
  {
   "cell_type": "code",
   "execution_count": 512,
   "metadata": {
    "collapsed": true
   },
   "outputs": [],
   "source": [
    "df_3 = df_2.join(liquidity.set_index(['лицензия', 'дата']), how = 'left')"
   ]
  },
  {
   "cell_type": "code",
   "execution_count": 563,
   "metadata": {
    "collapsed": true
   },
   "outputs": [],
   "source": [
    "# Очистка данных\n",
    "closed_banks['лицензия'] = closed_banks['лицензия'].str.replace('-К', '')\n",
    "closed_banks['лицензия'] = closed_banks['лицензия'].str.replace('-Д', '')\n",
    "closed_banks['лицензия'] = closed_banks['лицензия'].str.replace('-Р', '')\n",
    "closed_banks['лицензия'] = closed_banks['лицензия'].str.replace('-K', '')\n",
    "closed_banks['лицензия'] = closed_banks['лицензия'].str.replace('-к', '')\n",
    "closed_banks = closed_banks.iloc[ :(closed_banks.shape[0] - 2), :]\n",
    "closed_banks[['лицензия']] = closed_banks[['лицензия']].astype(int)\n",
    "closed_banks['дата'] = pd.to_datetime(closed_banks['дата'])"
   ]
  },
  {
   "cell_type": "code",
   "execution_count": 578,
   "metadata": {},
   "outputs": [
    {
     "name": "stderr",
     "output_type": "stream",
     "text": [
      "C:\\Users\\imaksimov002\\AppData\\Local\\Continuum\\anaconda\\lib\\site-packages\\ipykernel_launcher.py:1: SettingWithCopyWarning: \n",
      "A value is trying to be set on a copy of a slice from a DataFrame\n",
      "\n",
      "See the caveats in the documentation: http://pandas.pydata.org/pandas-docs/stable/indexing.html#indexing-view-versus-copy\n",
      "  \"\"\"Entry point for launching an IPython kernel.\n"
     ]
    }
   ],
   "source": [
    "closed_banks.sort_values(by = ['лицензия', 'дата'], inplace = True)"
   ]
  },
  {
   "cell_type": "code",
   "execution_count": 673,
   "metadata": {
    "collapsed": true
   },
   "outputs": [],
   "source": [
    "df_4 = df_3.join(closed_banks.set_index(['лицензия', 'дата']), how = 'left')"
   ]
  },
  {
   "cell_type": "code",
   "execution_count": 626,
   "metadata": {},
   "outputs": [
    {
     "data": {
      "text/plain": [
       "(74633, 54)"
      ]
     },
     "execution_count": 626,
     "metadata": {},
     "output_type": "execute_result"
    }
   ],
   "source": [
    "df_4.shape"
   ]
  },
  {
   "cell_type": "code",
   "execution_count": 674,
   "metadata": {
    "collapsed": true
   },
   "outputs": [],
   "source": [
    "df_4['default'] = df_4['default'].fillna(0)\n",
    "df_4.drop(['Лицензия_банк'], inplace = True, axis = 1)"
   ]
  },
  {
   "cell_type": "code",
   "execution_count": 593,
   "metadata": {
    "collapsed": true
   },
   "outputs": [],
   "source": [
    "df_4.to_csv('final_data_3' + '.csv',sep=',',header=True, index=True)"
   ]
  },
  {
   "cell_type": "code",
   "execution_count": 591,
   "metadata": {},
   "outputs": [
    {
     "data": {
      "text/html": [
       "<div>\n",
       "<style>\n",
       "    .dataframe thead tr:only-child th {\n",
       "        text-align: right;\n",
       "    }\n",
       "\n",
       "    .dataframe thead th {\n",
       "        text-align: left;\n",
       "    }\n",
       "\n",
       "    .dataframe tbody tr th {\n",
       "        vertical-align: top;\n",
       "    }\n",
       "</style>\n",
       "<table border=\"1\" class=\"dataframe\">\n",
       "  <thead>\n",
       "    <tr style=\"text-align: right;\">\n",
       "      <th></th>\n",
       "      <th></th>\n",
       "      <th>ИД_10</th>\n",
       "      <th>ИД_1000</th>\n",
       "      <th>ИД_110</th>\n",
       "      <th>ИД_120</th>\n",
       "      <th>ИД_130</th>\n",
       "      <th>ИД_140</th>\n",
       "      <th>ИД_160</th>\n",
       "      <th>ИД_260</th>\n",
       "      <th>ИД_30</th>\n",
       "      <th>ИД_300</th>\n",
       "      <th>...</th>\n",
       "      <th>net_foreign_assets</th>\n",
       "      <th>net_gov_debt</th>\n",
       "      <th>other_fin_debt</th>\n",
       "      <th>retail_debt</th>\n",
       "      <th>stocks_capital</th>\n",
       "      <th>i_retail_credit</th>\n",
       "      <th>i_retail_debit</th>\n",
       "      <th>i_retail_spread</th>\n",
       "      <th>N3</th>\n",
       "      <th>default</th>\n",
       "    </tr>\n",
       "    <tr>\n",
       "      <th>лицензия</th>\n",
       "      <th>дата</th>\n",
       "      <th></th>\n",
       "      <th></th>\n",
       "      <th></th>\n",
       "      <th></th>\n",
       "      <th></th>\n",
       "      <th></th>\n",
       "      <th></th>\n",
       "      <th></th>\n",
       "      <th></th>\n",
       "      <th></th>\n",
       "      <th></th>\n",
       "      <th></th>\n",
       "      <th></th>\n",
       "      <th></th>\n",
       "      <th></th>\n",
       "      <th></th>\n",
       "      <th></th>\n",
       "      <th></th>\n",
       "      <th></th>\n",
       "      <th></th>\n",
       "      <th></th>\n",
       "    </tr>\n",
       "  </thead>\n",
       "  <tbody>\n",
       "    <tr>\n",
       "      <th rowspan=\"5\" valign=\"top\">0</th>\n",
       "      <th>2010-02-01</th>\n",
       "      <td>423 017</td>\n",
       "      <td>27</td>\n",
       "      <td>112 770</td>\n",
       "      <td>60 000</td>\n",
       "      <td>0</td>\n",
       "      <td>0</td>\n",
       "      <td>0</td>\n",
       "      <td>0</td>\n",
       "      <td>102</td>\n",
       "      <td>225 000</td>\n",
       "      <td>...</td>\n",
       "      <td>14168103</td>\n",
       "      <td>-5439869</td>\n",
       "      <td>529987</td>\n",
       "      <td>3913803</td>\n",
       "      <td>6279331</td>\n",
       "      <td>17.2</td>\n",
       "      <td>6.2</td>\n",
       "      <td>11.0</td>\n",
       "      <td>NaN</td>\n",
       "      <td>0.0</td>\n",
       "    </tr>\n",
       "    <tr>\n",
       "      <th>2010-03-01</th>\n",
       "      <td>498 411</td>\n",
       "      <td>75</td>\n",
       "      <td>172 628</td>\n",
       "      <td>90 000</td>\n",
       "      <td>0</td>\n",
       "      <td>0</td>\n",
       "      <td>0</td>\n",
       "      <td>0</td>\n",
       "      <td>569</td>\n",
       "      <td>225 000</td>\n",
       "      <td>...</td>\n",
       "      <td>14039665</td>\n",
       "      <td>-5008998</td>\n",
       "      <td>508111</td>\n",
       "      <td>3898961</td>\n",
       "      <td>6283624</td>\n",
       "      <td>17.1</td>\n",
       "      <td>6.0</td>\n",
       "      <td>11.1</td>\n",
       "      <td>NaN</td>\n",
       "      <td>0.0</td>\n",
       "    </tr>\n",
       "    <tr>\n",
       "      <th>2010-04-01</th>\n",
       "      <td>571 220</td>\n",
       "      <td>54</td>\n",
       "      <td>211 860</td>\n",
       "      <td>90 000</td>\n",
       "      <td>0</td>\n",
       "      <td>0</td>\n",
       "      <td>0</td>\n",
       "      <td>997</td>\n",
       "      <td>651</td>\n",
       "      <td>227 287</td>\n",
       "      <td>...</td>\n",
       "      <td>13815998</td>\n",
       "      <td>-4916261</td>\n",
       "      <td>507036</td>\n",
       "      <td>3910081</td>\n",
       "      <td>6347867</td>\n",
       "      <td>17.1</td>\n",
       "      <td>6.1</td>\n",
       "      <td>11.0</td>\n",
       "      <td>NaN</td>\n",
       "      <td>0.0</td>\n",
       "    </tr>\n",
       "    <tr>\n",
       "      <th>2010-05-01</th>\n",
       "      <td>523 027</td>\n",
       "      <td>41</td>\n",
       "      <td>159 970</td>\n",
       "      <td>90 000</td>\n",
       "      <td>0</td>\n",
       "      <td>0</td>\n",
       "      <td>0</td>\n",
       "      <td>481</td>\n",
       "      <td>677</td>\n",
       "      <td>227 130</td>\n",
       "      <td>...</td>\n",
       "      <td>14067700</td>\n",
       "      <td>-5051224</td>\n",
       "      <td>507117</td>\n",
       "      <td>3955282</td>\n",
       "      <td>6383875</td>\n",
       "      <td>17.1</td>\n",
       "      <td>6.0</td>\n",
       "      <td>11.1</td>\n",
       "      <td>NaN</td>\n",
       "      <td>0.0</td>\n",
       "    </tr>\n",
       "    <tr>\n",
       "      <th>2010-06-01</th>\n",
       "      <td>473 713</td>\n",
       "      <td>31</td>\n",
       "      <td>131 782</td>\n",
       "      <td>135 000</td>\n",
       "      <td>0</td>\n",
       "      <td>0</td>\n",
       "      <td>0</td>\n",
       "      <td>485</td>\n",
       "      <td>644</td>\n",
       "      <td>191 306</td>\n",
       "      <td>...</td>\n",
       "      <td>14454661</td>\n",
       "      <td>-4878647</td>\n",
       "      <td>496365</td>\n",
       "      <td>4014144</td>\n",
       "      <td>6356903</td>\n",
       "      <td>17.2</td>\n",
       "      <td>5.8</td>\n",
       "      <td>11.4</td>\n",
       "      <td>NaN</td>\n",
       "      <td>0.0</td>\n",
       "    </tr>\n",
       "  </tbody>\n",
       "</table>\n",
       "<p>5 rows × 53 columns</p>\n",
       "</div>"
      ],
      "text/plain": [
       "                       ИД_10 ИД_1000   ИД_110   ИД_120 ИД_130 ИД_140 ИД_160  \\\n",
       "лицензия дата                                                                 \n",
       "0        2010-02-01  423 017      27  112 770   60 000      0      0      0   \n",
       "         2010-03-01  498 411      75  172 628   90 000      0      0      0   \n",
       "         2010-04-01  571 220      54  211 860   90 000      0      0      0   \n",
       "         2010-05-01  523 027      41  159 970   90 000      0      0      0   \n",
       "         2010-06-01  473 713      31  131 782  135 000      0      0      0   \n",
       "\n",
       "                    ИД_260 ИД_30   ИД_300   ...    net_foreign_assets  \\\n",
       "лицензия дата                               ...                         \n",
       "0        2010-02-01      0   102  225 000   ...              14168103   \n",
       "         2010-03-01      0   569  225 000   ...              14039665   \n",
       "         2010-04-01    997   651  227 287   ...              13815998   \n",
       "         2010-05-01    481   677  227 130   ...              14067700   \n",
       "         2010-06-01    485   644  191 306   ...              14454661   \n",
       "\n",
       "                    net_gov_debt other_fin_debt retail_debt stocks_capital  \\\n",
       "лицензия дата                                                                \n",
       "0        2010-02-01     -5439869         529987     3913803        6279331   \n",
       "         2010-03-01     -5008998         508111     3898961        6283624   \n",
       "         2010-04-01     -4916261         507036     3910081        6347867   \n",
       "         2010-05-01     -5051224         507117     3955282        6383875   \n",
       "         2010-06-01     -4878647         496365     4014144        6356903   \n",
       "\n",
       "                    i_retail_credit i_retail_debit i_retail_spread  N3  \\\n",
       "лицензия дата                                                            \n",
       "0        2010-02-01            17.2            6.2            11.0 NaN   \n",
       "         2010-03-01            17.1            6.0            11.1 NaN   \n",
       "         2010-04-01            17.1            6.1            11.0 NaN   \n",
       "         2010-05-01            17.1            6.0            11.1 NaN   \n",
       "         2010-06-01            17.2            5.8            11.4 NaN   \n",
       "\n",
       "                     default  \n",
       "лицензия дата                 \n",
       "0        2010-02-01      0.0  \n",
       "         2010-03-01      0.0  \n",
       "         2010-04-01      0.0  \n",
       "         2010-05-01      0.0  \n",
       "         2010-06-01      0.0  \n",
       "\n",
       "[5 rows x 53 columns]"
      ]
     },
     "execution_count": 591,
     "metadata": {},
     "output_type": "execute_result"
    }
   ],
   "source": [
    "df_4.head(5)"
   ]
  },
  {
   "cell_type": "code",
   "execution_count": 676,
   "metadata": {
    "collapsed": true
   },
   "outputs": [],
   "source": [
    "# очистка данных:\n",
    "\n",
    "gg = lambda x: x.replace('?','-') # ? -> -\n",
    "pp = lambda y: y.replace(' ', '') # убратб пробелы\n",
    "cc = lambda z: z.replace(',','.') # , -> .\n",
    "\n",
    "item = ['10', '1000','110','120','130', '140','160', '260', '30', '300', '360','40', '400', '50', '500', '60', '70', '1100', '200','1300', '1400', '1500', '401', '1800', '1700','1600']\n",
    "for i in item:\n",
    "    a = \"ИД_\" + i\n",
    "    df_4[a] = df_4[a].astype(str)\n",
    "    df_4[a] = df_4[a].apply(gg)\n",
    "    df_4[a] = df_4[a].apply(pp)\n",
    "    df_4[a] = df_4[a].apply(cc)"
   ]
  },
  {
   "cell_type": "code",
   "execution_count": 677,
   "metadata": {
    "collapsed": true
   },
   "outputs": [],
   "source": [
    "# часть данных оказалась в долях, а не в %: исправим это\n",
    "df_4['ИД_1000'] = df_4['ИД_1000'].astype(float) + (df_4['ИД_1000'].astype(float) < 0)*df_4['ИД_1000'].astype(float)*99\n",
    "df_4['ИД_1100'] = df_4['ИД_1100'].astype(float) + (df_4['ИД_1100'].astype(float) < 0)*df_4['ИД_1100'].astype(float)*99"
   ]
  },
  {
   "cell_type": "code",
   "execution_count": 679,
   "metadata": {
    "collapsed": true
   },
   "outputs": [],
   "source": [
    "# перевести в числовой тип\n",
    "item = ['10', '1000','110','120','130', '140','160', '260', '30', '300', '360','40', '400', '50', '500', '60', '70', '1100', '200','1300', '1400', '1500', '401', '1800', '1700','1600']\n",
    "for i in item:\n",
    "    a = \"ИД_\" + i\n",
    "    df_4[a] = df_4[a].astype(float)"
   ]
  },
  {
   "cell_type": "code",
   "execution_count": 651,
   "metadata": {
    "collapsed": true
   },
   "outputs": [],
   "source": [
    "df_4.to_csv('final_data_5' + '.csv',sep=',',header=True, index=True)"
   ]
  },
  {
   "cell_type": "markdown",
   "metadata": {},
   "source": [
    "# Обработка пропусков (NaN)"
   ]
  },
  {
   "cell_type": "code",
   "execution_count": 680,
   "metadata": {
    "collapsed": true
   },
   "outputs": [],
   "source": [
    "df_5 = df_4"
   ]
  },
  {
   "cell_type": "code",
   "execution_count": 691,
   "metadata": {
    "collapsed": true
   },
   "outputs": [],
   "source": [
    "df_5.dropna(thresh = 16, subset = ['ИД_10', 'ИД_1000','ИД_110','ИД_120','ИД_130', 'ИД_140','ИД_160', 'ИД_260',\\\n",
    "                                  'ИД_30', 'ИД_300', 'ИД_360','ИД_40', 'ИД_400', 'ИД_50', 'ИД_500', 'ИД_60',\\\n",
    "                                  'ИД_70', 'ИД_1100'],\n",
    "           inplace = True)"
   ]
  },
  {
   "cell_type": "code",
   "execution_count": 731,
   "metadata": {},
   "outputs": [
    {
     "data": {
      "text/plain": [
       "'ИД_10'"
      ]
     },
     "execution_count": 731,
     "metadata": {},
     "output_type": "execute_result"
    }
   ],
   "source": [
    "col = df_5.columns"
   ]
  },
  {
   "cell_type": "code",
   "execution_count": 704,
   "metadata": {
    "collapsed": true
   },
   "outputs": [],
   "source": [
    "# Сохраним данные о названиях банков\n",
    "bank_names = df_5.iloc[:, 27]\n",
    "bank_names.to_csv('bank_names' + '.csv',sep=',',header=True, index=True)"
   ]
  },
  {
   "cell_type": "code",
   "execution_count": 705,
   "metadata": {
    "collapsed": true
   },
   "outputs": [],
   "source": [
    "# уберу ненужные столбцы\n",
    "df_5.drop(['лиц_дат', 'банк'], inplace = True, axis = 1)"
   ]
  },
  {
   "cell_type": "code",
   "execution_count": 721,
   "metadata": {
    "collapsed": true
   },
   "outputs": [],
   "source": [
    "# Трюк, чтобы индексы стали столбцами\n",
    "df_5.to_csv('final_data_6' + '.csv',sep=',',header=True, index=True)\n",
    "df_6 = pd.read_csv('final_data_6.csv',sep=',', header = 0,  encoding=\"cp1251\")\n",
    "\n",
    "# Отдельно запишем индексы\n",
    "lic = df_6['лицензия']\n",
    "dat = df_6['дата']"
   ]
  },
  {
   "cell_type": "code",
   "execution_count": 726,
   "metadata": {
    "collapsed": true
   },
   "outputs": [],
   "source": [
    "# Заполним пропуски медианой\n",
    "from sklearn.preprocessing import Imputer\n",
    "imr = Imputer(missing_values = 'NaN', strategy = 'median', axis = 0)\n",
    "imr.fit(df_5)\n",
    "df_imp = df_5\n",
    "df_imp = imr.transform(df_5.values)"
   ]
  },
  {
   "cell_type": "code",
   "execution_count": 735,
   "metadata": {},
   "outputs": [
    {
     "data": {
      "text/html": [
       "<div>\n",
       "<style>\n",
       "    .dataframe thead tr:only-child th {\n",
       "        text-align: right;\n",
       "    }\n",
       "\n",
       "    .dataframe thead th {\n",
       "        text-align: left;\n",
       "    }\n",
       "\n",
       "    .dataframe tbody tr th {\n",
       "        vertical-align: top;\n",
       "    }\n",
       "</style>\n",
       "<table border=\"1\" class=\"dataframe\">\n",
       "  <thead>\n",
       "    <tr style=\"text-align: right;\">\n",
       "      <th></th>\n",
       "      <th></th>\n",
       "      <th>ИД_10</th>\n",
       "      <th>ИД_1000</th>\n",
       "      <th>ИД_110</th>\n",
       "      <th>ИД_120</th>\n",
       "      <th>ИД_130</th>\n",
       "      <th>ИД_140</th>\n",
       "      <th>ИД_160</th>\n",
       "      <th>ИД_260</th>\n",
       "      <th>ИД_30</th>\n",
       "      <th>ИД_300</th>\n",
       "      <th>...</th>\n",
       "      <th>net_foreign_assets</th>\n",
       "      <th>net_gov_debt</th>\n",
       "      <th>other_fin_debt</th>\n",
       "      <th>retail_debt</th>\n",
       "      <th>stocks_capital</th>\n",
       "      <th>i_retail_credit</th>\n",
       "      <th>i_retail_debit</th>\n",
       "      <th>i_retail_spread</th>\n",
       "      <th>N3</th>\n",
       "      <th>default</th>\n",
       "    </tr>\n",
       "    <tr>\n",
       "      <th>лицензия</th>\n",
       "      <th>дата</th>\n",
       "      <th></th>\n",
       "      <th></th>\n",
       "      <th></th>\n",
       "      <th></th>\n",
       "      <th></th>\n",
       "      <th></th>\n",
       "      <th></th>\n",
       "      <th></th>\n",
       "      <th></th>\n",
       "      <th></th>\n",
       "      <th></th>\n",
       "      <th></th>\n",
       "      <th></th>\n",
       "      <th></th>\n",
       "      <th></th>\n",
       "      <th></th>\n",
       "      <th></th>\n",
       "      <th></th>\n",
       "      <th></th>\n",
       "      <th></th>\n",
       "      <th></th>\n",
       "    </tr>\n",
       "  </thead>\n",
       "  <tbody>\n",
       "    <tr>\n",
       "      <th rowspan=\"5\" valign=\"top\">0</th>\n",
       "      <th>2010-02-01</th>\n",
       "      <td>423017.0</td>\n",
       "      <td>27.0</td>\n",
       "      <td>112770.0</td>\n",
       "      <td>60000.0</td>\n",
       "      <td>0.0</td>\n",
       "      <td>0.0</td>\n",
       "      <td>0.0</td>\n",
       "      <td>0.0</td>\n",
       "      <td>102.0</td>\n",
       "      <td>225000.0</td>\n",
       "      <td>...</td>\n",
       "      <td>14168103.0</td>\n",
       "      <td>-5439869.0</td>\n",
       "      <td>529987.0</td>\n",
       "      <td>3913803.0</td>\n",
       "      <td>6279331.0</td>\n",
       "      <td>17.2</td>\n",
       "      <td>6.2</td>\n",
       "      <td>11.0</td>\n",
       "      <td>92.27</td>\n",
       "      <td>0.0</td>\n",
       "    </tr>\n",
       "    <tr>\n",
       "      <th>2010-03-01</th>\n",
       "      <td>498411.0</td>\n",
       "      <td>75.0</td>\n",
       "      <td>172628.0</td>\n",
       "      <td>90000.0</td>\n",
       "      <td>0.0</td>\n",
       "      <td>0.0</td>\n",
       "      <td>0.0</td>\n",
       "      <td>0.0</td>\n",
       "      <td>569.0</td>\n",
       "      <td>225000.0</td>\n",
       "      <td>...</td>\n",
       "      <td>14039665.0</td>\n",
       "      <td>-5008998.0</td>\n",
       "      <td>508111.0</td>\n",
       "      <td>3898961.0</td>\n",
       "      <td>6283624.0</td>\n",
       "      <td>17.1</td>\n",
       "      <td>6.0</td>\n",
       "      <td>11.1</td>\n",
       "      <td>92.27</td>\n",
       "      <td>0.0</td>\n",
       "    </tr>\n",
       "    <tr>\n",
       "      <th>2010-04-01</th>\n",
       "      <td>571220.0</td>\n",
       "      <td>54.0</td>\n",
       "      <td>211860.0</td>\n",
       "      <td>90000.0</td>\n",
       "      <td>0.0</td>\n",
       "      <td>0.0</td>\n",
       "      <td>0.0</td>\n",
       "      <td>997.0</td>\n",
       "      <td>651.0</td>\n",
       "      <td>227287.0</td>\n",
       "      <td>...</td>\n",
       "      <td>13815998.0</td>\n",
       "      <td>-4916261.0</td>\n",
       "      <td>507036.0</td>\n",
       "      <td>3910081.0</td>\n",
       "      <td>6347867.0</td>\n",
       "      <td>17.1</td>\n",
       "      <td>6.1</td>\n",
       "      <td>11.0</td>\n",
       "      <td>92.27</td>\n",
       "      <td>0.0</td>\n",
       "    </tr>\n",
       "    <tr>\n",
       "      <th>2010-05-01</th>\n",
       "      <td>523027.0</td>\n",
       "      <td>41.0</td>\n",
       "      <td>159970.0</td>\n",
       "      <td>90000.0</td>\n",
       "      <td>0.0</td>\n",
       "      <td>0.0</td>\n",
       "      <td>0.0</td>\n",
       "      <td>481.0</td>\n",
       "      <td>677.0</td>\n",
       "      <td>227130.0</td>\n",
       "      <td>...</td>\n",
       "      <td>14067700.0</td>\n",
       "      <td>-5051224.0</td>\n",
       "      <td>507117.0</td>\n",
       "      <td>3955282.0</td>\n",
       "      <td>6383875.0</td>\n",
       "      <td>17.1</td>\n",
       "      <td>6.0</td>\n",
       "      <td>11.1</td>\n",
       "      <td>92.27</td>\n",
       "      <td>0.0</td>\n",
       "    </tr>\n",
       "    <tr>\n",
       "      <th>2010-06-01</th>\n",
       "      <td>473713.0</td>\n",
       "      <td>31.0</td>\n",
       "      <td>131782.0</td>\n",
       "      <td>135000.0</td>\n",
       "      <td>0.0</td>\n",
       "      <td>0.0</td>\n",
       "      <td>0.0</td>\n",
       "      <td>485.0</td>\n",
       "      <td>644.0</td>\n",
       "      <td>191306.0</td>\n",
       "      <td>...</td>\n",
       "      <td>14454661.0</td>\n",
       "      <td>-4878647.0</td>\n",
       "      <td>496365.0</td>\n",
       "      <td>4014144.0</td>\n",
       "      <td>6356903.0</td>\n",
       "      <td>17.2</td>\n",
       "      <td>5.8</td>\n",
       "      <td>11.4</td>\n",
       "      <td>92.27</td>\n",
       "      <td>0.0</td>\n",
       "    </tr>\n",
       "  </tbody>\n",
       "</table>\n",
       "<p>5 rows × 51 columns</p>\n",
       "</div>"
      ],
      "text/plain": [
       "                        ИД_10  ИД_1000    ИД_110    ИД_120  ИД_130  ИД_140  \\\n",
       "лицензия дата                                                                \n",
       "0        2010-02-01  423017.0     27.0  112770.0   60000.0     0.0     0.0   \n",
       "         2010-03-01  498411.0     75.0  172628.0   90000.0     0.0     0.0   \n",
       "         2010-04-01  571220.0     54.0  211860.0   90000.0     0.0     0.0   \n",
       "         2010-05-01  523027.0     41.0  159970.0   90000.0     0.0     0.0   \n",
       "         2010-06-01  473713.0     31.0  131782.0  135000.0     0.0     0.0   \n",
       "\n",
       "                     ИД_160  ИД_260  ИД_30    ИД_300   ...     \\\n",
       "лицензия дата                                          ...      \n",
       "0        2010-02-01     0.0     0.0  102.0  225000.0   ...      \n",
       "         2010-03-01     0.0     0.0  569.0  225000.0   ...      \n",
       "         2010-04-01     0.0   997.0  651.0  227287.0   ...      \n",
       "         2010-05-01     0.0   481.0  677.0  227130.0   ...      \n",
       "         2010-06-01     0.0   485.0  644.0  191306.0   ...      \n",
       "\n",
       "                     net_foreign_assets  net_gov_debt  other_fin_debt  \\\n",
       "лицензия дата                                                           \n",
       "0        2010-02-01          14168103.0    -5439869.0        529987.0   \n",
       "         2010-03-01          14039665.0    -5008998.0        508111.0   \n",
       "         2010-04-01          13815998.0    -4916261.0        507036.0   \n",
       "         2010-05-01          14067700.0    -5051224.0        507117.0   \n",
       "         2010-06-01          14454661.0    -4878647.0        496365.0   \n",
       "\n",
       "                     retail_debt  stocks_capital  i_retail_credit  \\\n",
       "лицензия дата                                                       \n",
       "0        2010-02-01    3913803.0       6279331.0             17.2   \n",
       "         2010-03-01    3898961.0       6283624.0             17.1   \n",
       "         2010-04-01    3910081.0       6347867.0             17.1   \n",
       "         2010-05-01    3955282.0       6383875.0             17.1   \n",
       "         2010-06-01    4014144.0       6356903.0             17.2   \n",
       "\n",
       "                     i_retail_debit  i_retail_spread     N3  default  \n",
       "лицензия дата                                                         \n",
       "0        2010-02-01             6.2             11.0  92.27      0.0  \n",
       "         2010-03-01             6.0             11.1  92.27      0.0  \n",
       "         2010-04-01             6.1             11.0  92.27      0.0  \n",
       "         2010-05-01             6.0             11.1  92.27      0.0  \n",
       "         2010-06-01             5.8             11.4  92.27      0.0  \n",
       "\n",
       "[5 rows x 51 columns]"
      ]
     },
     "execution_count": 735,
     "metadata": {},
     "output_type": "execute_result"
    }
   ],
   "source": [
    "# Добавим индексы\n",
    "df_imp = pd.DataFrame(df_imp, columns = col)\n",
    "df_imp['лицензия'] = lic\n",
    "df_imp['дата'] = dat\n",
    "df_imp = df_imp.set_index(['лицензия', 'дата'])\n",
    "df_imp.head(5)"
   ]
  },
  {
   "cell_type": "markdown",
   "metadata": {},
   "source": [
    "# Переименуем названия столбцов"
   ]
  },
  {
   "cell_type": "code",
   "execution_count": 736,
   "metadata": {},
   "outputs": [
    {
     "data": {
      "text/plain": [
       "Index(['ИД_10', 'ИД_1000', 'ИД_110', 'ИД_120', 'ИД_130', 'ИД_140', 'ИД_160',\n",
       "       'ИД_260', 'ИД_30', 'ИД_300', 'ИД_360', 'ИД_40', 'ИД_400', 'ИД_50',\n",
       "       'ИД_500', 'ИД_60', 'ИД_70', 'ИД_1100', 'ИД_200', 'ИД_1300', 'ИД_1400',\n",
       "       'ИД_1500', 'ИД_401', 'ИД_1800', 'ИД_1700', 'ИД_1600', 'capital',\n",
       "       'msk_spb', 'M2', 'M2_SA', 'INF_SA', 'NX', 'NX_log', 'Nx_growth',\n",
       "       'usd_rub', 'usd_rub_std', 'micex', 'micex_std', 'miacr', 'miacr_std',\n",
       "       'miacr_amount', 'net_foreign_assets', 'net_gov_debt', 'other_fin_debt',\n",
       "       'retail_debt', 'stocks_capital', 'i_retail_credit', 'i_retail_debit',\n",
       "       'i_retail_spread', 'N3', 'default'],\n",
       "      dtype='object')"
      ]
     },
     "execution_count": 736,
     "metadata": {},
     "output_type": "execute_result"
    }
   ],
   "source": [
    "df_imp.columns"
   ]
  },
  {
   "cell_type": "code",
   "execution_count": 753,
   "metadata": {
    "collapsed": true
   },
   "outputs": [],
   "source": [
    "columns = ['net_assets', 'ROA', 'liquid', 'ibl', 'stocks', 'bond', 'oth_cap', 'sunk_retail_credit',\\\n",
    "          'NI', 'organization_credit', 'sunk_organization_credit', 'credit_portf', 'drop', 'sunk_credit_portf',\\\n",
    "          'organization_deposit', 'retail_deposit', 'security_tot', 'ROE', 'retail_credit', 'reserv_credit_perc',\\\n",
    "          'zalog_credit_perc', 'foreign_na_fr', 'retail_deposit_fr', 'N3', 'N2', 'N1', 'capital',\\\n",
    "           'msk_spb', 'M2', 'M2_SA', 'INF_SA', 'NX', 'NX_log', 'Nx_growth',\\\n",
    "           'usd_rub', 'usd_rub_std', 'micex', 'micex_std', 'miacr', 'miacr_std',\\\n",
    "           'miacr_amount', 'net_foreign_assets', 'net_gov_debt', 'other_fin_debt',\\\n",
    "           'retail_debt', 'stocks_capital', 'i_retail_credit', 'i_retail_debit',\\\n",
    "           'i_retail_spread', 'N3.1', 'default']"
   ]
  },
  {
   "cell_type": "code",
   "execution_count": 754,
   "metadata": {
    "collapsed": true
   },
   "outputs": [],
   "source": [
    "df_imp.columns = columns\n",
    "df_imp.drop('drop', axis = 1, inplace = True)\n",
    "df_imp.to_csv('FINAL_imp' + '.csv',sep=',',header=True, index=True)"
   ]
  },
  {
   "cell_type": "code",
   "execution_count": 758,
   "metadata": {
    "collapsed": true
   },
   "outputs": [],
   "source": [
    "# В столбце N3_early показатель Н3 до 2015-01-01, а в N3 - после. Надо их объединить\n",
    "\n",
    "df_imp_1 = pd.read_csv('FINAL_imp.csv',sep=',', header = 0,  encoding=\"cp1251\")\n",
    "df_imp_1['N3'] = df_imp_1['N3']*(df_imp_1['дата'] > '2015-01-01') + df_imp_1['N3.1']*(df_imp_1['дата'] <= '2015-01-01')\n",
    "df_imp_1.drop(['N3.1'], axis = 1, inplace = True)"
   ]
  },
  {
   "cell_type": "code",
   "execution_count": 759,
   "metadata": {},
   "outputs": [
    {
     "data": {
      "text/plain": [
       "1049"
      ]
     },
     "execution_count": 759,
     "metadata": {},
     "output_type": "execute_result"
    }
   ],
   "source": [
    "# количество уникальных банков\n",
    "len(np.unique(lic))"
   ]
  },
  {
   "cell_type": "code",
   "execution_count": 760,
   "metadata": {},
   "outputs": [
    {
     "data": {
      "text/html": [
       "<div>\n",
       "<style>\n",
       "    .dataframe thead tr:only-child th {\n",
       "        text-align: right;\n",
       "    }\n",
       "\n",
       "    .dataframe thead th {\n",
       "        text-align: left;\n",
       "    }\n",
       "\n",
       "    .dataframe tbody tr th {\n",
       "        vertical-align: top;\n",
       "    }\n",
       "</style>\n",
       "<table border=\"1\" class=\"dataframe\">\n",
       "  <thead>\n",
       "    <tr style=\"text-align: right;\">\n",
       "      <th></th>\n",
       "      <th>лицензия</th>\n",
       "      <th>дата</th>\n",
       "      <th>net_assets</th>\n",
       "      <th>ROA</th>\n",
       "      <th>liquid</th>\n",
       "      <th>ibl</th>\n",
       "      <th>stocks</th>\n",
       "      <th>bond</th>\n",
       "      <th>oth_cap</th>\n",
       "      <th>sunk_retail_credit</th>\n",
       "      <th>...</th>\n",
       "      <th>miacr_amount</th>\n",
       "      <th>net_foreign_assets</th>\n",
       "      <th>net_gov_debt</th>\n",
       "      <th>other_fin_debt</th>\n",
       "      <th>retail_debt</th>\n",
       "      <th>stocks_capital</th>\n",
       "      <th>i_retail_credit</th>\n",
       "      <th>i_retail_debit</th>\n",
       "      <th>i_retail_spread</th>\n",
       "      <th>default</th>\n",
       "    </tr>\n",
       "  </thead>\n",
       "  <tbody>\n",
       "    <tr>\n",
       "      <th>0</th>\n",
       "      <td>0</td>\n",
       "      <td>2010-02-01</td>\n",
       "      <td>423017.0</td>\n",
       "      <td>27.0</td>\n",
       "      <td>112770.0</td>\n",
       "      <td>60000.0</td>\n",
       "      <td>0.0</td>\n",
       "      <td>0.0</td>\n",
       "      <td>0.0</td>\n",
       "      <td>0.0</td>\n",
       "      <td>...</td>\n",
       "      <td>2643995.0</td>\n",
       "      <td>14168103.0</td>\n",
       "      <td>-5439869.0</td>\n",
       "      <td>529987.0</td>\n",
       "      <td>3913803.0</td>\n",
       "      <td>6279331.0</td>\n",
       "      <td>17.2</td>\n",
       "      <td>6.2</td>\n",
       "      <td>11.0</td>\n",
       "      <td>0.0</td>\n",
       "    </tr>\n",
       "    <tr>\n",
       "      <th>1</th>\n",
       "      <td>0</td>\n",
       "      <td>2010-03-01</td>\n",
       "      <td>498411.0</td>\n",
       "      <td>75.0</td>\n",
       "      <td>172628.0</td>\n",
       "      <td>90000.0</td>\n",
       "      <td>0.0</td>\n",
       "      <td>0.0</td>\n",
       "      <td>0.0</td>\n",
       "      <td>0.0</td>\n",
       "      <td>...</td>\n",
       "      <td>2643995.0</td>\n",
       "      <td>14039665.0</td>\n",
       "      <td>-5008998.0</td>\n",
       "      <td>508111.0</td>\n",
       "      <td>3898961.0</td>\n",
       "      <td>6283624.0</td>\n",
       "      <td>17.1</td>\n",
       "      <td>6.0</td>\n",
       "      <td>11.1</td>\n",
       "      <td>0.0</td>\n",
       "    </tr>\n",
       "    <tr>\n",
       "      <th>2</th>\n",
       "      <td>0</td>\n",
       "      <td>2010-04-01</td>\n",
       "      <td>571220.0</td>\n",
       "      <td>54.0</td>\n",
       "      <td>211860.0</td>\n",
       "      <td>90000.0</td>\n",
       "      <td>0.0</td>\n",
       "      <td>0.0</td>\n",
       "      <td>0.0</td>\n",
       "      <td>997.0</td>\n",
       "      <td>...</td>\n",
       "      <td>2643995.0</td>\n",
       "      <td>13815998.0</td>\n",
       "      <td>-4916261.0</td>\n",
       "      <td>507036.0</td>\n",
       "      <td>3910081.0</td>\n",
       "      <td>6347867.0</td>\n",
       "      <td>17.1</td>\n",
       "      <td>6.1</td>\n",
       "      <td>11.0</td>\n",
       "      <td>0.0</td>\n",
       "    </tr>\n",
       "    <tr>\n",
       "      <th>3</th>\n",
       "      <td>0</td>\n",
       "      <td>2010-05-01</td>\n",
       "      <td>523027.0</td>\n",
       "      <td>41.0</td>\n",
       "      <td>159970.0</td>\n",
       "      <td>90000.0</td>\n",
       "      <td>0.0</td>\n",
       "      <td>0.0</td>\n",
       "      <td>0.0</td>\n",
       "      <td>481.0</td>\n",
       "      <td>...</td>\n",
       "      <td>2643995.0</td>\n",
       "      <td>14067700.0</td>\n",
       "      <td>-5051224.0</td>\n",
       "      <td>507117.0</td>\n",
       "      <td>3955282.0</td>\n",
       "      <td>6383875.0</td>\n",
       "      <td>17.1</td>\n",
       "      <td>6.0</td>\n",
       "      <td>11.1</td>\n",
       "      <td>0.0</td>\n",
       "    </tr>\n",
       "    <tr>\n",
       "      <th>4</th>\n",
       "      <td>0</td>\n",
       "      <td>2010-06-01</td>\n",
       "      <td>473713.0</td>\n",
       "      <td>31.0</td>\n",
       "      <td>131782.0</td>\n",
       "      <td>135000.0</td>\n",
       "      <td>0.0</td>\n",
       "      <td>0.0</td>\n",
       "      <td>0.0</td>\n",
       "      <td>485.0</td>\n",
       "      <td>...</td>\n",
       "      <td>2643995.0</td>\n",
       "      <td>14454661.0</td>\n",
       "      <td>-4878647.0</td>\n",
       "      <td>496365.0</td>\n",
       "      <td>4014144.0</td>\n",
       "      <td>6356903.0</td>\n",
       "      <td>17.2</td>\n",
       "      <td>5.8</td>\n",
       "      <td>11.4</td>\n",
       "      <td>0.0</td>\n",
       "    </tr>\n",
       "  </tbody>\n",
       "</table>\n",
       "<p>5 rows × 51 columns</p>\n",
       "</div>"
      ],
      "text/plain": [
       "   лицензия        дата  net_assets   ROA    liquid       ibl  stocks  bond  \\\n",
       "0         0  2010-02-01    423017.0  27.0  112770.0   60000.0     0.0   0.0   \n",
       "1         0  2010-03-01    498411.0  75.0  172628.0   90000.0     0.0   0.0   \n",
       "2         0  2010-04-01    571220.0  54.0  211860.0   90000.0     0.0   0.0   \n",
       "3         0  2010-05-01    523027.0  41.0  159970.0   90000.0     0.0   0.0   \n",
       "4         0  2010-06-01    473713.0  31.0  131782.0  135000.0     0.0   0.0   \n",
       "\n",
       "   oth_cap  sunk_retail_credit   ...     miacr_amount  net_foreign_assets  \\\n",
       "0      0.0                 0.0   ...        2643995.0          14168103.0   \n",
       "1      0.0                 0.0   ...        2643995.0          14039665.0   \n",
       "2      0.0               997.0   ...        2643995.0          13815998.0   \n",
       "3      0.0               481.0   ...        2643995.0          14067700.0   \n",
       "4      0.0               485.0   ...        2643995.0          14454661.0   \n",
       "\n",
       "   net_gov_debt  other_fin_debt  retail_debt  stocks_capital  i_retail_credit  \\\n",
       "0    -5439869.0        529987.0    3913803.0       6279331.0             17.2   \n",
       "1    -5008998.0        508111.0    3898961.0       6283624.0             17.1   \n",
       "2    -4916261.0        507036.0    3910081.0       6347867.0             17.1   \n",
       "3    -5051224.0        507117.0    3955282.0       6383875.0             17.1   \n",
       "4    -4878647.0        496365.0    4014144.0       6356903.0             17.2   \n",
       "\n",
       "   i_retail_debit  i_retail_spread  default  \n",
       "0             6.2             11.0      0.0  \n",
       "1             6.0             11.1      0.0  \n",
       "2             6.1             11.0      0.0  \n",
       "3             6.0             11.1      0.0  \n",
       "4             5.8             11.4      0.0  \n",
       "\n",
       "[5 rows x 51 columns]"
      ]
     },
     "execution_count": 760,
     "metadata": {},
     "output_type": "execute_result"
    }
   ],
   "source": [
    "df_imp_1.head(5)"
   ]
  },
  {
   "cell_type": "code",
   "execution_count": 761,
   "metadata": {
    "collapsed": true
   },
   "outputs": [],
   "source": [
    "df_imp_1.to_csv('FINAL_OK_imp' + '.csv',sep=',',header=True, index=True)"
   ]
  }
 ],
 "metadata": {
  "kernelspec": {
   "display_name": "Python 3",
   "language": "python",
   "name": "python3"
  },
  "language_info": {
   "codemirror_mode": {
    "name": "ipython",
    "version": 3
   },
   "file_extension": ".py",
   "mimetype": "text/x-python",
   "name": "python",
   "nbconvert_exporter": "python",
   "pygments_lexer": "ipython3",
   "version": "3.6.3"
  }
 },
 "nbformat": 4,
 "nbformat_minor": 1
}

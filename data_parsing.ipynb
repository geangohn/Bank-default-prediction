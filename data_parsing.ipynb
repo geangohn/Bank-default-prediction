{
 "cells": [
  {
   "cell_type": "markdown",
   "metadata": {},
   "source": [
    "# Parsers"
   ]
  },
  {
   "cell_type": "code",
   "execution_count": null,
   "metadata": {},
   "outputs": [],
   "source": [
    "import numpy as np\n",
    "import pandas as pd\n",
    "\n",
    "from src.parsers import parse_reporting_info, parse_closed_banks"
   ]
  },
  {
   "cell_type": "code",
   "execution_count": null,
   "metadata": {},
   "outputs": [],
   "source": [
    "REPORTING_DATA_FOLDER = 'parsed_data/bank_reporting/'\n",
    "CLOSED_BANKS_DATA_FOLDER = 'parsed_data/closed_banks/'\n",
    "\n",
    "# Список из ID страничек и соответствующие им названия переменных. \n",
    "ID_list = ['10','30','25','20','40','50','60','500','1000','1100','1200','1300','1400','1500','1550',\\\n",
    "           '1600','1700','1800','200','260','300','360','120','70','110','130','140','160','400','401']\n",
    "\n",
    "ID_names_list = ['na','ni','c_123','c_134','cp','LLPGL','dep_f','dep_b','ROA','ROE','LLP','IR','LCP','fr_na',\\\n",
    "                 'fr','H1','H2','H3','c_f','LLP_c_f','c_b','LLP_c_b','ibl','sec_tot','liquid','sec','bond','oth_cap',\\\n",
    "                 'retail','retail_fr']"
   ]
  },
  {
   "cell_type": "markdown",
   "metadata": {},
   "source": [
    "### 1. Bank reporting info"
   ]
  },
  {
   "cell_type": "code",
   "execution_count": null,
   "metadata": {},
   "outputs": [],
   "source": [
    "# Сгенерируем лист из дат, которые необходимо пробежать.\n",
    "# февраль 17 - март 08  (2017-02-01 до  2008-03-01)\n",
    "years = [str(item) for item in range(2010,2018)]\n",
    "months = [str(item) for item in range(1,13)]\n",
    "months2 = [ ]\n",
    "for item in months:\n",
    "    if len(item)==1:\n",
    "        item = '0'+item\n",
    "    months2.append(item)\n",
    "dats = [ ]\n",
    "for item in years:\n",
    "    for jtem in months2:\n",
    "        dats.append(item + '-' + jtem + '-01')"
   ]
  },
  {
   "cell_type": "code",
   "execution_count": null,
   "metadata": {},
   "outputs": [],
   "source": [
    "parse_reporting_info(ID_list, dats, path=REPORTING_DATA_FOLDER)\n",
    "parse_closed_banks(path=CLOSED_BANKS_DATA_FOLDER)"
   ]
  },
  {
   "cell_type": "code",
   "execution_count": null,
   "metadata": {},
   "outputs": [],
   "source": [
    "# Для начала неплохо было бы выявить список из уникальных банков! \n",
    "\n",
    "# Функция, которая обхелиняет два лоиста по уникалтным названиям \n",
    "# Она делает пересечение двух множеств \n",
    "def union(a, b):\n",
    "    return list(set(a) | set(b))\n",
    "\n",
    "def Uniq_banks(frames):\n",
    "    uniq_banks = list(frames[0]['Лицензия_банк'])\n",
    "    for item in ID_list:\n",
    "        uniq_banks = union(uniq_banks,item)\n",
    "    return(uniq_banks)\n",
    "\n",
    "# Сохраним ко всему прочему информацию о том какие банки уникальны.\n",
    "uniq_banks = Uniq_banks(frames)\n",
    "un_banks = pd.DataFrame()\n",
    "un_banks['Уникальные банки'] = uniq_banks\n",
    "\n",
    "# Делаем список из датафреймов, которые мы подгружаем из папки. Соединим все показатели в один датафрейм\n",
    "frames = [pd.read_csv(REPORTING_DATA_FOLDER + strtem +'.csv', header=0, sep=',', encoding=\"cp1251\") \n",
    "          for strtem in ID_list]\n",
    "df_all = frames[0].set_index(['лицензия', 'дата'])\n",
    "    \n",
    "i = 1\n",
    "while i <= len(frames):\n",
    "    df_tmp = pd.DataFrame(frames[i])\n",
    "    df_all = df_all.join(df_tmp.set_index(['лицензия', 'дата']), how = 'outer')\n",
    "    df_all.drop_duplicates(keep = 'first', inplace =True)\n",
    "    i = i + 1"
   ]
  },
  {
   "cell_type": "code",
   "execution_count": null,
   "metadata": {},
   "outputs": [],
   "source": [
    "df_all.to_csv(REPORTING_DATA_FOLDER + 'reporting_all.csv', sep=',',header=True,index=True)\n",
    "un_banks.to_csv(REPORTING_DATA_FOLDER + 'unique_banks.csv',sep='\\t',header=True,index=False)"
   ]
  },
  {
   "cell_type": "markdown",
   "metadata": {},
   "source": [
    "### 2. Closed banks info"
   ]
  },
  {
   "cell_type": "code",
   "execution_count": null,
   "metadata": {},
   "outputs": [],
   "source": [
    "parse_closed_banks(path=CLOSED_BANKS_DATA_FOLDER, mainpage='http://www.banki.ru')"
   ]
  },
  {
   "cell_type": "code",
   "execution_count": null,
   "metadata": {},
   "outputs": [],
   "source": [
    "closed_banks = pd.read_csv('closed_banks.csv', header=0, sep=',', encoding=\"cp1251\")\n",
    "closed_banks['ликвдата'] = pd.to_datetime(closed_banks['ликвдата'])\n",
    "\n",
    "# Причины по ликвидированным банкам: \n",
    "likvid_data = closed_banks[closed_banks['статус']=='ликв.']\n",
    "otozv_data = closed_banks[closed_banks['статус']=='отозв.']\n",
    "\n",
    "likvid_data.to_csv(CLOSED_BANKS_DATA_FOLDER + 'likvid_data.csv',sep='\\t',header=True,index=False)\n",
    "otozv_data.to_csv(CLOSED_BANKS_DATA_FOLDER + 'otozv_data.csv',sep='\\t',header=True,index=False)"
   ]
  },
  {
   "cell_type": "markdown",
   "metadata": {},
   "source": [
    "### 3. Other data"
   ]
  },
  {
   "cell_type": "markdown",
   "metadata": {},
   "source": [
    "Other data was already in the form of .csv at Central Bank website"
   ]
  },
  {
   "cell_type": "markdown",
   "metadata": {},
   "source": [
    "# Объединим все показатели в один датафрей"
   ]
  },
  {
   "cell_type": "markdown",
   "metadata": {
    "collapsed": true
   },
   "source": [
    "## Данные, которые нужны для модели\n",
    "\n",
    "Сопоставление критериев и их ID:\n",
    "\n",
    "+ Активы нетто: na     10\n",
    "+ Чистая прибыль ni    30\n",
    "(excel) + Капитал (по форме 123) c_123     25\n",
    "(excel) + Капитал (по форме 134) c_134     20\n",
    "+ Кредитный портфель credit_portf   40\n",
    "+ Просроченная задолженность в кредитном портфеле sunk_credit_portf   50\n",
    "+ Вклады физических лиц retail_deposit      60\n",
    "+ Средства предприятий и организаций organization_deposit   500\n",
    "+ Рентабельность активов-нетто ROA    1000\n",
    "+ Рентабельность капитала ROE         1100 \n",
    "     + Уровень просроченной задолженности по кредитному портфелю sunk_credit_perc   1200\n",
    "     + Уровень резервирования по кредитному портфелю reserv_credit_perc    1300\n",
    "     + Уровень обеспечения кредитного портфеля залогом имущества zalog_credit_perc      1400\n",
    "     + Валютный оборот к активам-нетто foreign_na            1500\n",
    "     + Н1 H1    1600\n",
    "     + Н2 H2    1700\n",
    "     + Н3 H3    1800\n",
    "+ Кредиты физическим лицам retail_credit    200\n",
    "+ Просроченная задолженность по кредитам физическим лицам sunk_retail_credit   260\n",
    "+ Кредиты предприятиям и организациям organization_credit   300\n",
    "+ Просроченная задолженность по кредитам предприятиям и организациям sunk_organization_credit_perc   360\n",
    "+ Выданные МБК ibl   120"
   ]
  },
  {
   "cell_type": "markdown",
   "metadata": {
    "collapsed": true
   },
   "source": [
    "+ вложения в ценные бумаги:sec_tot 70 = подверженность рискам на фин рынках\n",
    "+ высоколиквидные активы: liquid 110\n",
    "+ вложения в акции sec 130\n",
    "+ вложения в облигации bond 140\n",
    "+ вложения в капиталы других организаций oth_cap 160\n",
    "+ вклады физических лиц retail 400\n",
    "     + вклады физических лиц оборот retail_deposit_fr 401"
   ]
  },
  {
   "cell_type": "markdown",
   "metadata": {},
   "source": [
    "На Мар-шаге мы скачали все необходимые нам показатели с сайта в кучу маленьких csv-табличек, которые нам теперь нужно переработать в одну большую таблицу, которую мы будем впоследствии использовать при оценки моделей. Самого по себе Reduce-шага здесь не будет. Будет Panel - шаг!\n",
    "\n",
    "Мы хотим, чтобы в итоговой таблице оформление было таким, чтобы было удобно в python работать с панельными данными. Итоговая таблица должна идти вот в таком формате:\n",
    "\n",
    "\n",
    "\n",
    "| Банк   | Год   | Показатель 1 | Показатель 2 | Показатель 3 |\n",
    "|--------|-------|--------------|--------------|--------------|\n",
    "| Банк 1 | Год 1 |              |              |              |\n",
    "| Банк 1 | Год 2 |              |              |              |\n",
    "| Банк 2 | Год 1 |              |              |              |\n",
    "| Банк 2 | Год 2 |              |              |              |"
   ]
  },
  {
   "cell_type": "markdown",
   "metadata": {
    "collapsed": true
   },
   "source": [
    "# ЭТАП 2"
   ]
  },
  {
   "cell_type": "code",
   "execution_count": 14,
   "metadata": {},
   "outputs": [
    {
     "name": "stdout",
     "output_type": "stream",
     "text": [
      "1181\n",
      "503\n",
      "2047\n"
     ]
    },
    {
     "name": "stderr",
     "output_type": "stream",
     "text": [
      "C:\\Users\\imaksimov002\\AppData\\Local\\Continuum\\anaconda\\lib\\site-packages\\IPython\\core\\interactiveshell.py:2698: DtypeWarning: Columns (27) have mixed types. Specify dtype option on import or set low_memory=False.\n",
      "  interactivity=interactivity, compiler=compiler, result=result)\n"
     ]
    }
   ],
   "source": [
    "# Подгружаем списки из банков.\n",
    "uniq_banks = list(pd.read_csv(REPORTING_DATA_FOLDER + 'unique_banks.csv',sep='\\t',\n",
    "                              header = 0, encoding=\"cp1251\").iloc[:,0])\n",
    "uniq_banks2 = [re.sub(\"\\D\",'',item) for item in uniq_banks]\n",
    "\n",
    "print(len(uniq_banks))\n",
    "\n",
    "# Подгружаем данные по всякой отозванной фигне. \n",
    "likvid_data = pd.read_csv(CLOSED_BANKS_DATA_FOLDER + 'likvid_data.csv',sep='\\t',header=0, encoding=\"cp1251\")\n",
    "otozv_data = pd.read_csv(CLOSED_BANKS_DATA_FOLDER + 'otozv_data.csv',sep='\\t',header=0, encoding=\"cp1251\")\n",
    "print(likvid_data.shape[0])\n",
    "print(otozv_data.shape[0])\n",
    "\n",
    "# Подгружаем табличку с данными.\n",
    "bank_frame = pd.read_csv(REPORTING_DATA_FOLDER + 'reporting_all.csv',,sep=',',header=0, encoding=\"cp1251\")\n",
    "#uniq_banks = set(bank_frame['Банк'])"
   ]
  },
  {
   "cell_type": "markdown",
   "metadata": {},
   "source": [
    "# Получим номер лицензии"
   ]
  },
  {
   "cell_type": "code",
   "execution_count": 300,
   "metadata": {
    "collapsed": true
   },
   "outputs": [],
   "source": [
    "# функция для выделения номера лицензии из строки\n",
    "def get_license(a):\n",
    "    license = a.split('№ ')[1].split(',')[0]\n",
    "    return(license)"
   ]
  },
  {
   "cell_type": "code",
   "execution_count": 320,
   "metadata": {
    "collapsed": true
   },
   "outputs": [],
   "source": [
    "bank_frame['лицензия'] = 0\n",
    "p = np.array(range(bank_frame.shape[0]))\n",
    "for i in range(80287):\n",
    "    p[i] = get_license(bank_frame.iloc[i, 0])\n",
    "bank_frame['лицензия'] = p"
   ]
  },
  {
   "cell_type": "code",
   "execution_count": 324,
   "metadata": {
    "collapsed": true
   },
   "outputs": [],
   "source": [
    "bank_frame.to_csv('all_ok_v5' + '.csv',sep=',',header=True, index=False)"
   ]
  },
  {
   "cell_type": "markdown",
   "metadata": {},
   "source": [
    "# Норматив ликвидности банка Н3 "
   ]
  },
  {
   "cell_type": "code",
   "execution_count": 508,
   "metadata": {
    "collapsed": true
   },
   "outputs": [],
   "source": [
    "liquidity = pd.read_csv('liquidity_2.csv',sep=',', header = 0,  encoding=\"cp1251\")"
   ]
  },
  {
   "cell_type": "code",
   "execution_count": 509,
   "metadata": {
    "collapsed": true
   },
   "outputs": [],
   "source": [
    "liquidity.dropna(axis=0, how='any', inplace = True)\n",
    "liquidity.columns = ['drop', 'лицензия', 'N3', 'дата']\n",
    "liquidity[['лицензия']] = liquidity[['лицензия']].astype(int)\n",
    "liquidity['дата'] = pd.to_datetime(liquidity['дата'])"
   ]
  },
  {
   "cell_type": "code",
   "execution_count": 510,
   "metadata": {
    "collapsed": true
   },
   "outputs": [],
   "source": [
    "liquidity.drop(['drop'], inplace = True, axis = 1)"
   ]
  },
  {
   "cell_type": "code",
   "execution_count": 511,
   "metadata": {},
   "outputs": [
    {
     "data": {
      "text/html": [
       "<div>\n",
       "<style>\n",
       "    .dataframe thead tr:only-child th {\n",
       "        text-align: right;\n",
       "    }\n",
       "\n",
       "    .dataframe thead th {\n",
       "        text-align: left;\n",
       "    }\n",
       "\n",
       "    .dataframe tbody tr th {\n",
       "        vertical-align: top;\n",
       "    }\n",
       "</style>\n",
       "<table border=\"1\" class=\"dataframe\">\n",
       "  <thead>\n",
       "    <tr style=\"text-align: right;\">\n",
       "      <th></th>\n",
       "      <th>лицензия</th>\n",
       "      <th>N3</th>\n",
       "      <th>дата</th>\n",
       "    </tr>\n",
       "  </thead>\n",
       "  <tbody>\n",
       "    <tr>\n",
       "      <th>0</th>\n",
       "      <td>1</td>\n",
       "      <td>73.16</td>\n",
       "      <td>2010-06-01</td>\n",
       "    </tr>\n",
       "    <tr>\n",
       "      <th>1</th>\n",
       "      <td>67</td>\n",
       "      <td>63.10</td>\n",
       "      <td>2010-06-01</td>\n",
       "    </tr>\n",
       "    <tr>\n",
       "      <th>2</th>\n",
       "      <td>85</td>\n",
       "      <td>90.30</td>\n",
       "      <td>2010-06-01</td>\n",
       "    </tr>\n",
       "    <tr>\n",
       "      <th>3</th>\n",
       "      <td>96</td>\n",
       "      <td>143.33</td>\n",
       "      <td>2010-06-01</td>\n",
       "    </tr>\n",
       "    <tr>\n",
       "      <th>4</th>\n",
       "      <td>101</td>\n",
       "      <td>147.25</td>\n",
       "      <td>2010-06-01</td>\n",
       "    </tr>\n",
       "  </tbody>\n",
       "</table>\n",
       "</div>"
      ],
      "text/plain": [
       "   лицензия      N3       дата\n",
       "0         1   73.16 2010-06-01\n",
       "1        67   63.10 2010-06-01\n",
       "2        85   90.30 2010-06-01\n",
       "3        96  143.33 2010-06-01\n",
       "4       101  147.25 2010-06-01"
      ]
     },
     "execution_count": 511,
     "metadata": {},
     "output_type": "execute_result"
    }
   ],
   "source": [
    "liquidity.head(5)"
   ]
  },
  {
   "cell_type": "markdown",
   "metadata": {},
   "source": [
    "# Обработка данных по закрытым банкам"
   ]
  },
  {
   "cell_type": "code",
   "execution_count": 523,
   "metadata": {
    "collapsed": true
   },
   "outputs": [],
   "source": [
    "#closed_banks[['Лицензия']] = closed_banks[['Лицензия']].astype(int)\n",
    "closed_banks['ликвдата'] = pd.to_datetime(closed_banks['ликвдата'])"
   ]
  },
  {
   "cell_type": "code",
   "execution_count": 530,
   "metadata": {
    "collapsed": true
   },
   "outputs": [],
   "source": [
    "# Данные скачались немного криво: надо поменять день и месяц местами\n",
    "closed_banks['дата'] = 0\n",
    "for u in range(closed_banks.shape[0] - 1):\n",
    "    y = closed_banks.iloc[u, 1].year\n",
    "    m = closed_banks.iloc[u, 1].month\n",
    "    if len(str(m)) == 1:\n",
    "        m = '-0'+ str(m)\n",
    "    else:\n",
    "        m = '-' + str(m)\n",
    "    d = '-01'\n",
    "    date = str(y) + m + d\n",
    "    date = pd.to_datetime(date)\n",
    "    closed_banks.iloc[u, 2] = date"
   ]
  },
  {
   "cell_type": "code",
   "execution_count": 532,
   "metadata": {
    "collapsed": true
   },
   "outputs": [],
   "source": [
    "closed_banks.drop('ликвдата', inplace = True, axis = 1)"
   ]
  },
  {
   "cell_type": "code",
   "execution_count": 534,
   "metadata": {
    "collapsed": true
   },
   "outputs": [],
   "source": [
    "closed_banks.columns = ['лицензия','дата']"
   ]
  },
  {
   "cell_type": "code",
   "execution_count": 536,
   "metadata": {
    "collapsed": true
   },
   "outputs": [],
   "source": [
    "closed_banks['default'] = 1"
   ]
  },
  {
   "cell_type": "markdown",
   "metadata": {},
   "source": [
    "# Макро показатели"
   ]
  },
  {
   "cell_type": "code",
   "execution_count": 496,
   "metadata": {
    "collapsed": true
   },
   "outputs": [],
   "source": [
    "macro = pd.read_csv('macro_1.csv',sep=',', header = 0,  encoding=\"cp1251\")"
   ]
  },
  {
   "cell_type": "code",
   "execution_count": 497,
   "metadata": {
    "collapsed": true
   },
   "outputs": [],
   "source": [
    "macro['Date'] = pd.to_datetime(macro['Date'])"
   ]
  },
  {
   "cell_type": "code",
   "execution_count": 499,
   "metadata": {
    "collapsed": true
   },
   "outputs": [],
   "source": [
    "macro.columns = ['drop','дата', 'M2', 'M2_SA', 'INF_SA', 'NX', 'NX_log', 'Nx_growth', 'usd_rub', 'usd_rub_std',\\\n",
    "                 'micex', 'micex_std', 'miacr', 'miacr_std', 'miacr_amount', 'net_foreign_assets',\\\n",
    "                 'net_gov_debt', 'other_fin_debt', 'retail_debt', 'stocks_capital', 'i_retail_credit', 'i_retail_debit',\\\n",
    "                 'i_retail_spread']"
   ]
  },
  {
   "cell_type": "code",
   "execution_count": 501,
   "metadata": {
    "collapsed": true
   },
   "outputs": [],
   "source": [
    "macro.drop(['drop'], inplace = True, axis = 1)"
   ]
  },
  {
   "cell_type": "code",
   "execution_count": 502,
   "metadata": {},
   "outputs": [
    {
     "data": {
      "text/html": [
       "<div>\n",
       "<style>\n",
       "    .dataframe thead tr:only-child th {\n",
       "        text-align: right;\n",
       "    }\n",
       "\n",
       "    .dataframe thead th {\n",
       "        text-align: left;\n",
       "    }\n",
       "\n",
       "    .dataframe tbody tr th {\n",
       "        vertical-align: top;\n",
       "    }\n",
       "</style>\n",
       "<table border=\"1\" class=\"dataframe\">\n",
       "  <thead>\n",
       "    <tr style=\"text-align: right;\">\n",
       "      <th></th>\n",
       "      <th>дата</th>\n",
       "      <th>M2</th>\n",
       "      <th>M2_SA</th>\n",
       "      <th>INF_SA</th>\n",
       "      <th>NX</th>\n",
       "      <th>NX_log</th>\n",
       "      <th>Nx_growth</th>\n",
       "      <th>usd_rub</th>\n",
       "      <th>usd_rub_std</th>\n",
       "      <th>micex</th>\n",
       "      <th>...</th>\n",
       "      <th>miacr_std</th>\n",
       "      <th>miacr_amount</th>\n",
       "      <th>net_foreign_assets</th>\n",
       "      <th>net_gov_debt</th>\n",
       "      <th>other_fin_debt</th>\n",
       "      <th>retail_debt</th>\n",
       "      <th>stocks_capital</th>\n",
       "      <th>i_retail_credit</th>\n",
       "      <th>i_retail_debit</th>\n",
       "      <th>i_retail_spread</th>\n",
       "    </tr>\n",
       "  </thead>\n",
       "  <tbody>\n",
       "    <tr>\n",
       "      <th>0</th>\n",
       "      <td>2009-12-01</td>\n",
       "      <td>14967.6</td>\n",
       "      <td>14477.677786</td>\n",
       "      <td>0.020000</td>\n",
       "      <td>13107</td>\n",
       "      <td>9.480902</td>\n",
       "      <td>0</td>\n",
       "      <td>29.60000</td>\n",
       "      <td>0.180000</td>\n",
       "      <td>1433.648</td>\n",
       "      <td>...</td>\n",
       "      <td>1.181512</td>\n",
       "      <td>2643995</td>\n",
       "      <td>14099099</td>\n",
       "      <td>-6769343</td>\n",
       "      <td>516858</td>\n",
       "      <td>3959248</td>\n",
       "      <td>6004665</td>\n",
       "      <td>17.1</td>\n",
       "      <td>6.0</td>\n",
       "      <td>11.1</td>\n",
       "    </tr>\n",
       "    <tr>\n",
       "      <th>1</th>\n",
       "      <td>2010-01-01</td>\n",
       "      <td>15267.6</td>\n",
       "      <td>14477.677786</td>\n",
       "      <td>0.020000</td>\n",
       "      <td>15835</td>\n",
       "      <td>9.669978</td>\n",
       "      <td>2728</td>\n",
       "      <td>29.83873</td>\n",
       "      <td>0.374754</td>\n",
       "      <td>1433.648</td>\n",
       "      <td>...</td>\n",
       "      <td>0.724981</td>\n",
       "      <td>2643995</td>\n",
       "      <td>13942674</td>\n",
       "      <td>-5174038</td>\n",
       "      <td>564379</td>\n",
       "      <td>3932605</td>\n",
       "      <td>6219422</td>\n",
       "      <td>17.1</td>\n",
       "      <td>6.0</td>\n",
       "      <td>11.1</td>\n",
       "    </tr>\n",
       "    <tr>\n",
       "      <th>2</th>\n",
       "      <td>2010-02-01</td>\n",
       "      <td>14904.1</td>\n",
       "      <td>14875.445322</td>\n",
       "      <td>0.027475</td>\n",
       "      <td>14855</td>\n",
       "      <td>9.606092</td>\n",
       "      <td>-980</td>\n",
       "      <td>30.15797</td>\n",
       "      <td>0.177248</td>\n",
       "      <td>1351.718</td>\n",
       "      <td>...</td>\n",
       "      <td>0.330918</td>\n",
       "      <td>2643995</td>\n",
       "      <td>14168103</td>\n",
       "      <td>-5439869</td>\n",
       "      <td>529987</td>\n",
       "      <td>3913803</td>\n",
       "      <td>6279331</td>\n",
       "      <td>17.2</td>\n",
       "      <td>6.2</td>\n",
       "      <td>11.0</td>\n",
       "    </tr>\n",
       "    <tr>\n",
       "      <th>3</th>\n",
       "      <td>2010-03-01</td>\n",
       "      <td>15236.4</td>\n",
       "      <td>15247.121207</td>\n",
       "      <td>0.024986</td>\n",
       "      <td>14556</td>\n",
       "      <td>9.585759</td>\n",
       "      <td>-299</td>\n",
       "      <td>29.55940</td>\n",
       "      <td>0.238446</td>\n",
       "      <td>1410.415</td>\n",
       "      <td>...</td>\n",
       "      <td>0.359785</td>\n",
       "      <td>2643995</td>\n",
       "      <td>14039665</td>\n",
       "      <td>-5008998</td>\n",
       "      <td>508111</td>\n",
       "      <td>3898961</td>\n",
       "      <td>6283624</td>\n",
       "      <td>17.1</td>\n",
       "      <td>6.0</td>\n",
       "      <td>11.1</td>\n",
       "    </tr>\n",
       "    <tr>\n",
       "      <th>4</th>\n",
       "      <td>2010-04-01</td>\n",
       "      <td>15639.4</td>\n",
       "      <td>15570.868119</td>\n",
       "      <td>0.021233</td>\n",
       "      <td>13789</td>\n",
       "      <td>9.531626</td>\n",
       "      <td>-767</td>\n",
       "      <td>29.19324</td>\n",
       "      <td>0.158573</td>\n",
       "      <td>1478.745</td>\n",
       "      <td>...</td>\n",
       "      <td>0.246044</td>\n",
       "      <td>2643995</td>\n",
       "      <td>13815998</td>\n",
       "      <td>-4916261</td>\n",
       "      <td>507036</td>\n",
       "      <td>3910081</td>\n",
       "      <td>6347867</td>\n",
       "      <td>17.1</td>\n",
       "      <td>6.1</td>\n",
       "      <td>11.0</td>\n",
       "    </tr>\n",
       "  </tbody>\n",
       "</table>\n",
       "<p>5 rows × 22 columns</p>\n",
       "</div>"
      ],
      "text/plain": [
       "        дата       M2         M2_SA    INF_SA     NX    NX_log  Nx_growth  \\\n",
       "0 2009-12-01  14967.6  14477.677786  0.020000  13107  9.480902          0   \n",
       "1 2010-01-01  15267.6  14477.677786  0.020000  15835  9.669978       2728   \n",
       "2 2010-02-01  14904.1  14875.445322  0.027475  14855  9.606092       -980   \n",
       "3 2010-03-01  15236.4  15247.121207  0.024986  14556  9.585759       -299   \n",
       "4 2010-04-01  15639.4  15570.868119  0.021233  13789  9.531626       -767   \n",
       "\n",
       "    usd_rub  usd_rub_std     micex       ...         miacr_std  miacr_amount  \\\n",
       "0  29.60000     0.180000  1433.648       ...          1.181512       2643995   \n",
       "1  29.83873     0.374754  1433.648       ...          0.724981       2643995   \n",
       "2  30.15797     0.177248  1351.718       ...          0.330918       2643995   \n",
       "3  29.55940     0.238446  1410.415       ...          0.359785       2643995   \n",
       "4  29.19324     0.158573  1478.745       ...          0.246044       2643995   \n",
       "\n",
       "   net_foreign_assets  net_gov_debt  other_fin_debt  retail_debt  \\\n",
       "0            14099099      -6769343          516858      3959248   \n",
       "1            13942674      -5174038          564379      3932605   \n",
       "2            14168103      -5439869          529987      3913803   \n",
       "3            14039665      -5008998          508111      3898961   \n",
       "4            13815998      -4916261          507036      3910081   \n",
       "\n",
       "   stocks_capital  i_retail_credit  i_retail_debit  i_retail_spread  \n",
       "0         6004665             17.1             6.0             11.1  \n",
       "1         6219422             17.1             6.0             11.1  \n",
       "2         6279331             17.2             6.2             11.0  \n",
       "3         6283624             17.1             6.0             11.1  \n",
       "4         6347867             17.1             6.1             11.0  \n",
       "\n",
       "[5 rows x 22 columns]"
      ]
     },
     "execution_count": 502,
     "metadata": {},
     "output_type": "execute_result"
    }
   ],
   "source": [
    "macro.head(5)"
   ]
  },
  {
   "cell_type": "markdown",
   "metadata": {},
   "source": [
    "# Капитал банков"
   ]
  },
  {
   "cell_type": "code",
   "execution_count": 447,
   "metadata": {
    "collapsed": true
   },
   "outputs": [],
   "source": [
    "capital = pd.read_csv('capital_1.csv',sep=',', header = 0,  encoding=\"cp1251\")"
   ]
  },
  {
   "cell_type": "code",
   "execution_count": 450,
   "metadata": {
    "collapsed": true
   },
   "outputs": [],
   "source": [
    "capital.columns = ['drop', 'date', 'bank', 'license', 'capital', 'msk_spb']\n",
    "capital.drop(['drop'], inplace = True, axis = 1)"
   ]
  },
  {
   "cell_type": "code",
   "execution_count": 451,
   "metadata": {
    "collapsed": true
   },
   "outputs": [],
   "source": [
    "capital.dropna(axis=0, how='any', inplace = True)\n",
    "capital[['license']] = capital[['license']].astype(int)\n",
    "capital['date'] = pd.to_datetime(capital['date'])"
   ]
  },
  {
   "cell_type": "code",
   "execution_count": 452,
   "metadata": {
    "collapsed": true
   },
   "outputs": [],
   "source": [
    "capital.columns = ['дата', 'банк', 'лицензия', 'capital', 'msk_spb']"
   ]
  },
  {
   "cell_type": "code",
   "execution_count": 746,
   "metadata": {},
   "outputs": [
    {
     "data": {
      "text/html": [
       "<div>\n",
       "<style>\n",
       "    .dataframe thead tr:only-child th {\n",
       "        text-align: right;\n",
       "    }\n",
       "\n",
       "    .dataframe thead th {\n",
       "        text-align: left;\n",
       "    }\n",
       "\n",
       "    .dataframe tbody tr th {\n",
       "        vertical-align: top;\n",
       "    }\n",
       "</style>\n",
       "<table border=\"1\" class=\"dataframe\">\n",
       "  <thead>\n",
       "    <tr style=\"text-align: right;\">\n",
       "      <th></th>\n",
       "      <th>дата</th>\n",
       "      <th>банк</th>\n",
       "      <th>лицензия</th>\n",
       "      <th>capital</th>\n",
       "      <th>msk_spb</th>\n",
       "    </tr>\n",
       "  </thead>\n",
       "  <tbody>\n",
       "    <tr>\n",
       "      <th>74869</th>\n",
       "      <td>2017-11-01</td>\n",
       "      <td>Элплат</td>\n",
       "      <td>3535</td>\n",
       "      <td>18995.0</td>\n",
       "      <td>0</td>\n",
       "    </tr>\n",
       "    <tr>\n",
       "      <th>75434</th>\n",
       "      <td>2017-12-01</td>\n",
       "      <td>Элплат</td>\n",
       "      <td>3535</td>\n",
       "      <td>18995.0</td>\n",
       "      <td>0</td>\n",
       "    </tr>\n",
       "    <tr>\n",
       "      <th>74277</th>\n",
       "      <td>2017-10-01</td>\n",
       "      <td>Р-Инкас</td>\n",
       "      <td>3536</td>\n",
       "      <td>102845.0</td>\n",
       "      <td>1</td>\n",
       "    </tr>\n",
       "    <tr>\n",
       "      <th>74849</th>\n",
       "      <td>2017-11-01</td>\n",
       "      <td>Р-Инкас</td>\n",
       "      <td>3536</td>\n",
       "      <td>97707.0</td>\n",
       "      <td>1</td>\n",
       "    </tr>\n",
       "    <tr>\n",
       "      <th>75415</th>\n",
       "      <td>2017-12-01</td>\n",
       "      <td>Р-Инкас</td>\n",
       "      <td>3536</td>\n",
       "      <td>90689.0</td>\n",
       "      <td>1</td>\n",
       "    </tr>\n",
       "  </tbody>\n",
       "</table>\n",
       "</div>"
      ],
      "text/plain": [
       "            дата     банк  лицензия   capital  msk_spb\n",
       "74869 2017-11-01   Элплат      3535   18995.0        0\n",
       "75434 2017-12-01   Элплат      3535   18995.0        0\n",
       "74277 2017-10-01  Р-Инкас      3536  102845.0        1\n",
       "74849 2017-11-01  Р-Инкас      3536   97707.0        1\n",
       "75415 2017-12-01  Р-Инкас      3536   90689.0        1"
      ]
     },
     "execution_count": 746,
     "metadata": {},
     "output_type": "execute_result"
    }
   ],
   "source": [
    "capital.tail(5)"
   ]
  },
  {
   "cell_type": "markdown",
   "metadata": {},
   "source": [
    "# Join всего в один датафрейм"
   ]
  },
  {
   "cell_type": "code",
   "execution_count": 455,
   "metadata": {
    "collapsed": true
   },
   "outputs": [],
   "source": [
    "bank_frame[['лицензия']] = bank_frame[['лицензия']].astype(int)\n",
    "bank_frame['дата'] = pd.to_datetime(bank_frame['дата'])"
   ]
  },
  {
   "cell_type": "code",
   "execution_count": 471,
   "metadata": {
    "collapsed": true
   },
   "outputs": [],
   "source": [
    "capital.sort_values(by = ['лицензия', 'дата'], inplace = True)\n",
    "bank_frame.sort_values(by = ['лицензия', 'дата'], inplace = True)\n",
    "liquidity.sort_values(by = ['лицензия', 'дата'], inplace = True)"
   ]
  },
  {
   "cell_type": "code",
   "execution_count": 458,
   "metadata": {
    "collapsed": true
   },
   "outputs": [],
   "source": [
    "df = bank_frame.set_index(['лицензия', 'дата']).join(capital.set_index(['лицензия', 'дата']), how = 'inner')"
   ]
  },
  {
   "cell_type": "code",
   "execution_count": 477,
   "metadata": {
    "collapsed": true
   },
   "outputs": [],
   "source": [
    "df_1 = df.join(liquidity.set_index(['лицензия', 'дата']), how = 'left')"
   ]
  },
  {
   "cell_type": "code",
   "execution_count": 493,
   "metadata": {},
   "outputs": [
    {
     "ename": "ValueError",
     "evalue": "invalid literal for int() with base 10: '1 372,32'",
     "output_type": "error",
     "traceback": [
      "\u001b[1;31m---------------------------------------------------------------------------\u001b[0m",
      "\u001b[1;31mValueError\u001b[0m                                Traceback (most recent call last)",
      "\u001b[1;32m<ipython-input-493-3cc2fc515630>\u001b[0m in \u001b[0;36m<module>\u001b[1;34m()\u001b[0m\n\u001b[1;32m----> 1\u001b[1;33m \u001b[0mdf_1\u001b[0m\u001b[1;33m[\u001b[0m\u001b[1;34m'ИД_1800'\u001b[0m\u001b[1;33m]\u001b[0m \u001b[1;33m=\u001b[0m \u001b[0mdf_1\u001b[0m\u001b[1;33m[\u001b[0m\u001b[1;34m'ИД_1800'\u001b[0m\u001b[1;33m]\u001b[0m\u001b[1;33m.\u001b[0m\u001b[0mfillna\u001b[0m\u001b[1;33m(\u001b[0m\u001b[1;36m0\u001b[0m\u001b[1;33m)\u001b[0m\u001b[1;33m.\u001b[0m\u001b[0mastype\u001b[0m\u001b[1;33m(\u001b[0m\u001b[0mint\u001b[0m\u001b[1;33m)\u001b[0m\u001b[1;33m\u001b[0m\u001b[0m\n\u001b[0m\u001b[0;32m      2\u001b[0m \u001b[0mdf_1\u001b[0m\u001b[1;33m[\u001b[0m\u001b[1;34m'N3'\u001b[0m\u001b[1;33m]\u001b[0m \u001b[1;33m=\u001b[0m \u001b[0mdf_1\u001b[0m\u001b[1;33m[\u001b[0m\u001b[1;34m'N3'\u001b[0m\u001b[1;33m]\u001b[0m\u001b[1;33m.\u001b[0m\u001b[0mfillna\u001b[0m\u001b[1;33m(\u001b[0m\u001b[1;36m0\u001b[0m\u001b[1;33m)\u001b[0m\u001b[1;33m.\u001b[0m\u001b[0mastype\u001b[0m\u001b[1;33m(\u001b[0m\u001b[0mint\u001b[0m\u001b[1;33m)\u001b[0m\u001b[1;33m\u001b[0m\u001b[0m\n",
      "\u001b[1;32m~\\AppData\\Local\\Continuum\\anaconda\\lib\\site-packages\\pandas\\util\\_decorators.py\u001b[0m in \u001b[0;36mwrapper\u001b[1;34m(*args, **kwargs)\u001b[0m\n\u001b[0;32m     89\u001b[0m                 \u001b[1;32melse\u001b[0m\u001b[1;33m:\u001b[0m\u001b[1;33m\u001b[0m\u001b[0m\n\u001b[0;32m     90\u001b[0m                     \u001b[0mkwargs\u001b[0m\u001b[1;33m[\u001b[0m\u001b[0mnew_arg_name\u001b[0m\u001b[1;33m]\u001b[0m \u001b[1;33m=\u001b[0m \u001b[0mnew_arg_value\u001b[0m\u001b[1;33m\u001b[0m\u001b[0m\n\u001b[1;32m---> 91\u001b[1;33m             \u001b[1;32mreturn\u001b[0m \u001b[0mfunc\u001b[0m\u001b[1;33m(\u001b[0m\u001b[1;33m*\u001b[0m\u001b[0margs\u001b[0m\u001b[1;33m,\u001b[0m \u001b[1;33m**\u001b[0m\u001b[0mkwargs\u001b[0m\u001b[1;33m)\u001b[0m\u001b[1;33m\u001b[0m\u001b[0m\n\u001b[0m\u001b[0;32m     92\u001b[0m         \u001b[1;32mreturn\u001b[0m \u001b[0mwrapper\u001b[0m\u001b[1;33m\u001b[0m\u001b[0m\n\u001b[0;32m     93\u001b[0m     \u001b[1;32mreturn\u001b[0m \u001b[0m_deprecate_kwarg\u001b[0m\u001b[1;33m\u001b[0m\u001b[0m\n",
      "\u001b[1;32m~\\AppData\\Local\\Continuum\\anaconda\\lib\\site-packages\\pandas\\core\\generic.py\u001b[0m in \u001b[0;36mastype\u001b[1;34m(self, dtype, copy, errors, **kwargs)\u001b[0m\n\u001b[0;32m   3408\u001b[0m         \u001b[1;31m# else, only a single dtype is given\u001b[0m\u001b[1;33m\u001b[0m\u001b[1;33m\u001b[0m\u001b[0m\n\u001b[0;32m   3409\u001b[0m         new_data = self._data.astype(dtype=dtype, copy=copy, errors=errors,\n\u001b[1;32m-> 3410\u001b[1;33m                                      **kwargs)\n\u001b[0m\u001b[0;32m   3411\u001b[0m         \u001b[1;32mreturn\u001b[0m \u001b[0mself\u001b[0m\u001b[1;33m.\u001b[0m\u001b[0m_constructor\u001b[0m\u001b[1;33m(\u001b[0m\u001b[0mnew_data\u001b[0m\u001b[1;33m)\u001b[0m\u001b[1;33m.\u001b[0m\u001b[0m__finalize__\u001b[0m\u001b[1;33m(\u001b[0m\u001b[0mself\u001b[0m\u001b[1;33m)\u001b[0m\u001b[1;33m\u001b[0m\u001b[0m\n\u001b[0;32m   3412\u001b[0m \u001b[1;33m\u001b[0m\u001b[0m\n",
      "\u001b[1;32m~\\AppData\\Local\\Continuum\\anaconda\\lib\\site-packages\\pandas\\core\\internals.py\u001b[0m in \u001b[0;36mastype\u001b[1;34m(self, dtype, **kwargs)\u001b[0m\n\u001b[0;32m   3222\u001b[0m \u001b[1;33m\u001b[0m\u001b[0m\n\u001b[0;32m   3223\u001b[0m     \u001b[1;32mdef\u001b[0m \u001b[0mastype\u001b[0m\u001b[1;33m(\u001b[0m\u001b[0mself\u001b[0m\u001b[1;33m,\u001b[0m \u001b[0mdtype\u001b[0m\u001b[1;33m,\u001b[0m \u001b[1;33m**\u001b[0m\u001b[0mkwargs\u001b[0m\u001b[1;33m)\u001b[0m\u001b[1;33m:\u001b[0m\u001b[1;33m\u001b[0m\u001b[0m\n\u001b[1;32m-> 3224\u001b[1;33m         \u001b[1;32mreturn\u001b[0m \u001b[0mself\u001b[0m\u001b[1;33m.\u001b[0m\u001b[0mapply\u001b[0m\u001b[1;33m(\u001b[0m\u001b[1;34m'astype'\u001b[0m\u001b[1;33m,\u001b[0m \u001b[0mdtype\u001b[0m\u001b[1;33m=\u001b[0m\u001b[0mdtype\u001b[0m\u001b[1;33m,\u001b[0m \u001b[1;33m**\u001b[0m\u001b[0mkwargs\u001b[0m\u001b[1;33m)\u001b[0m\u001b[1;33m\u001b[0m\u001b[0m\n\u001b[0m\u001b[0;32m   3225\u001b[0m \u001b[1;33m\u001b[0m\u001b[0m\n\u001b[0;32m   3226\u001b[0m     \u001b[1;32mdef\u001b[0m \u001b[0mconvert\u001b[0m\u001b[1;33m(\u001b[0m\u001b[0mself\u001b[0m\u001b[1;33m,\u001b[0m \u001b[1;33m**\u001b[0m\u001b[0mkwargs\u001b[0m\u001b[1;33m)\u001b[0m\u001b[1;33m:\u001b[0m\u001b[1;33m\u001b[0m\u001b[0m\n",
      "\u001b[1;32m~\\AppData\\Local\\Continuum\\anaconda\\lib\\site-packages\\pandas\\core\\internals.py\u001b[0m in \u001b[0;36mapply\u001b[1;34m(self, f, axes, filter, do_integrity_check, consolidate, **kwargs)\u001b[0m\n\u001b[0;32m   3089\u001b[0m \u001b[1;33m\u001b[0m\u001b[0m\n\u001b[0;32m   3090\u001b[0m             \u001b[0mkwargs\u001b[0m\u001b[1;33m[\u001b[0m\u001b[1;34m'mgr'\u001b[0m\u001b[1;33m]\u001b[0m \u001b[1;33m=\u001b[0m \u001b[0mself\u001b[0m\u001b[1;33m\u001b[0m\u001b[0m\n\u001b[1;32m-> 3091\u001b[1;33m             \u001b[0mapplied\u001b[0m \u001b[1;33m=\u001b[0m \u001b[0mgetattr\u001b[0m\u001b[1;33m(\u001b[0m\u001b[0mb\u001b[0m\u001b[1;33m,\u001b[0m \u001b[0mf\u001b[0m\u001b[1;33m)\u001b[0m\u001b[1;33m(\u001b[0m\u001b[1;33m**\u001b[0m\u001b[0mkwargs\u001b[0m\u001b[1;33m)\u001b[0m\u001b[1;33m\u001b[0m\u001b[0m\n\u001b[0m\u001b[0;32m   3092\u001b[0m             \u001b[0mresult_blocks\u001b[0m \u001b[1;33m=\u001b[0m \u001b[0m_extend_blocks\u001b[0m\u001b[1;33m(\u001b[0m\u001b[0mapplied\u001b[0m\u001b[1;33m,\u001b[0m \u001b[0mresult_blocks\u001b[0m\u001b[1;33m)\u001b[0m\u001b[1;33m\u001b[0m\u001b[0m\n\u001b[0;32m   3093\u001b[0m \u001b[1;33m\u001b[0m\u001b[0m\n",
      "\u001b[1;32m~\\AppData\\Local\\Continuum\\anaconda\\lib\\site-packages\\pandas\\core\\internals.py\u001b[0m in \u001b[0;36mastype\u001b[1;34m(self, dtype, copy, errors, values, **kwargs)\u001b[0m\n\u001b[0;32m    469\u001b[0m     \u001b[1;32mdef\u001b[0m \u001b[0mastype\u001b[0m\u001b[1;33m(\u001b[0m\u001b[0mself\u001b[0m\u001b[1;33m,\u001b[0m \u001b[0mdtype\u001b[0m\u001b[1;33m,\u001b[0m \u001b[0mcopy\u001b[0m\u001b[1;33m=\u001b[0m\u001b[1;32mFalse\u001b[0m\u001b[1;33m,\u001b[0m \u001b[0merrors\u001b[0m\u001b[1;33m=\u001b[0m\u001b[1;34m'raise'\u001b[0m\u001b[1;33m,\u001b[0m \u001b[0mvalues\u001b[0m\u001b[1;33m=\u001b[0m\u001b[1;32mNone\u001b[0m\u001b[1;33m,\u001b[0m \u001b[1;33m**\u001b[0m\u001b[0mkwargs\u001b[0m\u001b[1;33m)\u001b[0m\u001b[1;33m:\u001b[0m\u001b[1;33m\u001b[0m\u001b[0m\n\u001b[0;32m    470\u001b[0m         return self._astype(dtype, copy=copy, errors=errors, values=values,\n\u001b[1;32m--> 471\u001b[1;33m                             **kwargs)\n\u001b[0m\u001b[0;32m    472\u001b[0m \u001b[1;33m\u001b[0m\u001b[0m\n\u001b[0;32m    473\u001b[0m     def _astype(self, dtype, copy=False, errors='raise', values=None,\n",
      "\u001b[1;32m~\\AppData\\Local\\Continuum\\anaconda\\lib\\site-packages\\pandas\\core\\internals.py\u001b[0m in \u001b[0;36m_astype\u001b[1;34m(self, dtype, copy, errors, values, klass, mgr, raise_on_error, **kwargs)\u001b[0m\n\u001b[0;32m    519\u001b[0m \u001b[1;33m\u001b[0m\u001b[0m\n\u001b[0;32m    520\u001b[0m                 \u001b[1;31m# _astype_nansafe works fine with 1-d only\u001b[0m\u001b[1;33m\u001b[0m\u001b[1;33m\u001b[0m\u001b[0m\n\u001b[1;32m--> 521\u001b[1;33m                 \u001b[0mvalues\u001b[0m \u001b[1;33m=\u001b[0m \u001b[0mastype_nansafe\u001b[0m\u001b[1;33m(\u001b[0m\u001b[0mvalues\u001b[0m\u001b[1;33m.\u001b[0m\u001b[0mravel\u001b[0m\u001b[1;33m(\u001b[0m\u001b[1;33m)\u001b[0m\u001b[1;33m,\u001b[0m \u001b[0mdtype\u001b[0m\u001b[1;33m,\u001b[0m \u001b[0mcopy\u001b[0m\u001b[1;33m=\u001b[0m\u001b[1;32mTrue\u001b[0m\u001b[1;33m)\u001b[0m\u001b[1;33m\u001b[0m\u001b[0m\n\u001b[0m\u001b[0;32m    522\u001b[0m                 \u001b[0mvalues\u001b[0m \u001b[1;33m=\u001b[0m \u001b[0mvalues\u001b[0m\u001b[1;33m.\u001b[0m\u001b[0mreshape\u001b[0m\u001b[1;33m(\u001b[0m\u001b[0mself\u001b[0m\u001b[1;33m.\u001b[0m\u001b[0mshape\u001b[0m\u001b[1;33m)\u001b[0m\u001b[1;33m\u001b[0m\u001b[0m\n\u001b[0;32m    523\u001b[0m \u001b[1;33m\u001b[0m\u001b[0m\n",
      "\u001b[1;32m~\\AppData\\Local\\Continuum\\anaconda\\lib\\site-packages\\pandas\\core\\dtypes\\cast.py\u001b[0m in \u001b[0;36mastype_nansafe\u001b[1;34m(arr, dtype, copy)\u001b[0m\n\u001b[0;32m    623\u001b[0m     \u001b[1;32melif\u001b[0m \u001b[0marr\u001b[0m\u001b[1;33m.\u001b[0m\u001b[0mdtype\u001b[0m \u001b[1;33m==\u001b[0m \u001b[0mnp\u001b[0m\u001b[1;33m.\u001b[0m\u001b[0mobject_\u001b[0m \u001b[1;32mand\u001b[0m \u001b[0mnp\u001b[0m\u001b[1;33m.\u001b[0m\u001b[0missubdtype\u001b[0m\u001b[1;33m(\u001b[0m\u001b[0mdtype\u001b[0m\u001b[1;33m.\u001b[0m\u001b[0mtype\u001b[0m\u001b[1;33m,\u001b[0m \u001b[0mnp\u001b[0m\u001b[1;33m.\u001b[0m\u001b[0minteger\u001b[0m\u001b[1;33m)\u001b[0m\u001b[1;33m:\u001b[0m\u001b[1;33m\u001b[0m\u001b[0m\n\u001b[0;32m    624\u001b[0m         \u001b[1;31m# work around NumPy brokenness, #1987\u001b[0m\u001b[1;33m\u001b[0m\u001b[1;33m\u001b[0m\u001b[0m\n\u001b[1;32m--> 625\u001b[1;33m         \u001b[1;32mreturn\u001b[0m \u001b[0mlib\u001b[0m\u001b[1;33m.\u001b[0m\u001b[0mastype_intsafe\u001b[0m\u001b[1;33m(\u001b[0m\u001b[0marr\u001b[0m\u001b[1;33m.\u001b[0m\u001b[0mravel\u001b[0m\u001b[1;33m(\u001b[0m\u001b[1;33m)\u001b[0m\u001b[1;33m,\u001b[0m \u001b[0mdtype\u001b[0m\u001b[1;33m)\u001b[0m\u001b[1;33m.\u001b[0m\u001b[0mreshape\u001b[0m\u001b[1;33m(\u001b[0m\u001b[0marr\u001b[0m\u001b[1;33m.\u001b[0m\u001b[0mshape\u001b[0m\u001b[1;33m)\u001b[0m\u001b[1;33m\u001b[0m\u001b[0m\n\u001b[0m\u001b[0;32m    626\u001b[0m \u001b[1;33m\u001b[0m\u001b[0m\n\u001b[0;32m    627\u001b[0m     \u001b[1;32mif\u001b[0m \u001b[0mdtype\u001b[0m\u001b[1;33m.\u001b[0m\u001b[0mname\u001b[0m \u001b[1;32min\u001b[0m \u001b[1;33m(\u001b[0m\u001b[1;34m\"datetime64\"\u001b[0m\u001b[1;33m,\u001b[0m \u001b[1;34m\"timedelta64\"\u001b[0m\u001b[1;33m)\u001b[0m\u001b[1;33m:\u001b[0m\u001b[1;33m\u001b[0m\u001b[0m\n",
      "\u001b[1;32mpandas\\_libs\\lib.pyx\u001b[0m in \u001b[0;36mpandas._libs.lib.astype_intsafe\u001b[1;34m()\u001b[0m\n",
      "\u001b[1;32mpandas/_libs/src\\util.pxd\u001b[0m in \u001b[0;36mutil.set_value_at_unsafe\u001b[1;34m()\u001b[0m\n",
      "\u001b[1;31mValueError\u001b[0m: invalid literal for int() with base 10: '1 372,32'"
     ]
    }
   ],
   "source": [
    "df_1['ИД_1800'] = df_1['ИД_1800'].fillna(0).astype(int)\n",
    "df_1['N3'] = df_1['N3'].fillna(0).astype(int)"
   ]
  },
  {
   "cell_type": "code",
   "execution_count": 503,
   "metadata": {
    "collapsed": true
   },
   "outputs": [],
   "source": [
    "df_2 = df.join(macro.set_index(['дата']), how = 'inner')"
   ]
  },
  {
   "cell_type": "code",
   "execution_count": 512,
   "metadata": {
    "collapsed": true
   },
   "outputs": [],
   "source": [
    "df_3 = df_2.join(liquidity.set_index(['лицензия', 'дата']), how = 'left')"
   ]
  },
  {
   "cell_type": "code",
   "execution_count": 563,
   "metadata": {
    "collapsed": true
   },
   "outputs": [],
   "source": [
    "# Очистка данных\n",
    "closed_banks['лицензия'] = closed_banks['лицензия'].str.replace('-К', '')\n",
    "closed_banks['лицензия'] = closed_banks['лицензия'].str.replace('-Д', '')\n",
    "closed_banks['лицензия'] = closed_banks['лицензия'].str.replace('-Р', '')\n",
    "closed_banks['лицензия'] = closed_banks['лицензия'].str.replace('-K', '')\n",
    "closed_banks['лицензия'] = closed_banks['лицензия'].str.replace('-к', '')\n",
    "closed_banks = closed_banks.iloc[ :(closed_banks.shape[0] - 2), :]\n",
    "closed_banks[['лицензия']] = closed_banks[['лицензия']].astype(int)\n",
    "closed_banks['дата'] = pd.to_datetime(closed_banks['дата'])"
   ]
  },
  {
   "cell_type": "code",
   "execution_count": 578,
   "metadata": {},
   "outputs": [
    {
     "name": "stderr",
     "output_type": "stream",
     "text": [
      "C:\\Users\\imaksimov002\\AppData\\Local\\Continuum\\anaconda\\lib\\site-packages\\ipykernel_launcher.py:1: SettingWithCopyWarning: \n",
      "A value is trying to be set on a copy of a slice from a DataFrame\n",
      "\n",
      "See the caveats in the documentation: http://pandas.pydata.org/pandas-docs/stable/indexing.html#indexing-view-versus-copy\n",
      "  \"\"\"Entry point for launching an IPython kernel.\n"
     ]
    }
   ],
   "source": [
    "closed_banks.sort_values(by = ['лицензия', 'дата'], inplace = True)"
   ]
  },
  {
   "cell_type": "code",
   "execution_count": 673,
   "metadata": {
    "collapsed": true
   },
   "outputs": [],
   "source": [
    "df_4 = df_3.join(closed_banks.set_index(['лицензия', 'дата']), how = 'left')"
   ]
  },
  {
   "cell_type": "code",
   "execution_count": 626,
   "metadata": {},
   "outputs": [
    {
     "data": {
      "text/plain": [
       "(74633, 54)"
      ]
     },
     "execution_count": 626,
     "metadata": {},
     "output_type": "execute_result"
    }
   ],
   "source": [
    "df_4.shape"
   ]
  },
  {
   "cell_type": "code",
   "execution_count": 674,
   "metadata": {
    "collapsed": true
   },
   "outputs": [],
   "source": [
    "df_4['default'] = df_4['default'].fillna(0)\n",
    "df_4.drop(['Лицензия_банк'], inplace = True, axis = 1)"
   ]
  },
  {
   "cell_type": "code",
   "execution_count": 593,
   "metadata": {
    "collapsed": true
   },
   "outputs": [],
   "source": [
    "df_4.to_csv('final_data_3' + '.csv',sep=',',header=True, index=True)"
   ]
  },
  {
   "cell_type": "code",
   "execution_count": 591,
   "metadata": {},
   "outputs": [
    {
     "data": {
      "text/html": [
       "<div>\n",
       "<style>\n",
       "    .dataframe thead tr:only-child th {\n",
       "        text-align: right;\n",
       "    }\n",
       "\n",
       "    .dataframe thead th {\n",
       "        text-align: left;\n",
       "    }\n",
       "\n",
       "    .dataframe tbody tr th {\n",
       "        vertical-align: top;\n",
       "    }\n",
       "</style>\n",
       "<table border=\"1\" class=\"dataframe\">\n",
       "  <thead>\n",
       "    <tr style=\"text-align: right;\">\n",
       "      <th></th>\n",
       "      <th></th>\n",
       "      <th>ИД_10</th>\n",
       "      <th>ИД_1000</th>\n",
       "      <th>ИД_110</th>\n",
       "      <th>ИД_120</th>\n",
       "      <th>ИД_130</th>\n",
       "      <th>ИД_140</th>\n",
       "      <th>ИД_160</th>\n",
       "      <th>ИД_260</th>\n",
       "      <th>ИД_30</th>\n",
       "      <th>ИД_300</th>\n",
       "      <th>...</th>\n",
       "      <th>net_foreign_assets</th>\n",
       "      <th>net_gov_debt</th>\n",
       "      <th>other_fin_debt</th>\n",
       "      <th>retail_debt</th>\n",
       "      <th>stocks_capital</th>\n",
       "      <th>i_retail_credit</th>\n",
       "      <th>i_retail_debit</th>\n",
       "      <th>i_retail_spread</th>\n",
       "      <th>N3</th>\n",
       "      <th>default</th>\n",
       "    </tr>\n",
       "    <tr>\n",
       "      <th>лицензия</th>\n",
       "      <th>дата</th>\n",
       "      <th></th>\n",
       "      <th></th>\n",
       "      <th></th>\n",
       "      <th></th>\n",
       "      <th></th>\n",
       "      <th></th>\n",
       "      <th></th>\n",
       "      <th></th>\n",
       "      <th></th>\n",
       "      <th></th>\n",
       "      <th></th>\n",
       "      <th></th>\n",
       "      <th></th>\n",
       "      <th></th>\n",
       "      <th></th>\n",
       "      <th></th>\n",
       "      <th></th>\n",
       "      <th></th>\n",
       "      <th></th>\n",
       "      <th></th>\n",
       "      <th></th>\n",
       "    </tr>\n",
       "  </thead>\n",
       "  <tbody>\n",
       "    <tr>\n",
       "      <th rowspan=\"5\" valign=\"top\">0</th>\n",
       "      <th>2010-02-01</th>\n",
       "      <td>423 017</td>\n",
       "      <td>27</td>\n",
       "      <td>112 770</td>\n",
       "      <td>60 000</td>\n",
       "      <td>0</td>\n",
       "      <td>0</td>\n",
       "      <td>0</td>\n",
       "      <td>0</td>\n",
       "      <td>102</td>\n",
       "      <td>225 000</td>\n",
       "      <td>...</td>\n",
       "      <td>14168103</td>\n",
       "      <td>-5439869</td>\n",
       "      <td>529987</td>\n",
       "      <td>3913803</td>\n",
       "      <td>6279331</td>\n",
       "      <td>17.2</td>\n",
       "      <td>6.2</td>\n",
       "      <td>11.0</td>\n",
       "      <td>NaN</td>\n",
       "      <td>0.0</td>\n",
       "    </tr>\n",
       "    <tr>\n",
       "      <th>2010-03-01</th>\n",
       "      <td>498 411</td>\n",
       "      <td>75</td>\n",
       "      <td>172 628</td>\n",
       "      <td>90 000</td>\n",
       "      <td>0</td>\n",
       "      <td>0</td>\n",
       "      <td>0</td>\n",
       "      <td>0</td>\n",
       "      <td>569</td>\n",
       "      <td>225 000</td>\n",
       "      <td>...</td>\n",
       "      <td>14039665</td>\n",
       "      <td>-5008998</td>\n",
       "      <td>508111</td>\n",
       "      <td>3898961</td>\n",
       "      <td>6283624</td>\n",
       "      <td>17.1</td>\n",
       "      <td>6.0</td>\n",
       "      <td>11.1</td>\n",
       "      <td>NaN</td>\n",
       "      <td>0.0</td>\n",
       "    </tr>\n",
       "    <tr>\n",
       "      <th>2010-04-01</th>\n",
       "      <td>571 220</td>\n",
       "      <td>54</td>\n",
       "      <td>211 860</td>\n",
       "      <td>90 000</td>\n",
       "      <td>0</td>\n",
       "      <td>0</td>\n",
       "      <td>0</td>\n",
       "      <td>997</td>\n",
       "      <td>651</td>\n",
       "      <td>227 287</td>\n",
       "      <td>...</td>\n",
       "      <td>13815998</td>\n",
       "      <td>-4916261</td>\n",
       "      <td>507036</td>\n",
       "      <td>3910081</td>\n",
       "      <td>6347867</td>\n",
       "      <td>17.1</td>\n",
       "      <td>6.1</td>\n",
       "      <td>11.0</td>\n",
       "      <td>NaN</td>\n",
       "      <td>0.0</td>\n",
       "    </tr>\n",
       "    <tr>\n",
       "      <th>2010-05-01</th>\n",
       "      <td>523 027</td>\n",
       "      <td>41</td>\n",
       "      <td>159 970</td>\n",
       "      <td>90 000</td>\n",
       "      <td>0</td>\n",
       "      <td>0</td>\n",
       "      <td>0</td>\n",
       "      <td>481</td>\n",
       "      <td>677</td>\n",
       "      <td>227 130</td>\n",
       "      <td>...</td>\n",
       "      <td>14067700</td>\n",
       "      <td>-5051224</td>\n",
       "      <td>507117</td>\n",
       "      <td>3955282</td>\n",
       "      <td>6383875</td>\n",
       "      <td>17.1</td>\n",
       "      <td>6.0</td>\n",
       "      <td>11.1</td>\n",
       "      <td>NaN</td>\n",
       "      <td>0.0</td>\n",
       "    </tr>\n",
       "    <tr>\n",
       "      <th>2010-06-01</th>\n",
       "      <td>473 713</td>\n",
       "      <td>31</td>\n",
       "      <td>131 782</td>\n",
       "      <td>135 000</td>\n",
       "      <td>0</td>\n",
       "      <td>0</td>\n",
       "      <td>0</td>\n",
       "      <td>485</td>\n",
       "      <td>644</td>\n",
       "      <td>191 306</td>\n",
       "      <td>...</td>\n",
       "      <td>14454661</td>\n",
       "      <td>-4878647</td>\n",
       "      <td>496365</td>\n",
       "      <td>4014144</td>\n",
       "      <td>6356903</td>\n",
       "      <td>17.2</td>\n",
       "      <td>5.8</td>\n",
       "      <td>11.4</td>\n",
       "      <td>NaN</td>\n",
       "      <td>0.0</td>\n",
       "    </tr>\n",
       "  </tbody>\n",
       "</table>\n",
       "<p>5 rows × 53 columns</p>\n",
       "</div>"
      ],
      "text/plain": [
       "                       ИД_10 ИД_1000   ИД_110   ИД_120 ИД_130 ИД_140 ИД_160  \\\n",
       "лицензия дата                                                                 \n",
       "0        2010-02-01  423 017      27  112 770   60 000      0      0      0   \n",
       "         2010-03-01  498 411      75  172 628   90 000      0      0      0   \n",
       "         2010-04-01  571 220      54  211 860   90 000      0      0      0   \n",
       "         2010-05-01  523 027      41  159 970   90 000      0      0      0   \n",
       "         2010-06-01  473 713      31  131 782  135 000      0      0      0   \n",
       "\n",
       "                    ИД_260 ИД_30   ИД_300   ...    net_foreign_assets  \\\n",
       "лицензия дата                               ...                         \n",
       "0        2010-02-01      0   102  225 000   ...              14168103   \n",
       "         2010-03-01      0   569  225 000   ...              14039665   \n",
       "         2010-04-01    997   651  227 287   ...              13815998   \n",
       "         2010-05-01    481   677  227 130   ...              14067700   \n",
       "         2010-06-01    485   644  191 306   ...              14454661   \n",
       "\n",
       "                    net_gov_debt other_fin_debt retail_debt stocks_capital  \\\n",
       "лицензия дата                                                                \n",
       "0        2010-02-01     -5439869         529987     3913803        6279331   \n",
       "         2010-03-01     -5008998         508111     3898961        6283624   \n",
       "         2010-04-01     -4916261         507036     3910081        6347867   \n",
       "         2010-05-01     -5051224         507117     3955282        6383875   \n",
       "         2010-06-01     -4878647         496365     4014144        6356903   \n",
       "\n",
       "                    i_retail_credit i_retail_debit i_retail_spread  N3  \\\n",
       "лицензия дата                                                            \n",
       "0        2010-02-01            17.2            6.2            11.0 NaN   \n",
       "         2010-03-01            17.1            6.0            11.1 NaN   \n",
       "         2010-04-01            17.1            6.1            11.0 NaN   \n",
       "         2010-05-01            17.1            6.0            11.1 NaN   \n",
       "         2010-06-01            17.2            5.8            11.4 NaN   \n",
       "\n",
       "                     default  \n",
       "лицензия дата                 \n",
       "0        2010-02-01      0.0  \n",
       "         2010-03-01      0.0  \n",
       "         2010-04-01      0.0  \n",
       "         2010-05-01      0.0  \n",
       "         2010-06-01      0.0  \n",
       "\n",
       "[5 rows x 53 columns]"
      ]
     },
     "execution_count": 591,
     "metadata": {},
     "output_type": "execute_result"
    }
   ],
   "source": [
    "df_4.head(5)"
   ]
  },
  {
   "cell_type": "code",
   "execution_count": 676,
   "metadata": {
    "collapsed": true
   },
   "outputs": [],
   "source": [
    "# очистка данных:\n",
    "\n",
    "gg = lambda x: x.replace('?','-') # ? -> -\n",
    "pp = lambda y: y.replace(' ', '') # убратб пробелы\n",
    "cc = lambda z: z.replace(',','.') # , -> .\n",
    "\n",
    "item = ['10', '1000','110','120','130', '140','160', '260', '30', '300', '360','40', '400', '50', '500', '60', '70', '1100', '200','1300', '1400', '1500', '401', '1800', '1700','1600']\n",
    "for i in item:\n",
    "    a = \"ИД_\" + i\n",
    "    df_4[a] = df_4[a].astype(str)\n",
    "    df_4[a] = df_4[a].apply(gg)\n",
    "    df_4[a] = df_4[a].apply(pp)\n",
    "    df_4[a] = df_4[a].apply(cc)"
   ]
  },
  {
   "cell_type": "code",
   "execution_count": 677,
   "metadata": {
    "collapsed": true
   },
   "outputs": [],
   "source": [
    "# часть данных оказалась в долях, а не в %: исправим это\n",
    "df_4['ИД_1000'] = df_4['ИД_1000'].astype(float) + (df_4['ИД_1000'].astype(float) < 0)*df_4['ИД_1000'].astype(float)*99\n",
    "df_4['ИД_1100'] = df_4['ИД_1100'].astype(float) + (df_4['ИД_1100'].astype(float) < 0)*df_4['ИД_1100'].astype(float)*99"
   ]
  },
  {
   "cell_type": "code",
   "execution_count": 679,
   "metadata": {
    "collapsed": true
   },
   "outputs": [],
   "source": [
    "# перевести в числовой тип\n",
    "item = ['10', '1000','110','120','130', '140','160', '260', '30', '300', '360','40', '400', '50', '500', '60', '70', '1100', '200','1300', '1400', '1500', '401', '1800', '1700','1600']\n",
    "for i in item:\n",
    "    a = \"ИД_\" + i\n",
    "    df_4[a] = df_4[a].astype(float)"
   ]
  },
  {
   "cell_type": "code",
   "execution_count": 651,
   "metadata": {
    "collapsed": true
   },
   "outputs": [],
   "source": [
    "df_4.to_csv('final_data_5' + '.csv',sep=',',header=True, index=True)"
   ]
  },
  {
   "cell_type": "markdown",
   "metadata": {},
   "source": [
    "# Обработка пропусков (NaN)"
   ]
  },
  {
   "cell_type": "code",
   "execution_count": 680,
   "metadata": {
    "collapsed": true
   },
   "outputs": [],
   "source": [
    "df_5 = df_4"
   ]
  },
  {
   "cell_type": "code",
   "execution_count": 691,
   "metadata": {
    "collapsed": true
   },
   "outputs": [],
   "source": [
    "df_5.dropna(thresh = 16, subset = ['ИД_10', 'ИД_1000','ИД_110','ИД_120','ИД_130', 'ИД_140','ИД_160', 'ИД_260',\\\n",
    "                                  'ИД_30', 'ИД_300', 'ИД_360','ИД_40', 'ИД_400', 'ИД_50', 'ИД_500', 'ИД_60',\\\n",
    "                                  'ИД_70', 'ИД_1100'],\n",
    "           inplace = True)"
   ]
  },
  {
   "cell_type": "code",
   "execution_count": 731,
   "metadata": {},
   "outputs": [
    {
     "data": {
      "text/plain": [
       "'ИД_10'"
      ]
     },
     "execution_count": 731,
     "metadata": {},
     "output_type": "execute_result"
    }
   ],
   "source": [
    "col = df_5.columns"
   ]
  },
  {
   "cell_type": "code",
   "execution_count": 704,
   "metadata": {
    "collapsed": true
   },
   "outputs": [],
   "source": [
    "# Сохраним данные о названиях банков\n",
    "bank_names = df_5.iloc[:, 27]\n",
    "bank_names.to_csv('bank_names' + '.csv',sep=',',header=True, index=True)"
   ]
  },
  {
   "cell_type": "code",
   "execution_count": 705,
   "metadata": {
    "collapsed": true
   },
   "outputs": [],
   "source": [
    "# уберу ненужные столбцы\n",
    "df_5.drop(['лиц_дат', 'банк'], inplace = True, axis = 1)"
   ]
  },
  {
   "cell_type": "code",
   "execution_count": 721,
   "metadata": {
    "collapsed": true
   },
   "outputs": [],
   "source": [
    "# Трюк, чтобы индексы стали столбцами\n",
    "df_5.to_csv('final_data_6' + '.csv',sep=',',header=True, index=True)\n",
    "df_6 = pd.read_csv('final_data_6.csv',sep=',', header = 0,  encoding=\"cp1251\")\n",
    "\n",
    "# Отдельно запишем индексы\n",
    "lic = df_6['лицензия']\n",
    "dat = df_6['дата']"
   ]
  },
  {
   "cell_type": "code",
   "execution_count": 726,
   "metadata": {
    "collapsed": true
   },
   "outputs": [],
   "source": [
    "# Заполним пропуски медианой\n",
    "from sklearn.preprocessing import Imputer\n",
    "imr = Imputer(missing_values = 'NaN', strategy = 'median', axis = 0)\n",
    "imr.fit(df_5)\n",
    "df_imp = df_5\n",
    "df_imp = imr.transform(df_5.values)"
   ]
  },
  {
   "cell_type": "code",
   "execution_count": 735,
   "metadata": {},
   "outputs": [
    {
     "data": {
      "text/html": [
       "<div>\n",
       "<style>\n",
       "    .dataframe thead tr:only-child th {\n",
       "        text-align: right;\n",
       "    }\n",
       "\n",
       "    .dataframe thead th {\n",
       "        text-align: left;\n",
       "    }\n",
       "\n",
       "    .dataframe tbody tr th {\n",
       "        vertical-align: top;\n",
       "    }\n",
       "</style>\n",
       "<table border=\"1\" class=\"dataframe\">\n",
       "  <thead>\n",
       "    <tr style=\"text-align: right;\">\n",
       "      <th></th>\n",
       "      <th></th>\n",
       "      <th>ИД_10</th>\n",
       "      <th>ИД_1000</th>\n",
       "      <th>ИД_110</th>\n",
       "      <th>ИД_120</th>\n",
       "      <th>ИД_130</th>\n",
       "      <th>ИД_140</th>\n",
       "      <th>ИД_160</th>\n",
       "      <th>ИД_260</th>\n",
       "      <th>ИД_30</th>\n",
       "      <th>ИД_300</th>\n",
       "      <th>...</th>\n",
       "      <th>net_foreign_assets</th>\n",
       "      <th>net_gov_debt</th>\n",
       "      <th>other_fin_debt</th>\n",
       "      <th>retail_debt</th>\n",
       "      <th>stocks_capital</th>\n",
       "      <th>i_retail_credit</th>\n",
       "      <th>i_retail_debit</th>\n",
       "      <th>i_retail_spread</th>\n",
       "      <th>N3</th>\n",
       "      <th>default</th>\n",
       "    </tr>\n",
       "    <tr>\n",
       "      <th>лицензия</th>\n",
       "      <th>дата</th>\n",
       "      <th></th>\n",
       "      <th></th>\n",
       "      <th></th>\n",
       "      <th></th>\n",
       "      <th></th>\n",
       "      <th></th>\n",
       "      <th></th>\n",
       "      <th></th>\n",
       "      <th></th>\n",
       "      <th></th>\n",
       "      <th></th>\n",
       "      <th></th>\n",
       "      <th></th>\n",
       "      <th></th>\n",
       "      <th></th>\n",
       "      <th></th>\n",
       "      <th></th>\n",
       "      <th></th>\n",
       "      <th></th>\n",
       "      <th></th>\n",
       "      <th></th>\n",
       "    </tr>\n",
       "  </thead>\n",
       "  <tbody>\n",
       "    <tr>\n",
       "      <th rowspan=\"5\" valign=\"top\">0</th>\n",
       "      <th>2010-02-01</th>\n",
       "      <td>423017.0</td>\n",
       "      <td>27.0</td>\n",
       "      <td>112770.0</td>\n",
       "      <td>60000.0</td>\n",
       "      <td>0.0</td>\n",
       "      <td>0.0</td>\n",
       "      <td>0.0</td>\n",
       "      <td>0.0</td>\n",
       "      <td>102.0</td>\n",
       "      <td>225000.0</td>\n",
       "      <td>...</td>\n",
       "      <td>14168103.0</td>\n",
       "      <td>-5439869.0</td>\n",
       "      <td>529987.0</td>\n",
       "      <td>3913803.0</td>\n",
       "      <td>6279331.0</td>\n",
       "      <td>17.2</td>\n",
       "      <td>6.2</td>\n",
       "      <td>11.0</td>\n",
       "      <td>92.27</td>\n",
       "      <td>0.0</td>\n",
       "    </tr>\n",
       "    <tr>\n",
       "      <th>2010-03-01</th>\n",
       "      <td>498411.0</td>\n",
       "      <td>75.0</td>\n",
       "      <td>172628.0</td>\n",
       "      <td>90000.0</td>\n",
       "      <td>0.0</td>\n",
       "      <td>0.0</td>\n",
       "      <td>0.0</td>\n",
       "      <td>0.0</td>\n",
       "      <td>569.0</td>\n",
       "      <td>225000.0</td>\n",
       "      <td>...</td>\n",
       "      <td>14039665.0</td>\n",
       "      <td>-5008998.0</td>\n",
       "      <td>508111.0</td>\n",
       "      <td>3898961.0</td>\n",
       "      <td>6283624.0</td>\n",
       "      <td>17.1</td>\n",
       "      <td>6.0</td>\n",
       "      <td>11.1</td>\n",
       "      <td>92.27</td>\n",
       "      <td>0.0</td>\n",
       "    </tr>\n",
       "    <tr>\n",
       "      <th>2010-04-01</th>\n",
       "      <td>571220.0</td>\n",
       "      <td>54.0</td>\n",
       "      <td>211860.0</td>\n",
       "      <td>90000.0</td>\n",
       "      <td>0.0</td>\n",
       "      <td>0.0</td>\n",
       "      <td>0.0</td>\n",
       "      <td>997.0</td>\n",
       "      <td>651.0</td>\n",
       "      <td>227287.0</td>\n",
       "      <td>...</td>\n",
       "      <td>13815998.0</td>\n",
       "      <td>-4916261.0</td>\n",
       "      <td>507036.0</td>\n",
       "      <td>3910081.0</td>\n",
       "      <td>6347867.0</td>\n",
       "      <td>17.1</td>\n",
       "      <td>6.1</td>\n",
       "      <td>11.0</td>\n",
       "      <td>92.27</td>\n",
       "      <td>0.0</td>\n",
       "    </tr>\n",
       "    <tr>\n",
       "      <th>2010-05-01</th>\n",
       "      <td>523027.0</td>\n",
       "      <td>41.0</td>\n",
       "      <td>159970.0</td>\n",
       "      <td>90000.0</td>\n",
       "      <td>0.0</td>\n",
       "      <td>0.0</td>\n",
       "      <td>0.0</td>\n",
       "      <td>481.0</td>\n",
       "      <td>677.0</td>\n",
       "      <td>227130.0</td>\n",
       "      <td>...</td>\n",
       "      <td>14067700.0</td>\n",
       "      <td>-5051224.0</td>\n",
       "      <td>507117.0</td>\n",
       "      <td>3955282.0</td>\n",
       "      <td>6383875.0</td>\n",
       "      <td>17.1</td>\n",
       "      <td>6.0</td>\n",
       "      <td>11.1</td>\n",
       "      <td>92.27</td>\n",
       "      <td>0.0</td>\n",
       "    </tr>\n",
       "    <tr>\n",
       "      <th>2010-06-01</th>\n",
       "      <td>473713.0</td>\n",
       "      <td>31.0</td>\n",
       "      <td>131782.0</td>\n",
       "      <td>135000.0</td>\n",
       "      <td>0.0</td>\n",
       "      <td>0.0</td>\n",
       "      <td>0.0</td>\n",
       "      <td>485.0</td>\n",
       "      <td>644.0</td>\n",
       "      <td>191306.0</td>\n",
       "      <td>...</td>\n",
       "      <td>14454661.0</td>\n",
       "      <td>-4878647.0</td>\n",
       "      <td>496365.0</td>\n",
       "      <td>4014144.0</td>\n",
       "      <td>6356903.0</td>\n",
       "      <td>17.2</td>\n",
       "      <td>5.8</td>\n",
       "      <td>11.4</td>\n",
       "      <td>92.27</td>\n",
       "      <td>0.0</td>\n",
       "    </tr>\n",
       "  </tbody>\n",
       "</table>\n",
       "<p>5 rows × 51 columns</p>\n",
       "</div>"
      ],
      "text/plain": [
       "                        ИД_10  ИД_1000    ИД_110    ИД_120  ИД_130  ИД_140  \\\n",
       "лицензия дата                                                                \n",
       "0        2010-02-01  423017.0     27.0  112770.0   60000.0     0.0     0.0   \n",
       "         2010-03-01  498411.0     75.0  172628.0   90000.0     0.0     0.0   \n",
       "         2010-04-01  571220.0     54.0  211860.0   90000.0     0.0     0.0   \n",
       "         2010-05-01  523027.0     41.0  159970.0   90000.0     0.0     0.0   \n",
       "         2010-06-01  473713.0     31.0  131782.0  135000.0     0.0     0.0   \n",
       "\n",
       "                     ИД_160  ИД_260  ИД_30    ИД_300   ...     \\\n",
       "лицензия дата                                          ...      \n",
       "0        2010-02-01     0.0     0.0  102.0  225000.0   ...      \n",
       "         2010-03-01     0.0     0.0  569.0  225000.0   ...      \n",
       "         2010-04-01     0.0   997.0  651.0  227287.0   ...      \n",
       "         2010-05-01     0.0   481.0  677.0  227130.0   ...      \n",
       "         2010-06-01     0.0   485.0  644.0  191306.0   ...      \n",
       "\n",
       "                     net_foreign_assets  net_gov_debt  other_fin_debt  \\\n",
       "лицензия дата                                                           \n",
       "0        2010-02-01          14168103.0    -5439869.0        529987.0   \n",
       "         2010-03-01          14039665.0    -5008998.0        508111.0   \n",
       "         2010-04-01          13815998.0    -4916261.0        507036.0   \n",
       "         2010-05-01          14067700.0    -5051224.0        507117.0   \n",
       "         2010-06-01          14454661.0    -4878647.0        496365.0   \n",
       "\n",
       "                     retail_debt  stocks_capital  i_retail_credit  \\\n",
       "лицензия дата                                                       \n",
       "0        2010-02-01    3913803.0       6279331.0             17.2   \n",
       "         2010-03-01    3898961.0       6283624.0             17.1   \n",
       "         2010-04-01    3910081.0       6347867.0             17.1   \n",
       "         2010-05-01    3955282.0       6383875.0             17.1   \n",
       "         2010-06-01    4014144.0       6356903.0             17.2   \n",
       "\n",
       "                     i_retail_debit  i_retail_spread     N3  default  \n",
       "лицензия дата                                                         \n",
       "0        2010-02-01             6.2             11.0  92.27      0.0  \n",
       "         2010-03-01             6.0             11.1  92.27      0.0  \n",
       "         2010-04-01             6.1             11.0  92.27      0.0  \n",
       "         2010-05-01             6.0             11.1  92.27      0.0  \n",
       "         2010-06-01             5.8             11.4  92.27      0.0  \n",
       "\n",
       "[5 rows x 51 columns]"
      ]
     },
     "execution_count": 735,
     "metadata": {},
     "output_type": "execute_result"
    }
   ],
   "source": [
    "# Добавим индексы\n",
    "df_imp = pd.DataFrame(df_imp, columns = col)\n",
    "df_imp['лицензия'] = lic\n",
    "df_imp['дата'] = dat\n",
    "df_imp = df_imp.set_index(['лицензия', 'дата'])\n",
    "df_imp.head(5)"
   ]
  },
  {
   "cell_type": "markdown",
   "metadata": {},
   "source": [
    "# Переименуем названия столбцов"
   ]
  },
  {
   "cell_type": "code",
   "execution_count": 736,
   "metadata": {},
   "outputs": [
    {
     "data": {
      "text/plain": [
       "Index(['ИД_10', 'ИД_1000', 'ИД_110', 'ИД_120', 'ИД_130', 'ИД_140', 'ИД_160',\n",
       "       'ИД_260', 'ИД_30', 'ИД_300', 'ИД_360', 'ИД_40', 'ИД_400', 'ИД_50',\n",
       "       'ИД_500', 'ИД_60', 'ИД_70', 'ИД_1100', 'ИД_200', 'ИД_1300', 'ИД_1400',\n",
       "       'ИД_1500', 'ИД_401', 'ИД_1800', 'ИД_1700', 'ИД_1600', 'capital',\n",
       "       'msk_spb', 'M2', 'M2_SA', 'INF_SA', 'NX', 'NX_log', 'Nx_growth',\n",
       "       'usd_rub', 'usd_rub_std', 'micex', 'micex_std', 'miacr', 'miacr_std',\n",
       "       'miacr_amount', 'net_foreign_assets', 'net_gov_debt', 'other_fin_debt',\n",
       "       'retail_debt', 'stocks_capital', 'i_retail_credit', 'i_retail_debit',\n",
       "       'i_retail_spread', 'N3', 'default'],\n",
       "      dtype='object')"
      ]
     },
     "execution_count": 736,
     "metadata": {},
     "output_type": "execute_result"
    }
   ],
   "source": [
    "df_imp.columns"
   ]
  },
  {
   "cell_type": "code",
   "execution_count": 753,
   "metadata": {
    "collapsed": true
   },
   "outputs": [],
   "source": [
    "columns = ['net_assets', 'ROA', 'liquid', 'ibl', 'stocks', 'bond', 'oth_cap', 'sunk_retail_credit',\\\n",
    "          'NI', 'organization_credit', 'sunk_organization_credit', 'credit_portf', 'drop', 'sunk_credit_portf',\\\n",
    "          'organization_deposit', 'retail_deposit', 'security_tot', 'ROE', 'retail_credit', 'reserv_credit_perc',\\\n",
    "          'zalog_credit_perc', 'foreign_na_fr', 'retail_deposit_fr', 'N3', 'N2', 'N1', 'capital',\\\n",
    "           'msk_spb', 'M2', 'M2_SA', 'INF_SA', 'NX', 'NX_log', 'Nx_growth',\\\n",
    "           'usd_rub', 'usd_rub_std', 'micex', 'micex_std', 'miacr', 'miacr_std',\\\n",
    "           'miacr_amount', 'net_foreign_assets', 'net_gov_debt', 'other_fin_debt',\\\n",
    "           'retail_debt', 'stocks_capital', 'i_retail_credit', 'i_retail_debit',\\\n",
    "           'i_retail_spread', 'N3.1', 'default']"
   ]
  },
  {
   "cell_type": "code",
   "execution_count": 754,
   "metadata": {
    "collapsed": true
   },
   "outputs": [],
   "source": [
    "df_imp.columns = columns\n",
    "df_imp.drop('drop', axis = 1, inplace = True)\n",
    "df_imp.to_csv('FINAL_imp' + '.csv',sep=',',header=True, index=True)"
   ]
  },
  {
   "cell_type": "code",
   "execution_count": 758,
   "metadata": {
    "collapsed": true
   },
   "outputs": [],
   "source": [
    "# В столбце N3_early показатель Н3 до 2015-01-01, а в N3 - после. Надо их объединить\n",
    "\n",
    "df_imp_1 = pd.read_csv('FINAL_imp.csv',sep=',', header = 0,  encoding=\"cp1251\")\n",
    "df_imp_1['N3'] = df_imp_1['N3']*(df_imp_1['дата'] > '2015-01-01') + df_imp_1['N3.1']*(df_imp_1['дата'] <= '2015-01-01')\n",
    "df_imp_1.drop(['N3.1'], axis = 1, inplace = True)"
   ]
  },
  {
   "cell_type": "code",
   "execution_count": 759,
   "metadata": {},
   "outputs": [
    {
     "data": {
      "text/plain": [
       "1049"
      ]
     },
     "execution_count": 759,
     "metadata": {},
     "output_type": "execute_result"
    }
   ],
   "source": [
    "# количество уникальных банков\n",
    "len(np.unique(lic))"
   ]
  },
  {
   "cell_type": "code",
   "execution_count": 760,
   "metadata": {},
   "outputs": [
    {
     "data": {
      "text/html": [
       "<div>\n",
       "<style>\n",
       "    .dataframe thead tr:only-child th {\n",
       "        text-align: right;\n",
       "    }\n",
       "\n",
       "    .dataframe thead th {\n",
       "        text-align: left;\n",
       "    }\n",
       "\n",
       "    .dataframe tbody tr th {\n",
       "        vertical-align: top;\n",
       "    }\n",
       "</style>\n",
       "<table border=\"1\" class=\"dataframe\">\n",
       "  <thead>\n",
       "    <tr style=\"text-align: right;\">\n",
       "      <th></th>\n",
       "      <th>лицензия</th>\n",
       "      <th>дата</th>\n",
       "      <th>net_assets</th>\n",
       "      <th>ROA</th>\n",
       "      <th>liquid</th>\n",
       "      <th>ibl</th>\n",
       "      <th>stocks</th>\n",
       "      <th>bond</th>\n",
       "      <th>oth_cap</th>\n",
       "      <th>sunk_retail_credit</th>\n",
       "      <th>...</th>\n",
       "      <th>miacr_amount</th>\n",
       "      <th>net_foreign_assets</th>\n",
       "      <th>net_gov_debt</th>\n",
       "      <th>other_fin_debt</th>\n",
       "      <th>retail_debt</th>\n",
       "      <th>stocks_capital</th>\n",
       "      <th>i_retail_credit</th>\n",
       "      <th>i_retail_debit</th>\n",
       "      <th>i_retail_spread</th>\n",
       "      <th>default</th>\n",
       "    </tr>\n",
       "  </thead>\n",
       "  <tbody>\n",
       "    <tr>\n",
       "      <th>0</th>\n",
       "      <td>0</td>\n",
       "      <td>2010-02-01</td>\n",
       "      <td>423017.0</td>\n",
       "      <td>27.0</td>\n",
       "      <td>112770.0</td>\n",
       "      <td>60000.0</td>\n",
       "      <td>0.0</td>\n",
       "      <td>0.0</td>\n",
       "      <td>0.0</td>\n",
       "      <td>0.0</td>\n",
       "      <td>...</td>\n",
       "      <td>2643995.0</td>\n",
       "      <td>14168103.0</td>\n",
       "      <td>-5439869.0</td>\n",
       "      <td>529987.0</td>\n",
       "      <td>3913803.0</td>\n",
       "      <td>6279331.0</td>\n",
       "      <td>17.2</td>\n",
       "      <td>6.2</td>\n",
       "      <td>11.0</td>\n",
       "      <td>0.0</td>\n",
       "    </tr>\n",
       "    <tr>\n",
       "      <th>1</th>\n",
       "      <td>0</td>\n",
       "      <td>2010-03-01</td>\n",
       "      <td>498411.0</td>\n",
       "      <td>75.0</td>\n",
       "      <td>172628.0</td>\n",
       "      <td>90000.0</td>\n",
       "      <td>0.0</td>\n",
       "      <td>0.0</td>\n",
       "      <td>0.0</td>\n",
       "      <td>0.0</td>\n",
       "      <td>...</td>\n",
       "      <td>2643995.0</td>\n",
       "      <td>14039665.0</td>\n",
       "      <td>-5008998.0</td>\n",
       "      <td>508111.0</td>\n",
       "      <td>3898961.0</td>\n",
       "      <td>6283624.0</td>\n",
       "      <td>17.1</td>\n",
       "      <td>6.0</td>\n",
       "      <td>11.1</td>\n",
       "      <td>0.0</td>\n",
       "    </tr>\n",
       "    <tr>\n",
       "      <th>2</th>\n",
       "      <td>0</td>\n",
       "      <td>2010-04-01</td>\n",
       "      <td>571220.0</td>\n",
       "      <td>54.0</td>\n",
       "      <td>211860.0</td>\n",
       "      <td>90000.0</td>\n",
       "      <td>0.0</td>\n",
       "      <td>0.0</td>\n",
       "      <td>0.0</td>\n",
       "      <td>997.0</td>\n",
       "      <td>...</td>\n",
       "      <td>2643995.0</td>\n",
       "      <td>13815998.0</td>\n",
       "      <td>-4916261.0</td>\n",
       "      <td>507036.0</td>\n",
       "      <td>3910081.0</td>\n",
       "      <td>6347867.0</td>\n",
       "      <td>17.1</td>\n",
       "      <td>6.1</td>\n",
       "      <td>11.0</td>\n",
       "      <td>0.0</td>\n",
       "    </tr>\n",
       "    <tr>\n",
       "      <th>3</th>\n",
       "      <td>0</td>\n",
       "      <td>2010-05-01</td>\n",
       "      <td>523027.0</td>\n",
       "      <td>41.0</td>\n",
       "      <td>159970.0</td>\n",
       "      <td>90000.0</td>\n",
       "      <td>0.0</td>\n",
       "      <td>0.0</td>\n",
       "      <td>0.0</td>\n",
       "      <td>481.0</td>\n",
       "      <td>...</td>\n",
       "      <td>2643995.0</td>\n",
       "      <td>14067700.0</td>\n",
       "      <td>-5051224.0</td>\n",
       "      <td>507117.0</td>\n",
       "      <td>3955282.0</td>\n",
       "      <td>6383875.0</td>\n",
       "      <td>17.1</td>\n",
       "      <td>6.0</td>\n",
       "      <td>11.1</td>\n",
       "      <td>0.0</td>\n",
       "    </tr>\n",
       "    <tr>\n",
       "      <th>4</th>\n",
       "      <td>0</td>\n",
       "      <td>2010-06-01</td>\n",
       "      <td>473713.0</td>\n",
       "      <td>31.0</td>\n",
       "      <td>131782.0</td>\n",
       "      <td>135000.0</td>\n",
       "      <td>0.0</td>\n",
       "      <td>0.0</td>\n",
       "      <td>0.0</td>\n",
       "      <td>485.0</td>\n",
       "      <td>...</td>\n",
       "      <td>2643995.0</td>\n",
       "      <td>14454661.0</td>\n",
       "      <td>-4878647.0</td>\n",
       "      <td>496365.0</td>\n",
       "      <td>4014144.0</td>\n",
       "      <td>6356903.0</td>\n",
       "      <td>17.2</td>\n",
       "      <td>5.8</td>\n",
       "      <td>11.4</td>\n",
       "      <td>0.0</td>\n",
       "    </tr>\n",
       "  </tbody>\n",
       "</table>\n",
       "<p>5 rows × 51 columns</p>\n",
       "</div>"
      ],
      "text/plain": [
       "   лицензия        дата  net_assets   ROA    liquid       ibl  stocks  bond  \\\n",
       "0         0  2010-02-01    423017.0  27.0  112770.0   60000.0     0.0   0.0   \n",
       "1         0  2010-03-01    498411.0  75.0  172628.0   90000.0     0.0   0.0   \n",
       "2         0  2010-04-01    571220.0  54.0  211860.0   90000.0     0.0   0.0   \n",
       "3         0  2010-05-01    523027.0  41.0  159970.0   90000.0     0.0   0.0   \n",
       "4         0  2010-06-01    473713.0  31.0  131782.0  135000.0     0.0   0.0   \n",
       "\n",
       "   oth_cap  sunk_retail_credit   ...     miacr_amount  net_foreign_assets  \\\n",
       "0      0.0                 0.0   ...        2643995.0          14168103.0   \n",
       "1      0.0                 0.0   ...        2643995.0          14039665.0   \n",
       "2      0.0               997.0   ...        2643995.0          13815998.0   \n",
       "3      0.0               481.0   ...        2643995.0          14067700.0   \n",
       "4      0.0               485.0   ...        2643995.0          14454661.0   \n",
       "\n",
       "   net_gov_debt  other_fin_debt  retail_debt  stocks_capital  i_retail_credit  \\\n",
       "0    -5439869.0        529987.0    3913803.0       6279331.0             17.2   \n",
       "1    -5008998.0        508111.0    3898961.0       6283624.0             17.1   \n",
       "2    -4916261.0        507036.0    3910081.0       6347867.0             17.1   \n",
       "3    -5051224.0        507117.0    3955282.0       6383875.0             17.1   \n",
       "4    -4878647.0        496365.0    4014144.0       6356903.0             17.2   \n",
       "\n",
       "   i_retail_debit  i_retail_spread  default  \n",
       "0             6.2             11.0      0.0  \n",
       "1             6.0             11.1      0.0  \n",
       "2             6.1             11.0      0.0  \n",
       "3             6.0             11.1      0.0  \n",
       "4             5.8             11.4      0.0  \n",
       "\n",
       "[5 rows x 51 columns]"
      ]
     },
     "execution_count": 760,
     "metadata": {},
     "output_type": "execute_result"
    }
   ],
   "source": [
    "df_imp_1.head(5)"
   ]
  },
  {
   "cell_type": "code",
   "execution_count": 761,
   "metadata": {
    "collapsed": true
   },
   "outputs": [],
   "source": [
    "df_imp_1.to_csv('FINAL_OK_imp' + '.csv',sep=',',header=True, index=True)"
   ]
  }
 ],
 "metadata": {
  "kernelspec": {
   "display_name": "Python 3",
   "language": "python",
   "name": "python3"
  },
  "language_info": {
   "codemirror_mode": {
    "name": "ipython",
    "version": 3
   },
   "file_extension": ".py",
   "mimetype": "text/x-python",
   "name": "python",
   "nbconvert_exporter": "python",
   "pygments_lexer": "ipython3",
   "version": "3.7.3"
  }
 },
 "nbformat": 4,
 "nbformat_minor": 1
}
